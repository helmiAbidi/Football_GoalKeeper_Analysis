{
 "cells": [
  {
   "cell_type": "code",
   "execution_count": 118,
   "metadata": {},
   "outputs": [],
   "source": [
    "from gk_helpers import *"
   ]
  },
  {
   "cell_type": "code",
   "execution_count": 119,
   "metadata": {},
   "outputs": [
    {
     "name": "stderr",
     "output_type": "stream",
     "text": [
      "c:\\Users\\abidi\\Desktop\\Karriere\\Dream_career\\Sport Analytics\\projects\\player_scouting\\football_scouting_model\\notebooks\\gk_helpers.py:179: DtypeWarning:\n",
      "\n",
      "Columns (104) have mixed types. Specify dtype option on import or set low_memory=False.\n",
      "\n",
      "c:\\Users\\abidi\\Desktop\\Karriere\\Dream_career\\Sport Analytics\\projects\\player_scouting\\football_scouting_model\\notebooks\\gk_helpers.py:184: SettingWithCopyWarning:\n",
      "\n",
      "\n",
      "A value is trying to be set on a copy of a slice from a DataFrame\n",
      "\n",
      "See the caveats in the documentation: https://pandas.pydata.org/pandas-docs/stable/user_guide/indexing.html#returning-a-view-versus-a-copy\n",
      "\n",
      "c:\\Users\\abidi\\Desktop\\Karriere\\Dream_career\\Sport Analytics\\projects\\player_scouting\\football_scouting_model\\notebooks\\gk_helpers.py:185: SettingWithCopyWarning:\n",
      "\n",
      "\n",
      "A value is trying to be set on a copy of a slice from a DataFrame\n",
      "\n",
      "See the caveats in the documentation: https://pandas.pydata.org/pandas-docs/stable/user_guide/indexing.html#returning-a-view-versus-a-copy\n",
      "\n",
      "c:\\Users\\abidi\\Desktop\\Karriere\\Dream_career\\Sport Analytics\\projects\\player_scouting\\football_scouting_model\\notebooks\\gk_helpers.py:186: SettingWithCopyWarning:\n",
      "\n",
      "\n",
      "A value is trying to be set on a copy of a slice from a DataFrame\n",
      "\n",
      "See the caveats in the documentation: https://pandas.pydata.org/pandas-docs/stable/user_guide/indexing.html#returning-a-view-versus-a-copy\n",
      "\n",
      "c:\\Users\\abidi\\Desktop\\Karriere\\Dream_career\\Sport Analytics\\projects\\player_scouting\\football_scouting_model\\notebooks\\gk_helpers.py:187: SettingWithCopyWarning:\n",
      "\n",
      "\n",
      "A value is trying to be set on a copy of a slice from a DataFrame\n",
      "\n",
      "See the caveats in the documentation: https://pandas.pydata.org/pandas-docs/stable/user_guide/indexing.html#returning-a-view-versus-a-copy\n",
      "\n",
      "c:\\Users\\abidi\\Desktop\\Karriere\\Dream_career\\Sport Analytics\\projects\\player_scouting\\football_scouting_model\\notebooks\\gk_helpers.py:188: SettingWithCopyWarning:\n",
      "\n",
      "\n",
      "A value is trying to be set on a copy of a slice from a DataFrame\n",
      "\n",
      "See the caveats in the documentation: https://pandas.pydata.org/pandas-docs/stable/user_guide/indexing.html#returning-a-view-versus-a-copy\n",
      "\n"
     ]
    },
    {
     "name": "stdout",
     "output_type": "stream",
     "text": [
      "['de Bundesliga' 'eng Premier League' 'es La Liga' 'fr Ligue 1'\n",
      " 'it Serie A' 'Russian Premier League' 'Portuguese Liga ZON SAGRES'\n",
      " 'Turkish Süper Lig' 'Holland Eredivisie' 'Greek Super League'\n",
      " 'English League Championship' 'South African Premier Division'\n",
      " 'USA Major League Soccer' 'German 2. Bundesliga'\n",
      " 'Argentina Primera División' 'Ukrainian Premier League'\n",
      " 'Chilian Campeonato Nacional' 'Mexican Liga MX'\n",
      " 'Spanish Segunda División' 'Colombian Liga Postobón'\n",
      " 'Belgian Jupiler Pro League' nan 'Korean K League 1' 'French Ligue 2'\n",
      " 'Polish T-Mobile Ekstraklasa' 'Norwegian Eliteserien' 'Danish Superliga'\n",
      " 'Italian Serie B' 'Swiss Super League' 'Scottish Premiership'\n",
      " 'Swedish Allsvenskan' 'Austrian Football Bundesliga'\n",
      " 'Saudi Abdul L. Jameel League' 'English League One'\n",
      " 'Australian Hyundai A-League' 'English League Two'\n",
      " 'Scottish Championship' 'Rep. Ireland Airtricity League']\n"
     ]
    },
    {
     "name": "stderr",
     "output_type": "stream",
     "text": [
      "c:\\Users\\abidi\\Desktop\\Karriere\\Dream_career\\Sport Analytics\\projects\\player_scouting\\football_scouting_model\\notebooks\\gk_helpers.py:179: DtypeWarning:\n",
      "\n",
      "Columns (104) have mixed types. Specify dtype option on import or set low_memory=False.\n",
      "\n",
      "c:\\Users\\abidi\\Desktop\\Karriere\\Dream_career\\Sport Analytics\\projects\\player_scouting\\football_scouting_model\\notebooks\\gk_helpers.py:184: SettingWithCopyWarning:\n",
      "\n",
      "\n",
      "A value is trying to be set on a copy of a slice from a DataFrame\n",
      "\n",
      "See the caveats in the documentation: https://pandas.pydata.org/pandas-docs/stable/user_guide/indexing.html#returning-a-view-versus-a-copy\n",
      "\n",
      "c:\\Users\\abidi\\Desktop\\Karriere\\Dream_career\\Sport Analytics\\projects\\player_scouting\\football_scouting_model\\notebooks\\gk_helpers.py:185: SettingWithCopyWarning:\n",
      "\n",
      "\n",
      "A value is trying to be set on a copy of a slice from a DataFrame\n",
      "\n",
      "See the caveats in the documentation: https://pandas.pydata.org/pandas-docs/stable/user_guide/indexing.html#returning-a-view-versus-a-copy\n",
      "\n",
      "c:\\Users\\abidi\\Desktop\\Karriere\\Dream_career\\Sport Analytics\\projects\\player_scouting\\football_scouting_model\\notebooks\\gk_helpers.py:186: SettingWithCopyWarning:\n",
      "\n",
      "\n",
      "A value is trying to be set on a copy of a slice from a DataFrame\n",
      "\n",
      "See the caveats in the documentation: https://pandas.pydata.org/pandas-docs/stable/user_guide/indexing.html#returning-a-view-versus-a-copy\n",
      "\n",
      "c:\\Users\\abidi\\Desktop\\Karriere\\Dream_career\\Sport Analytics\\projects\\player_scouting\\football_scouting_model\\notebooks\\gk_helpers.py:187: SettingWithCopyWarning:\n",
      "\n",
      "\n",
      "A value is trying to be set on a copy of a slice from a DataFrame\n",
      "\n",
      "See the caveats in the documentation: https://pandas.pydata.org/pandas-docs/stable/user_guide/indexing.html#returning-a-view-versus-a-copy\n",
      "\n",
      "c:\\Users\\abidi\\Desktop\\Karriere\\Dream_career\\Sport Analytics\\projects\\player_scouting\\football_scouting_model\\notebooks\\gk_helpers.py:188: SettingWithCopyWarning:\n",
      "\n",
      "\n",
      "A value is trying to be set on a copy of a slice from a DataFrame\n",
      "\n",
      "See the caveats in the documentation: https://pandas.pydata.org/pandas-docs/stable/user_guide/indexing.html#returning-a-view-versus-a-copy\n",
      "\n",
      "c:\\Users\\abidi\\Desktop\\Karriere\\Dream_career\\Sport Analytics\\projects\\player_scouting\\football_scouting_model\\notebooks\\gk_helpers.py:206: SettingWithCopyWarning:\n",
      "\n",
      "\n",
      "A value is trying to be set on a copy of a slice from a DataFrame\n",
      "\n",
      "See the caveats in the documentation: https://pandas.pydata.org/pandas-docs/stable/user_guide/indexing.html#returning-a-view-versus-a-copy\n",
      "\n"
     ]
    },
    {
     "name": "stdout",
     "output_type": "stream",
     "text": [
      "['de Bundesliga' 'eng Premier League' 'it Serie A'\n",
      " 'Portuguese Liga ZON SAGRES' 'fr Ligue 1' 'es La Liga'\n",
      " 'Turkish Süper Lig' 'Holland Eredivisie' 'Russian Premier League'\n",
      " 'Greek Super League' 'Ukrainian Premier League'\n",
      " 'South African Premier Division' 'Argentina Primera División'\n",
      " 'Mexican Liga MX' 'USA Major League Soccer' 'Scottish Premiership'\n",
      " 'English League Championship' 'Belgian Jupiler Pro League'\n",
      " 'Italian Serie B' 'Chilian Campeonato Nacional' nan 'Korean K League 1'\n",
      " 'Swiss Super League' 'German 2. Bundesliga' 'Danish Superliga'\n",
      " 'Spanish Segunda División' 'French Ligue 2' 'Colombian Liga Postobón'\n",
      " 'English League One' 'Polish T-Mobile Ekstraklasa'\n",
      " 'Saudi Abdul L. Jameel League' 'Campeonato Brasileiro Série A'\n",
      " 'Swedish Allsvenskan' 'Norwegian Eliteserien'\n",
      " 'Australian Hyundai A-League' 'Austrian Football Bundesliga'\n",
      " 'English League Two' 'Rep. Ireland Airtricity League']\n"
     ]
    },
    {
     "name": "stderr",
     "output_type": "stream",
     "text": [
      "c:\\Users\\abidi\\Desktop\\Karriere\\Dream_career\\Sport Analytics\\projects\\player_scouting\\football_scouting_model\\notebooks\\gk_helpers.py:184: SettingWithCopyWarning:\n",
      "\n",
      "\n",
      "A value is trying to be set on a copy of a slice from a DataFrame\n",
      "\n",
      "See the caveats in the documentation: https://pandas.pydata.org/pandas-docs/stable/user_guide/indexing.html#returning-a-view-versus-a-copy\n",
      "\n",
      "c:\\Users\\abidi\\Desktop\\Karriere\\Dream_career\\Sport Analytics\\projects\\player_scouting\\football_scouting_model\\notebooks\\gk_helpers.py:185: SettingWithCopyWarning:\n",
      "\n",
      "\n",
      "A value is trying to be set on a copy of a slice from a DataFrame\n",
      "\n",
      "See the caveats in the documentation: https://pandas.pydata.org/pandas-docs/stable/user_guide/indexing.html#returning-a-view-versus-a-copy\n",
      "\n",
      "c:\\Users\\abidi\\Desktop\\Karriere\\Dream_career\\Sport Analytics\\projects\\player_scouting\\football_scouting_model\\notebooks\\gk_helpers.py:186: SettingWithCopyWarning:\n",
      "\n",
      "\n",
      "A value is trying to be set on a copy of a slice from a DataFrame\n",
      "\n",
      "See the caveats in the documentation: https://pandas.pydata.org/pandas-docs/stable/user_guide/indexing.html#returning-a-view-versus-a-copy\n",
      "\n",
      "c:\\Users\\abidi\\Desktop\\Karriere\\Dream_career\\Sport Analytics\\projects\\player_scouting\\football_scouting_model\\notebooks\\gk_helpers.py:187: SettingWithCopyWarning:\n",
      "\n",
      "\n",
      "A value is trying to be set on a copy of a slice from a DataFrame\n",
      "\n",
      "See the caveats in the documentation: https://pandas.pydata.org/pandas-docs/stable/user_guide/indexing.html#returning-a-view-versus-a-copy\n",
      "\n",
      "c:\\Users\\abidi\\Desktop\\Karriere\\Dream_career\\Sport Analytics\\projects\\player_scouting\\football_scouting_model\\notebooks\\gk_helpers.py:188: SettingWithCopyWarning:\n",
      "\n",
      "\n",
      "A value is trying to be set on a copy of a slice from a DataFrame\n",
      "\n",
      "See the caveats in the documentation: https://pandas.pydata.org/pandas-docs/stable/user_guide/indexing.html#returning-a-view-versus-a-copy\n",
      "\n",
      "c:\\Users\\abidi\\Desktop\\Karriere\\Dream_career\\Sport Analytics\\projects\\player_scouting\\football_scouting_model\\notebooks\\gk_helpers.py:206: SettingWithCopyWarning:\n",
      "\n",
      "\n",
      "A value is trying to be set on a copy of a slice from a DataFrame\n",
      "\n",
      "See the caveats in the documentation: https://pandas.pydata.org/pandas-docs/stable/user_guide/indexing.html#returning-a-view-versus-a-copy\n",
      "\n"
     ]
    },
    {
     "name": "stdout",
     "output_type": "stream",
     "text": [
      "['de Bundesliga' 'eng Premier League' 'it Serie A' 'es La Liga'\n",
      " 'fr Ligue 1' 'Portuguese Liga ZON SAGRES' 'Turkish Süper Lig'\n",
      " 'USA Major League Soccer' 'Ukrainian Premier League'\n",
      " 'Russian Premier League' 'Holland Eredivisie'\n",
      " 'Belgian Jupiler Pro League' 'Mexican Liga MX'\n",
      " 'Argentina Primera División' 'English League Championship'\n",
      " 'Colombian Liga Postobón' 'Campeonato Brasileiro Série A'\n",
      " 'French Ligue 2' 'Chilian Campeonato Nacional'\n",
      " 'South African Premier Division' 'Italian Serie B' 'Swiss Super League'\n",
      " 'Spanish Segunda División' 'Greek Super League' 'German 2. Bundesliga'\n",
      " nan 'Korean K League 1' 'Scottish Premiership' 'Swedish Allsvenskan'\n",
      " 'Austrian Football Bundesliga' 'Japanese J. League Division 1'\n",
      " 'Saudi Abdul L. Jameel League' 'Australian Hyundai A-League'\n",
      " 'Danish Superliga' 'English League One' 'Norwegian Eliteserien'\n",
      " 'Polish T-Mobile Ekstraklasa' 'Campeonato Brasileiro Série B'\n",
      " 'English League Two' 'Rep. Ireland Airtricity League'\n",
      " 'Finnish Veikkausliiga']\n"
     ]
    },
    {
     "name": "stderr",
     "output_type": "stream",
     "text": [
      "c:\\Users\\abidi\\Desktop\\Karriere\\Dream_career\\Sport Analytics\\projects\\player_scouting\\football_scouting_model\\notebooks\\gk_helpers.py:179: DtypeWarning:\n",
      "\n",
      "Columns (81,82,83,84,85) have mixed types. Specify dtype option on import or set low_memory=False.\n",
      "\n",
      "c:\\Users\\abidi\\Desktop\\Karriere\\Dream_career\\Sport Analytics\\projects\\player_scouting\\football_scouting_model\\notebooks\\gk_helpers.py:184: SettingWithCopyWarning:\n",
      "\n",
      "\n",
      "A value is trying to be set on a copy of a slice from a DataFrame\n",
      "\n",
      "See the caveats in the documentation: https://pandas.pydata.org/pandas-docs/stable/user_guide/indexing.html#returning-a-view-versus-a-copy\n",
      "\n",
      "c:\\Users\\abidi\\Desktop\\Karriere\\Dream_career\\Sport Analytics\\projects\\player_scouting\\football_scouting_model\\notebooks\\gk_helpers.py:185: SettingWithCopyWarning:\n",
      "\n",
      "\n",
      "A value is trying to be set on a copy of a slice from a DataFrame\n",
      "\n",
      "See the caveats in the documentation: https://pandas.pydata.org/pandas-docs/stable/user_guide/indexing.html#returning-a-view-versus-a-copy\n",
      "\n",
      "c:\\Users\\abidi\\Desktop\\Karriere\\Dream_career\\Sport Analytics\\projects\\player_scouting\\football_scouting_model\\notebooks\\gk_helpers.py:186: SettingWithCopyWarning:\n",
      "\n",
      "\n",
      "A value is trying to be set on a copy of a slice from a DataFrame\n",
      "\n",
      "See the caveats in the documentation: https://pandas.pydata.org/pandas-docs/stable/user_guide/indexing.html#returning-a-view-versus-a-copy\n",
      "\n",
      "c:\\Users\\abidi\\Desktop\\Karriere\\Dream_career\\Sport Analytics\\projects\\player_scouting\\football_scouting_model\\notebooks\\gk_helpers.py:187: SettingWithCopyWarning:\n",
      "\n",
      "\n",
      "A value is trying to be set on a copy of a slice from a DataFrame\n",
      "\n",
      "See the caveats in the documentation: https://pandas.pydata.org/pandas-docs/stable/user_guide/indexing.html#returning-a-view-versus-a-copy\n",
      "\n",
      "c:\\Users\\abidi\\Desktop\\Karriere\\Dream_career\\Sport Analytics\\projects\\player_scouting\\football_scouting_model\\notebooks\\gk_helpers.py:188: SettingWithCopyWarning:\n",
      "\n",
      "\n",
      "A value is trying to be set on a copy of a slice from a DataFrame\n",
      "\n",
      "See the caveats in the documentation: https://pandas.pydata.org/pandas-docs/stable/user_guide/indexing.html#returning-a-view-versus-a-copy\n",
      "\n",
      "c:\\Users\\abidi\\Desktop\\Karriere\\Dream_career\\Sport Analytics\\projects\\player_scouting\\football_scouting_model\\notebooks\\gk_helpers.py:206: SettingWithCopyWarning:\n",
      "\n",
      "\n",
      "A value is trying to be set on a copy of a slice from a DataFrame\n",
      "\n",
      "See the caveats in the documentation: https://pandas.pydata.org/pandas-docs/stable/user_guide/indexing.html#returning-a-view-versus-a-copy\n",
      "\n"
     ]
    },
    {
     "name": "stdout",
     "output_type": "stream",
     "text": [
      "['de Bundesliga' 'eng Premier League' 'it Serie A' 'es La Liga'\n",
      " 'fr Ligue 1' 'Portuguese Liga ZON SAGRES' 'Turkish Süper Lig'\n",
      " 'Belgian Jupiler Pro League' 'Ukrainian Premier League'\n",
      " 'Russian Premier League' 'Holland Eredivisie'\n",
      " 'Argentina Primera División' 'USA Major League Soccer' 'Mexican Liga MX'\n",
      " 'French Ligue 2' 'Chilian Campeonato Nacional'\n",
      " 'South African Premier Division' 'Spanish Segunda División'\n",
      " 'Swiss Super League' 'Greek Super League' 'Colombian Liga Postobón'\n",
      " 'Campeonato Brasileiro Série A' 'Italian Serie B'\n",
      " 'English League Championship' nan 'Scottish Premiership'\n",
      " 'German 2. Bundesliga' 'Danish Superliga' 'Korean K League 1'\n",
      " 'Swedish Allsvenskan' 'Saudi Abdul L. Jameel League'\n",
      " 'Japanese J. League Division 1' 'Norwegian Eliteserien'\n",
      " 'Austrian Football Bundesliga' 'Polish T-Mobile Ekstraklasa'\n",
      " 'English League One' 'German 3. Bundesliga'\n",
      " 'Czech Republic Gambrinus Liga' 'Australian Hyundai A-League'\n",
      " 'English League Two' 'Rep. Ireland Airtricity League'\n",
      " 'Finnish Veikkausliiga']\n"
     ]
    },
    {
     "name": "stderr",
     "output_type": "stream",
     "text": [
      "c:\\Users\\abidi\\Desktop\\Karriere\\Dream_career\\Sport Analytics\\projects\\player_scouting\\football_scouting_model\\notebooks\\gk_helpers.py:184: SettingWithCopyWarning:\n",
      "\n",
      "\n",
      "A value is trying to be set on a copy of a slice from a DataFrame\n",
      "\n",
      "See the caveats in the documentation: https://pandas.pydata.org/pandas-docs/stable/user_guide/indexing.html#returning-a-view-versus-a-copy\n",
      "\n",
      "c:\\Users\\abidi\\Desktop\\Karriere\\Dream_career\\Sport Analytics\\projects\\player_scouting\\football_scouting_model\\notebooks\\gk_helpers.py:185: SettingWithCopyWarning:\n",
      "\n",
      "\n",
      "A value is trying to be set on a copy of a slice from a DataFrame\n",
      "\n",
      "See the caveats in the documentation: https://pandas.pydata.org/pandas-docs/stable/user_guide/indexing.html#returning-a-view-versus-a-copy\n",
      "\n",
      "c:\\Users\\abidi\\Desktop\\Karriere\\Dream_career\\Sport Analytics\\projects\\player_scouting\\football_scouting_model\\notebooks\\gk_helpers.py:186: SettingWithCopyWarning:\n",
      "\n",
      "\n",
      "A value is trying to be set on a copy of a slice from a DataFrame\n",
      "\n",
      "See the caveats in the documentation: https://pandas.pydata.org/pandas-docs/stable/user_guide/indexing.html#returning-a-view-versus-a-copy\n",
      "\n",
      "c:\\Users\\abidi\\Desktop\\Karriere\\Dream_career\\Sport Analytics\\projects\\player_scouting\\football_scouting_model\\notebooks\\gk_helpers.py:187: SettingWithCopyWarning:\n",
      "\n",
      "\n",
      "A value is trying to be set on a copy of a slice from a DataFrame\n",
      "\n",
      "See the caveats in the documentation: https://pandas.pydata.org/pandas-docs/stable/user_guide/indexing.html#returning-a-view-versus-a-copy\n",
      "\n",
      "c:\\Users\\abidi\\Desktop\\Karriere\\Dream_career\\Sport Analytics\\projects\\player_scouting\\football_scouting_model\\notebooks\\gk_helpers.py:188: SettingWithCopyWarning:\n",
      "\n",
      "\n",
      "A value is trying to be set on a copy of a slice from a DataFrame\n",
      "\n",
      "See the caveats in the documentation: https://pandas.pydata.org/pandas-docs/stable/user_guide/indexing.html#returning-a-view-versus-a-copy\n",
      "\n",
      "c:\\Users\\abidi\\Desktop\\Karriere\\Dream_career\\Sport Analytics\\projects\\player_scouting\\football_scouting_model\\notebooks\\gk_helpers.py:206: SettingWithCopyWarning:\n",
      "\n",
      "\n",
      "A value is trying to be set on a copy of a slice from a DataFrame\n",
      "\n",
      "See the caveats in the documentation: https://pandas.pydata.org/pandas-docs/stable/user_guide/indexing.html#returning-a-view-versus-a-copy\n",
      "\n"
     ]
    },
    {
     "name": "stdout",
     "output_type": "stream",
     "text": [
      "['eng Premier League' 'de Bundesliga' 'es La Liga' 'fr Ligue 1'\n",
      " 'it Serie A' 'Portuguese Liga ZON SAGRES' 'German 2. Bundesliga'\n",
      " 'Campeonato Brasileiro Série A' 'Turkish Süper Lig'\n",
      " 'English League Championship' 'Russian Premier League'\n",
      " 'Holland Eredivisie' 'Argentina Primera División' nan 'Mexican Liga MX'\n",
      " 'Ukrainian Premier League' 'South African Premier Division'\n",
      " 'Belgian Jupiler Pro League' 'Italian Serie B' 'Spanish Segunda División'\n",
      " 'French Ligue 2' 'Saudi Abdul L. Jameel League'\n",
      " 'Czech Republic Gambrinus Liga' 'Chilian Campeonato Nacional'\n",
      " 'Colombian Liga Postobón' 'USA Major League Soccer'\n",
      " 'Scottish Premiership' 'Danish Superliga' 'Swiss Super League'\n",
      " 'Korean K League 1' 'Greek Super League' 'Japanese J. League Division 1'\n",
      " 'Norwegian Eliteserien' 'Austrian Football Bundesliga'\n",
      " 'Swedish Allsvenskan' 'Polish T-Mobile Ekstraklasa'\n",
      " 'Chinese Super League' 'Croatian Prva HNL' 'English League One'\n",
      " 'German 3. Bundesliga' 'Australian Hyundai A-League'\n",
      " 'Rep. Ireland Airtricity League' 'English League Two'\n",
      " 'Finnish Veikkausliiga']\n"
     ]
    },
    {
     "name": "stderr",
     "output_type": "stream",
     "text": [
      "c:\\Users\\abidi\\Desktop\\Karriere\\Dream_career\\Sport Analytics\\projects\\player_scouting\\football_scouting_model\\notebooks\\gk_helpers.py:184: SettingWithCopyWarning:\n",
      "\n",
      "\n",
      "A value is trying to be set on a copy of a slice from a DataFrame\n",
      "\n",
      "See the caveats in the documentation: https://pandas.pydata.org/pandas-docs/stable/user_guide/indexing.html#returning-a-view-versus-a-copy\n",
      "\n",
      "c:\\Users\\abidi\\Desktop\\Karriere\\Dream_career\\Sport Analytics\\projects\\player_scouting\\football_scouting_model\\notebooks\\gk_helpers.py:185: SettingWithCopyWarning:\n",
      "\n",
      "\n",
      "A value is trying to be set on a copy of a slice from a DataFrame\n",
      "\n",
      "See the caveats in the documentation: https://pandas.pydata.org/pandas-docs/stable/user_guide/indexing.html#returning-a-view-versus-a-copy\n",
      "\n",
      "c:\\Users\\abidi\\Desktop\\Karriere\\Dream_career\\Sport Analytics\\projects\\player_scouting\\football_scouting_model\\notebooks\\gk_helpers.py:186: SettingWithCopyWarning:\n",
      "\n",
      "\n",
      "A value is trying to be set on a copy of a slice from a DataFrame\n",
      "\n",
      "See the caveats in the documentation: https://pandas.pydata.org/pandas-docs/stable/user_guide/indexing.html#returning-a-view-versus-a-copy\n",
      "\n",
      "c:\\Users\\abidi\\Desktop\\Karriere\\Dream_career\\Sport Analytics\\projects\\player_scouting\\football_scouting_model\\notebooks\\gk_helpers.py:187: SettingWithCopyWarning:\n",
      "\n",
      "\n",
      "A value is trying to be set on a copy of a slice from a DataFrame\n",
      "\n",
      "See the caveats in the documentation: https://pandas.pydata.org/pandas-docs/stable/user_guide/indexing.html#returning-a-view-versus-a-copy\n",
      "\n",
      "c:\\Users\\abidi\\Desktop\\Karriere\\Dream_career\\Sport Analytics\\projects\\player_scouting\\football_scouting_model\\notebooks\\gk_helpers.py:188: SettingWithCopyWarning:\n",
      "\n",
      "\n",
      "A value is trying to be set on a copy of a slice from a DataFrame\n",
      "\n",
      "See the caveats in the documentation: https://pandas.pydata.org/pandas-docs/stable/user_guide/indexing.html#returning-a-view-versus-a-copy\n",
      "\n",
      "c:\\Users\\abidi\\Desktop\\Karriere\\Dream_career\\Sport Analytics\\projects\\player_scouting\\football_scouting_model\\notebooks\\gk_helpers.py:206: SettingWithCopyWarning:\n",
      "\n",
      "\n",
      "A value is trying to be set on a copy of a slice from a DataFrame\n",
      "\n",
      "See the caveats in the documentation: https://pandas.pydata.org/pandas-docs/stable/user_guide/indexing.html#returning-a-view-versus-a-copy\n",
      "\n"
     ]
    },
    {
     "name": "stdout",
     "output_type": "stream",
     "text": [
      "['es La Liga' 'eng Premier League' 'it Serie A' 'de Bundesliga'\n",
      " 'fr Ligue 1' 'Portuguese Liga ZON SAGRES' 'Holland Eredivisie'\n",
      " 'Campeonato Brasileiro Série A' 'Turkish Süper Lig' 'Rest of World'\n",
      " 'Argentina Primera División' nan 'Mexican Liga MX'\n",
      " 'Belgian Jupiler Pro League' 'German 2. Bundesliga'\n",
      " 'English League Championship' 'Spanish Segunda División'\n",
      " 'Saudi Abdul L. Jameel League' 'Norwegian Eliteserien'\n",
      " 'USA Major League Soccer' 'Scottish Premiership' 'Danish Superliga'\n",
      " 'Chinese Super League' 'Czech Republic Gambrinus Liga'\n",
      " 'Korean K League 1' 'Austrian Football Bundesliga' 'French Ligue 2'\n",
      " 'Colombian Liga Postobón' 'Italian Serie B' 'Romanian Liga I'\n",
      " 'Chilian Campeonato Nacional' 'Swiss Super League'\n",
      " 'Japanese J. League Division 1' 'Swedish Allsvenskan'\n",
      " 'Polish T-Mobile Ekstraklasa' 'English League One'\n",
      " 'Australian Hyundai A-League' 'German 3. Bundesliga' 'English League Two'\n",
      " 'Rep. Ireland Airtricity League']\n"
     ]
    },
    {
     "name": "stderr",
     "output_type": "stream",
     "text": [
      "c:\\Users\\abidi\\Desktop\\Karriere\\Dream_career\\Sport Analytics\\projects\\player_scouting\\football_scouting_model\\notebooks\\gk_helpers.py:184: SettingWithCopyWarning:\n",
      "\n",
      "\n",
      "A value is trying to be set on a copy of a slice from a DataFrame\n",
      "\n",
      "See the caveats in the documentation: https://pandas.pydata.org/pandas-docs/stable/user_guide/indexing.html#returning-a-view-versus-a-copy\n",
      "\n",
      "c:\\Users\\abidi\\Desktop\\Karriere\\Dream_career\\Sport Analytics\\projects\\player_scouting\\football_scouting_model\\notebooks\\gk_helpers.py:185: SettingWithCopyWarning:\n",
      "\n",
      "\n",
      "A value is trying to be set on a copy of a slice from a DataFrame\n",
      "\n",
      "See the caveats in the documentation: https://pandas.pydata.org/pandas-docs/stable/user_guide/indexing.html#returning-a-view-versus-a-copy\n",
      "\n",
      "c:\\Users\\abidi\\Desktop\\Karriere\\Dream_career\\Sport Analytics\\projects\\player_scouting\\football_scouting_model\\notebooks\\gk_helpers.py:186: SettingWithCopyWarning:\n",
      "\n",
      "\n",
      "A value is trying to be set on a copy of a slice from a DataFrame\n",
      "\n",
      "See the caveats in the documentation: https://pandas.pydata.org/pandas-docs/stable/user_guide/indexing.html#returning-a-view-versus-a-copy\n",
      "\n",
      "c:\\Users\\abidi\\Desktop\\Karriere\\Dream_career\\Sport Analytics\\projects\\player_scouting\\football_scouting_model\\notebooks\\gk_helpers.py:187: SettingWithCopyWarning:\n",
      "\n",
      "\n",
      "A value is trying to be set on a copy of a slice from a DataFrame\n",
      "\n",
      "See the caveats in the documentation: https://pandas.pydata.org/pandas-docs/stable/user_guide/indexing.html#returning-a-view-versus-a-copy\n",
      "\n",
      "c:\\Users\\abidi\\Desktop\\Karriere\\Dream_career\\Sport Analytics\\projects\\player_scouting\\football_scouting_model\\notebooks\\gk_helpers.py:188: SettingWithCopyWarning:\n",
      "\n",
      "\n",
      "A value is trying to be set on a copy of a slice from a DataFrame\n",
      "\n",
      "See the caveats in the documentation: https://pandas.pydata.org/pandas-docs/stable/user_guide/indexing.html#returning-a-view-versus-a-copy\n",
      "\n",
      "c:\\Users\\abidi\\Desktop\\Karriere\\Dream_career\\Sport Analytics\\projects\\player_scouting\\football_scouting_model\\notebooks\\gk_helpers.py:206: SettingWithCopyWarning:\n",
      "\n",
      "\n",
      "A value is trying to be set on a copy of a slice from a DataFrame\n",
      "\n",
      "See the caveats in the documentation: https://pandas.pydata.org/pandas-docs/stable/user_guide/indexing.html#returning-a-view-versus-a-copy\n",
      "\n"
     ]
    },
    {
     "name": "stdout",
     "output_type": "stream",
     "text": [
      "['es La Liga' 'eng Premier League' 'de Bundesliga' 'it Serie A'\n",
      " 'fr Ligue 1' 'Holland Eredivisie' 'Turkish Süper Lig'\n",
      " 'Portuguese Liga ZON SAGRES' 'Campeonato Brasileiro Série A'\n",
      " 'Belgian Jupiler Pro League' 'Argentina Primera División'\n",
      " 'Russian Premier League' 'Croatian Prva HNL' nan 'Mexican Liga MX'\n",
      " 'English League Championship' 'Greek Super League'\n",
      " 'Czech Republic Gambrinus Liga' 'Spanish Segunda División'\n",
      " 'French Ligue 2' 'Ukrainian Premier League' 'Italian Serie B'\n",
      " 'Danish Superliga' 'Uruguayan Primera División' 'USA Major League Soccer'\n",
      " 'Chilian Campeonato Nacional' 'Swiss Super League' 'Korean K League 1'\n",
      " 'Austrian Football Bundesliga' 'Scottish Premiership'\n",
      " 'Saudi Abdul L. Jameel League' 'Norwegian Eliteserien'\n",
      " 'German 2. Bundesliga' 'Polish T-Mobile Ekstraklasa'\n",
      " 'Colombian Liga Postobón' 'South African Premier Division'\n",
      " 'Ecuadorian Serie A' 'Paraguayan Primera División'\n",
      " 'Japanese J. League Division 1' 'Chinese Super League'\n",
      " 'Swedish Allsvenskan' 'Romanian Liga I' 'Peruvian Primera División'\n",
      " 'English League One' 'Australian Hyundai A-League'\n",
      " 'UAE Arabian Gulf League' 'German 3. Bundesliga'\n",
      " 'Liga de Fútbol Profesional Boliviano' 'English League Two'\n",
      " 'Venezuelan Primera División' 'Rep. Ireland Airtricity League'\n",
      " 'Finnish Veikkausliiga']\n",
      "['es La Liga' 'de Bundesliga' 'eng Premier League' 'fr Ligue 1'\n",
      " 'it Serie A' 'Campeonato Brasileiro Série A' 'Croatian Prva HNL'\n",
      " 'Portuguese Liga ZON SAGRES' 'Greek Super League' 'Italian Serie B'\n",
      " 'Mexican Liga MX' 'Russian Premier League' 'Belgian Jupiler Pro League'\n",
      " 'Turkish Süper Lig' 'Argentina Primera División' 'German 2. Bundesliga'\n",
      " 'Czech Republic Gambrinus Liga' 'Scottish Premiership'\n",
      " 'English League Championship' 'Holland Eredivisie'\n",
      " 'Spanish Segunda División' nan 'Saudi Abdul L. Jameel League'\n",
      " 'Swiss Super League' 'USA Major League Soccer'\n",
      " 'Uruguayan Primera División' 'Ukrainian Premier League'\n",
      " 'Swedish Allsvenskan' 'Paraguayan Primera División' 'Korean K League 1'\n",
      " 'Danish Superliga' 'Colombian Liga Postobón' 'Norwegian Eliteserien'\n",
      " 'Ecuadorian Serie A' 'Austrian Football Bundesliga'\n",
      " 'South African Premier Division' 'Polish T-Mobile Ekstraklasa'\n",
      " 'French Ligue 2' 'Hungarian Nemzeti Bajnokság I' 'Chinese Super League'\n",
      " 'Chilian Campeonato Nacional' 'Cypriot First Division'\n",
      " 'English League One' 'Peruvian Primera División' 'Romanian Liga I'\n",
      " 'Japanese J. League Division 1' 'Australian Hyundai A-League'\n",
      " 'German 3. Bundesliga' 'UAE Arabian Gulf League'\n",
      " 'Liga de Fútbol Profesional Boliviano' 'Venezuelan Primera División'\n",
      " 'English League Two' 'Rep. Ireland Airtricity League'\n",
      " 'Indian Super League' 'English National League' 'Finnish Veikkausliiga']\n"
     ]
    },
    {
     "name": "stderr",
     "output_type": "stream",
     "text": [
      "c:\\Users\\abidi\\Desktop\\Karriere\\Dream_career\\Sport Analytics\\projects\\player_scouting\\football_scouting_model\\notebooks\\gk_helpers.py:179: DtypeWarning:\n",
      "\n",
      "Columns (25,108) have mixed types. Specify dtype option on import or set low_memory=False.\n",
      "\n",
      "c:\\Users\\abidi\\Desktop\\Karriere\\Dream_career\\Sport Analytics\\projects\\player_scouting\\football_scouting_model\\notebooks\\gk_helpers.py:184: SettingWithCopyWarning:\n",
      "\n",
      "\n",
      "A value is trying to be set on a copy of a slice from a DataFrame\n",
      "\n",
      "See the caveats in the documentation: https://pandas.pydata.org/pandas-docs/stable/user_guide/indexing.html#returning-a-view-versus-a-copy\n",
      "\n",
      "c:\\Users\\abidi\\Desktop\\Karriere\\Dream_career\\Sport Analytics\\projects\\player_scouting\\football_scouting_model\\notebooks\\gk_helpers.py:185: SettingWithCopyWarning:\n",
      "\n",
      "\n",
      "A value is trying to be set on a copy of a slice from a DataFrame\n",
      "\n",
      "See the caveats in the documentation: https://pandas.pydata.org/pandas-docs/stable/user_guide/indexing.html#returning-a-view-versus-a-copy\n",
      "\n",
      "c:\\Users\\abidi\\Desktop\\Karriere\\Dream_career\\Sport Analytics\\projects\\player_scouting\\football_scouting_model\\notebooks\\gk_helpers.py:186: SettingWithCopyWarning:\n",
      "\n",
      "\n",
      "A value is trying to be set on a copy of a slice from a DataFrame\n",
      "\n",
      "See the caveats in the documentation: https://pandas.pydata.org/pandas-docs/stable/user_guide/indexing.html#returning-a-view-versus-a-copy\n",
      "\n",
      "c:\\Users\\abidi\\Desktop\\Karriere\\Dream_career\\Sport Analytics\\projects\\player_scouting\\football_scouting_model\\notebooks\\gk_helpers.py:187: SettingWithCopyWarning:\n",
      "\n",
      "\n",
      "A value is trying to be set on a copy of a slice from a DataFrame\n",
      "\n",
      "See the caveats in the documentation: https://pandas.pydata.org/pandas-docs/stable/user_guide/indexing.html#returning-a-view-versus-a-copy\n",
      "\n",
      "c:\\Users\\abidi\\Desktop\\Karriere\\Dream_career\\Sport Analytics\\projects\\player_scouting\\football_scouting_model\\notebooks\\gk_helpers.py:188: SettingWithCopyWarning:\n",
      "\n",
      "\n",
      "A value is trying to be set on a copy of a slice from a DataFrame\n",
      "\n",
      "See the caveats in the documentation: https://pandas.pydata.org/pandas-docs/stable/user_guide/indexing.html#returning-a-view-versus-a-copy\n",
      "\n"
     ]
    }
   ],
   "source": [
    "## Read FIFA Data\n",
    "FIFA_15 = prepare_one_season_FIFA_data(\"15\")\n",
    "FIFA_16 = prepare_one_season_FIFA_data(\"16\")\n",
    "FIFA_17 = prepare_one_season_FIFA_data(\"17\")\n",
    "FIFA_18 = prepare_one_season_FIFA_data(\"18\")\n",
    "FIFA_19 = prepare_one_season_FIFA_data(\"19\")\n",
    "FIFA_20 = prepare_one_season_FIFA_data(\"20\")\n",
    "FIFA_21 = prepare_one_season_FIFA_data(\"21\")\n",
    "FIFA_22 = prepare_one_season_FIFA_data(\"22\")"
   ]
  },
  {
   "cell_type": "code",
   "execution_count": 120,
   "metadata": {},
   "outputs": [
    {
     "data": {
      "text/plain": [
       "1775"
      ]
     },
     "execution_count": 120,
     "metadata": {},
     "output_type": "execute_result"
    }
   ],
   "source": [
    "FIFA_15['long_name'].count()"
   ]
  },
  {
   "cell_type": "code",
   "execution_count": 121,
   "metadata": {},
   "outputs": [
    {
     "data": {
      "text/html": [
       "<div>\n",
       "<style scoped>\n",
       "    .dataframe tbody tr th:only-of-type {\n",
       "        vertical-align: middle;\n",
       "    }\n",
       "\n",
       "    .dataframe tbody tr th {\n",
       "        vertical-align: top;\n",
       "    }\n",
       "\n",
       "    .dataframe thead th {\n",
       "        text-align: right;\n",
       "    }\n",
       "</style>\n",
       "<table border=\"1\" class=\"dataframe\">\n",
       "  <thead>\n",
       "    <tr style=\"text-align: right;\">\n",
       "      <th></th>\n",
       "      <th>long_name</th>\n",
       "      <th>player_positions_15</th>\n",
       "      <th>overall_15</th>\n",
       "      <th>potential_15</th>\n",
       "      <th>value_eur_15</th>\n",
       "      <th>wage_eur_15</th>\n",
       "      <th>club_name_15</th>\n",
       "      <th>age_15</th>\n",
       "      <th>dob</th>\n",
       "      <th>height_cm_15</th>\n",
       "      <th>...</th>\n",
       "      <th>skill_ball_control_15</th>\n",
       "      <th>power_strength_15</th>\n",
       "      <th>mentality_vision_15</th>\n",
       "      <th>mentality_composure_15</th>\n",
       "      <th>goalkeeping_diving_15</th>\n",
       "      <th>goalkeeping_handling_15</th>\n",
       "      <th>goalkeeping_kicking_15</th>\n",
       "      <th>goalkeeping_positioning_15</th>\n",
       "      <th>goalkeeping_reflexes_15</th>\n",
       "      <th>goalkeeping_speed_15</th>\n",
       "    </tr>\n",
       "  </thead>\n",
       "  <tbody>\n",
       "    <tr>\n",
       "      <th>4</th>\n",
       "      <td>Manuel Peter Neuer</td>\n",
       "      <td>GK</td>\n",
       "      <td>90</td>\n",
       "      <td>90</td>\n",
       "      <td>63500000.0</td>\n",
       "      <td>300000.0</td>\n",
       "      <td>FC Bayern München</td>\n",
       "      <td>28</td>\n",
       "      <td>1986-03-27</td>\n",
       "      <td>193</td>\n",
       "      <td>...</td>\n",
       "      <td>31</td>\n",
       "      <td>83</td>\n",
       "      <td>20</td>\n",
       "      <td>NaN</td>\n",
       "      <td>87</td>\n",
       "      <td>85</td>\n",
       "      <td>92</td>\n",
       "      <td>90</td>\n",
       "      <td>86</td>\n",
       "      <td>60.0</td>\n",
       "    </tr>\n",
       "    <tr>\n",
       "      <th>30</th>\n",
       "      <td>Thibaut Courtois</td>\n",
       "      <td>GK</td>\n",
       "      <td>86</td>\n",
       "      <td>90</td>\n",
       "      <td>27000000.0</td>\n",
       "      <td>170000.0</td>\n",
       "      <td>Chelsea</td>\n",
       "      <td>22</td>\n",
       "      <td>1992-05-11</td>\n",
       "      <td>199</td>\n",
       "      <td>...</td>\n",
       "      <td>23</td>\n",
       "      <td>70</td>\n",
       "      <td>25</td>\n",
       "      <td>NaN</td>\n",
       "      <td>84</td>\n",
       "      <td>87</td>\n",
       "      <td>69</td>\n",
       "      <td>86</td>\n",
       "      <td>88</td>\n",
       "      <td>49.0</td>\n",
       "    </tr>\n",
       "    <tr>\n",
       "      <th>32</th>\n",
       "      <td>Petr Čech</td>\n",
       "      <td>GK</td>\n",
       "      <td>85</td>\n",
       "      <td>85</td>\n",
       "      <td>18000000.0</td>\n",
       "      <td>170000.0</td>\n",
       "      <td>Chelsea</td>\n",
       "      <td>32</td>\n",
       "      <td>1982-05-20</td>\n",
       "      <td>196</td>\n",
       "      <td>...</td>\n",
       "      <td>32</td>\n",
       "      <td>65</td>\n",
       "      <td>25</td>\n",
       "      <td>NaN</td>\n",
       "      <td>83</td>\n",
       "      <td>84</td>\n",
       "      <td>73</td>\n",
       "      <td>83</td>\n",
       "      <td>84</td>\n",
       "      <td>49.0</td>\n",
       "    </tr>\n",
       "    <tr>\n",
       "      <th>35</th>\n",
       "      <td>Hugo Lloris</td>\n",
       "      <td>GK</td>\n",
       "      <td>85</td>\n",
       "      <td>86</td>\n",
       "      <td>21000000.0</td>\n",
       "      <td>160000.0</td>\n",
       "      <td>Tottenham Hotspur</td>\n",
       "      <td>27</td>\n",
       "      <td>1986-12-26</td>\n",
       "      <td>188</td>\n",
       "      <td>...</td>\n",
       "      <td>34</td>\n",
       "      <td>43</td>\n",
       "      <td>25</td>\n",
       "      <td>NaN</td>\n",
       "      <td>86</td>\n",
       "      <td>81</td>\n",
       "      <td>71</td>\n",
       "      <td>81</td>\n",
       "      <td>88</td>\n",
       "      <td>64.0</td>\n",
       "    </tr>\n",
       "    <tr>\n",
       "      <th>45</th>\n",
       "      <td>Iker Casillas Fernández</td>\n",
       "      <td>GK</td>\n",
       "      <td>84</td>\n",
       "      <td>84</td>\n",
       "      <td>16500000.0</td>\n",
       "      <td>140000.0</td>\n",
       "      <td>Real Madrid CF</td>\n",
       "      <td>33</td>\n",
       "      <td>1981-05-20</td>\n",
       "      <td>185</td>\n",
       "      <td>...</td>\n",
       "      <td>26</td>\n",
       "      <td>70</td>\n",
       "      <td>25</td>\n",
       "      <td>NaN</td>\n",
       "      <td>87</td>\n",
       "      <td>79</td>\n",
       "      <td>67</td>\n",
       "      <td>79</td>\n",
       "      <td>88</td>\n",
       "      <td>64.0</td>\n",
       "    </tr>\n",
       "  </tbody>\n",
       "</table>\n",
       "<p>5 rows × 23 columns</p>\n",
       "</div>"
      ],
      "text/plain": [
       "                  long_name player_positions_15  overall_15  potential_15  \\\n",
       "4        Manuel Peter Neuer                  GK          90            90   \n",
       "30         Thibaut Courtois                  GK          86            90   \n",
       "32                Petr Čech                  GK          85            85   \n",
       "35              Hugo Lloris                  GK          85            86   \n",
       "45  Iker Casillas Fernández                  GK          84            84   \n",
       "\n",
       "    value_eur_15  wage_eur_15       club_name_15  age_15         dob  \\\n",
       "4     63500000.0     300000.0  FC Bayern München      28  1986-03-27   \n",
       "30    27000000.0     170000.0            Chelsea      22  1992-05-11   \n",
       "32    18000000.0     170000.0            Chelsea      32  1982-05-20   \n",
       "35    21000000.0     160000.0  Tottenham Hotspur      27  1986-12-26   \n",
       "45    16500000.0     140000.0     Real Madrid CF      33  1981-05-20   \n",
       "\n",
       "    height_cm_15  ...  skill_ball_control_15 power_strength_15  \\\n",
       "4            193  ...                     31                83   \n",
       "30           199  ...                     23                70   \n",
       "32           196  ...                     32                65   \n",
       "35           188  ...                     34                43   \n",
       "45           185  ...                     26                70   \n",
       "\n",
       "    mentality_vision_15  mentality_composure_15  goalkeeping_diving_15  \\\n",
       "4                    20                     NaN                     87   \n",
       "30                   25                     NaN                     84   \n",
       "32                   25                     NaN                     83   \n",
       "35                   25                     NaN                     86   \n",
       "45                   25                     NaN                     87   \n",
       "\n",
       "    goalkeeping_handling_15  goalkeeping_kicking_15  \\\n",
       "4                        85                      92   \n",
       "30                       87                      69   \n",
       "32                       84                      73   \n",
       "35                       81                      71   \n",
       "45                       79                      67   \n",
       "\n",
       "    goalkeeping_positioning_15  goalkeeping_reflexes_15  goalkeeping_speed_15  \n",
       "4                           90                       86                  60.0  \n",
       "30                          86                       88                  49.0  \n",
       "32                          83                       84                  49.0  \n",
       "35                          81                       88                  64.0  \n",
       "45                          79                       88                  64.0  \n",
       "\n",
       "[5 rows x 23 columns]"
      ]
     },
     "execution_count": 121,
     "metadata": {},
     "output_type": "execute_result"
    }
   ],
   "source": [
    "FIFA_15.head()"
   ]
  },
  {
   "cell_type": "code",
   "execution_count": 122,
   "metadata": {},
   "outputs": [
    {
     "data": {
      "text/plain": [
       "mentality_composure_15        1.000000\n",
       "league_name_15                0.020845\n",
       "value_eur_15                  0.020845\n",
       "wage_eur_15                   0.020845\n",
       "club_name_15                  0.020845\n",
       "skill_ball_control_15         0.000000\n",
       "goalkeeping_reflexes_15       0.000000\n",
       "goalkeeping_positioning_15    0.000000\n",
       "goalkeeping_kicking_15        0.000000\n",
       "goalkeeping_handling_15       0.000000\n",
       "goalkeeping_diving_15         0.000000\n",
       "mentality_vision_15           0.000000\n",
       "power_strength_15             0.000000\n",
       "long_name                     0.000000\n",
       "skill_long_passing_15         0.000000\n",
       "player_positions_15           0.000000\n",
       "weight_kg_15                  0.000000\n",
       "height_cm_15                  0.000000\n",
       "dob                           0.000000\n",
       "age_15                        0.000000\n",
       "potential_15                  0.000000\n",
       "overall_15                    0.000000\n",
       "goalkeeping_speed_15          0.000000\n",
       "dtype: float64"
      ]
     },
     "execution_count": 122,
     "metadata": {},
     "output_type": "execute_result"
    }
   ],
   "source": [
    "FIFA_15.isnull().sum().sort_values(ascending=False)/FIFA_15.shape[0]\n"
   ]
  },
  {
   "attachments": {},
   "cell_type": "markdown",
   "metadata": {},
   "source": [
    "# Analyse Important Features"
   ]
  },
  {
   "cell_type": "code",
   "execution_count": 123,
   "metadata": {},
   "outputs": [
    {
     "name": "stdout",
     "output_type": "stream",
     "text": [
      "['long_name', 'player_positions_18', 'overall_18', 'potential_18', 'value_eur_18', 'wage_eur_18', 'club_name_18', 'age_18', 'dob', 'height_cm_18', 'weight_kg_18', 'league_name_18', 'skill_long_passing_18', 'skill_ball_control_18', 'power_strength_18', 'mentality_vision_18', 'mentality_composure_18', 'goalkeeping_diving_18', 'goalkeeping_handling_18', 'goalkeeping_kicking_18', 'goalkeeping_positioning_18', 'goalkeeping_reflexes_18', 'goalkeeping_speed_18']\n"
     ]
    }
   ],
   "source": [
    "print(FIFA_18.columns.tolist())"
   ]
  },
  {
   "cell_type": "code",
   "execution_count": 124,
   "metadata": {},
   "outputs": [],
   "source": [
    "from functools import reduce\n",
    "\n",
    "data_frames = [FIFA_19, FIFA_20, FIFA_21] # list of dataframes\n",
    "\n",
    "gk_fifa_ds_train = reduce(lambda  left,right: pd.merge(left,right,on=['long_name','dob'],\n",
    "                                            how='inner'), data_frames)\n"
   ]
  },
  {
   "cell_type": "code",
   "execution_count": 125,
   "metadata": {},
   "outputs": [
    {
     "data": {
      "text/plain": [
       "1099"
      ]
     },
     "execution_count": 125,
     "metadata": {},
     "output_type": "execute_result"
    }
   ],
   "source": [
    "gk_fifa_ds_train[\"long_name\"].count()"
   ]
  },
  {
   "cell_type": "code",
   "execution_count": 126,
   "metadata": {},
   "outputs": [
    {
     "name": "stdout",
     "output_type": "stream",
     "text": [
      "['long_name', 'player_positions_19', 'overall_19', 'potential_19', 'value_eur_19', 'wage_eur_19', 'club_name_19', 'age_19', 'dob', 'height_cm_19', 'weight_kg_19', 'league_name_19', 'skill_long_passing_19', 'skill_ball_control_19', 'power_strength_19', 'mentality_vision_19', 'mentality_composure_19', 'goalkeeping_diving_19', 'goalkeeping_handling_19', 'goalkeeping_kicking_19', 'goalkeeping_positioning_19', 'goalkeeping_reflexes_19', 'goalkeeping_speed_19', 'player_positions_20', 'overall_20', 'potential_20', 'value_eur_20', 'wage_eur_20', 'club_name_20', 'age_20', 'height_cm_20', 'weight_kg_20', 'league_name_20', 'skill_long_passing_20', 'skill_ball_control_20', 'power_strength_20', 'mentality_vision_20', 'mentality_composure_20', 'goalkeeping_diving_20', 'goalkeeping_handling_20', 'goalkeeping_kicking_20', 'goalkeeping_positioning_20', 'goalkeeping_reflexes_20', 'goalkeeping_speed_20', 'player_positions_21', 'overall_21', 'potential_21', 'value_eur_21', 'wage_eur_21', 'club_name_21', 'age_21', 'height_cm_21', 'weight_kg_21', 'league_name_21', 'skill_long_passing_21', 'skill_ball_control_21', 'power_strength_21', 'mentality_vision_21', 'mentality_composure_21', 'goalkeeping_diving_21', 'goalkeeping_handling_21', 'goalkeeping_kicking_21', 'goalkeeping_positioning_21', 'goalkeeping_reflexes_21', 'goalkeeping_speed_21']\n"
     ]
    }
   ],
   "source": [
    "print(gk_fifa_ds_train.columns.tolist())"
   ]
  },
  {
   "cell_type": "code",
   "execution_count": 127,
   "metadata": {},
   "outputs": [],
   "source": [
    "eliminated_columns = ['long_name','dob','player_positions_19','potential_19', 'value_eur_19', 'wage_eur_19','club_name_19', 'age_19', \n",
    "                      'height_cm_19', 'weight_kg_19', 'league_name_19',\n",
    "                      'player_positions_20','potential_20', 'value_eur_20', 'wage_eur_20','club_name_20', 'age_20', \n",
    "                      'height_cm_20', 'weight_kg_20', 'league_name_20',\n",
    "                      'player_positions_21', 'overall_21', 'potential_21', 'value_eur_21', 'wage_eur_21', 'club_name_21',\n",
    "                      'age_21', 'height_cm_21', 'weight_kg_21', 'league_name_21', 'skill_long_passing_21', \n",
    "                      'skill_ball_control_21', 'power_strength_21', 'mentality_vision_21', 'mentality_composure_21', \n",
    "                      'goalkeeping_diving_21', 'goalkeeping_handling_21', 'goalkeeping_kicking_21', \n",
    "                      'goalkeeping_positioning_21', 'goalkeeping_reflexes_21', 'goalkeeping_speed_21']\n",
    "feature_column = list(set(gk_fifa_ds_train.columns.tolist())- set(eliminated_columns))"
   ]
  },
  {
   "cell_type": "code",
   "execution_count": 128,
   "metadata": {},
   "outputs": [
    {
     "data": {
      "text/plain": [
       "24"
      ]
     },
     "execution_count": 128,
     "metadata": {},
     "output_type": "execute_result"
    }
   ],
   "source": [
    "len(feature_column)"
   ]
  },
  {
   "cell_type": "code",
   "execution_count": 129,
   "metadata": {},
   "outputs": [],
   "source": [
    "features, corrolations = [],[]\n",
    "for column in feature_column:\n",
    "    if column != 'overall_21':\n",
    "        corrolations.append( gk_fifa_ds_train['overall_21'].corr(gk_fifa_ds_train[column]))\n",
    "        features.append(column)\n",
    "\n",
    "corr_df = pd.DataFrame(data={'features':features, 'corrolations': corrolations})\n",
    "corr_df.sort_values(by=\"corrolations\",ascending=False,inplace= True)\n",
    "corr_df = corr_df[corr_df['corrolations']>0.5]"
   ]
  },
  {
   "cell_type": "code",
   "execution_count": 130,
   "metadata": {},
   "outputs": [
    {
     "name": "stdout",
     "output_type": "stream",
     "text": [
      "['overall_20', 'goalkeeping_reflexes_20', 'goalkeeping_diving_20', 'goalkeeping_positioning_20', 'goalkeeping_handling_20', 'overall_19', 'goalkeeping_reflexes_19', 'goalkeeping_diving_19', 'goalkeeping_positioning_19', 'goalkeeping_handling_19', 'goalkeeping_kicking_20', 'goalkeeping_kicking_19']\n"
     ]
    }
   ],
   "source": [
    "print(corr_df['features'].tolist())"
   ]
  },
  {
   "cell_type": "code",
   "execution_count": 131,
   "metadata": {},
   "outputs": [
    {
     "data": {
      "text/plain": [
       "12"
      ]
     },
     "execution_count": 131,
     "metadata": {},
     "output_type": "execute_result"
    }
   ],
   "source": [
    "len(corr_df['features'].tolist())"
   ]
  },
  {
   "cell_type": "code",
   "execution_count": 132,
   "metadata": {},
   "outputs": [
    {
     "data": {
      "image/png": "[encoded data removed]",
      "text/plain": [
       "<Figure size 1440x1440 with 1 Axes>"
      ]
     },
     "metadata": {
      "needs_background": "light"
     },
     "output_type": "display_data"
    }
   ],
   "source": [
    "fig = plt.figure(figsize=(20,20))\n",
    "x = corr_df['features'].tolist()\n",
    "y = corr_df['corrolations'].tolist()\n",
    "\n",
    "plt.bar(x,y,align='center') # A bar chart\n",
    "plt.xticks(rotation=90)\n",
    "plt.xlabel('Features')\n",
    "plt.ylabel('Corrolation')\n",
    "# for i in range(len(y)):\n",
    "#     plt.hlines(y[i],0,x[i]) # Here you are drawing the horizontal lines\n",
    "plt.show()"
   ]
  },
  {
   "cell_type": "code",
   "execution_count": 46,
   "metadata": {},
   "outputs": [
    {
     "data": {
      "text/plain": [
       "<seaborn.axisgrid.PairGrid at 0x1b009845e10>"
      ]
     },
     "execution_count": 46,
     "metadata": {},
     "output_type": "execute_result"
    },
    {
     "data": {
      "image/png": "[encoded data removed]",
      "text/plain": [
       "<Figure size 2160x180 with 12 Axes>"
      ]
     },
     "metadata": {
      "needs_background": "light"
     },
     "output_type": "display_data"
    }
   ],
   "source": [
    "import seaborn as sns\n",
    "sns.pairplot(data=gk_fifa_ds_train[['overall_21', *corr_df['features'].tolist()]], diag_kind='kde',\n",
    "             x_vars=corr_df['features'].tolist(),\n",
    "             y_vars=['overall_21'],)"
   ]
  },
  {
   "attachments": {},
   "cell_type": "markdown",
   "metadata": {},
   "source": [
    "# Prepare Train and Test Datasets"
   ]
  },
  {
   "cell_type": "code",
   "execution_count": 47,
   "metadata": {},
   "outputs": [],
   "source": [
    "features_17, target_17 = prepare_train_datasets([FIFA_15, FIFA_16, FIFA_17], 17,2)\n",
    "features_18, target_18 = prepare_train_datasets([FIFA_16, FIFA_17, FIFA_18], 18,2)\n",
    "features_19, target_19 = prepare_train_datasets([FIFA_17, FIFA_18, FIFA_19], 19,2)\n",
    "features_20, target_20 = prepare_train_datasets([FIFA_18, FIFA_19, FIFA_20], 20,2)\n",
    "features_21, target_21 = prepare_train_datasets([FIFA_19, FIFA_20, FIFA_21], 21,2)\n",
    "\n",
    "features_22, target_22 = prepare_train_datasets([FIFA_20, FIFA_21, FIFA_22], 22,2)"
   ]
  },
  {
   "cell_type": "code",
   "execution_count": 48,
   "metadata": {},
   "outputs": [
    {
     "data": {
      "text/html": [
       "<div>\n",
       "<style scoped>\n",
       "    .dataframe tbody tr th:only-of-type {\n",
       "        vertical-align: middle;\n",
       "    }\n",
       "\n",
       "    .dataframe tbody tr th {\n",
       "        vertical-align: top;\n",
       "    }\n",
       "\n",
       "    .dataframe thead th {\n",
       "        text-align: right;\n",
       "    }\n",
       "</style>\n",
       "<table border=\"1\" class=\"dataframe\">\n",
       "  <thead>\n",
       "    <tr style=\"text-align: right;\">\n",
       "      <th></th>\n",
       "      <th>overall_16</th>\n",
       "      <th>goalkeeping_reflexes_16</th>\n",
       "      <th>goalkeeping_diving_16</th>\n",
       "      <th>goalkeeping_positioning_16</th>\n",
       "      <th>goalkeeping_handling_16</th>\n",
       "      <th>overall_15</th>\n",
       "      <th>goalkeeping_reflexes_15</th>\n",
       "      <th>goalkeeping_diving_15</th>\n",
       "      <th>goalkeeping_positioning_15</th>\n",
       "      <th>goalkeeping_handling_15</th>\n",
       "      <th>goalkeeping_kicking_16</th>\n",
       "      <th>goalkeeping_kicking_15</th>\n",
       "    </tr>\n",
       "  </thead>\n",
       "  <tbody>\n",
       "    <tr>\n",
       "      <th>0</th>\n",
       "      <td>90</td>\n",
       "      <td>86</td>\n",
       "      <td>85</td>\n",
       "      <td>90</td>\n",
       "      <td>87</td>\n",
       "      <td>90</td>\n",
       "      <td>86</td>\n",
       "      <td>87</td>\n",
       "      <td>90</td>\n",
       "      <td>85</td>\n",
       "      <td>91</td>\n",
       "      <td>92</td>\n",
       "    </tr>\n",
       "    <tr>\n",
       "      <th>1</th>\n",
       "      <td>86</td>\n",
       "      <td>88</td>\n",
       "      <td>84</td>\n",
       "      <td>86</td>\n",
       "      <td>87</td>\n",
       "      <td>86</td>\n",
       "      <td>88</td>\n",
       "      <td>84</td>\n",
       "      <td>86</td>\n",
       "      <td>87</td>\n",
       "      <td>69</td>\n",
       "      <td>69</td>\n",
       "    </tr>\n",
       "    <tr>\n",
       "      <th>2</th>\n",
       "      <td>85</td>\n",
       "      <td>84</td>\n",
       "      <td>83</td>\n",
       "      <td>83</td>\n",
       "      <td>84</td>\n",
       "      <td>85</td>\n",
       "      <td>84</td>\n",
       "      <td>83</td>\n",
       "      <td>83</td>\n",
       "      <td>84</td>\n",
       "      <td>73</td>\n",
       "      <td>73</td>\n",
       "    </tr>\n",
       "    <tr>\n",
       "      <th>3</th>\n",
       "      <td>85</td>\n",
       "      <td>88</td>\n",
       "      <td>87</td>\n",
       "      <td>81</td>\n",
       "      <td>82</td>\n",
       "      <td>85</td>\n",
       "      <td>88</td>\n",
       "      <td>86</td>\n",
       "      <td>81</td>\n",
       "      <td>81</td>\n",
       "      <td>68</td>\n",
       "      <td>71</td>\n",
       "    </tr>\n",
       "    <tr>\n",
       "      <th>4</th>\n",
       "      <td>84</td>\n",
       "      <td>88</td>\n",
       "      <td>87</td>\n",
       "      <td>79</td>\n",
       "      <td>79</td>\n",
       "      <td>84</td>\n",
       "      <td>88</td>\n",
       "      <td>87</td>\n",
       "      <td>79</td>\n",
       "      <td>79</td>\n",
       "      <td>67</td>\n",
       "      <td>67</td>\n",
       "    </tr>\n",
       "  </tbody>\n",
       "</table>\n",
       "</div>"
      ],
      "text/plain": [
       "   overall_16  goalkeeping_reflexes_16  goalkeeping_diving_16  \\\n",
       "0          90                       86                     85   \n",
       "1          86                       88                     84   \n",
       "2          85                       84                     83   \n",
       "3          85                       88                     87   \n",
       "4          84                       88                     87   \n",
       "\n",
       "   goalkeeping_positioning_16  goalkeeping_handling_16  overall_15  \\\n",
       "0                          90                       87          90   \n",
       "1                          86                       87          86   \n",
       "2                          83                       84          85   \n",
       "3                          81                       82          85   \n",
       "4                          79                       79          84   \n",
       "\n",
       "   goalkeeping_reflexes_15  goalkeeping_diving_15  goalkeeping_positioning_15  \\\n",
       "0                       86                     87                          90   \n",
       "1                       88                     84                          86   \n",
       "2                       84                     83                          83   \n",
       "3                       88                     86                          81   \n",
       "4                       88                     87                          79   \n",
       "\n",
       "   goalkeeping_handling_15  goalkeeping_kicking_16  goalkeeping_kicking_15  \n",
       "0                       85                      91                      92  \n",
       "1                       87                      69                      69  \n",
       "2                       84                      73                      73  \n",
       "3                       81                      68                      71  \n",
       "4                       79                      67                      67  "
      ]
     },
     "execution_count": 48,
     "metadata": {},
     "output_type": "execute_result"
    }
   ],
   "source": [
    "features_17.head()"
   ]
  },
  {
   "attachments": {},
   "cell_type": "markdown",
   "metadata": {},
   "source": [
    "## Baseline Model"
   ]
  },
  {
   "cell_type": "code",
   "execution_count": 49,
   "metadata": {},
   "outputs": [],
   "source": [
    "#gk_overalls = gk_overalls.T.fillna(gk_overalls.iloc[:,2:6].min(axis=1)).T\n",
    "#features_17.isnull().sum().sort_values(ascending=False)/FIFA_15.shape[0]"
   ]
  },
  {
   "cell_type": "code",
   "execution_count": 50,
   "metadata": {},
   "outputs": [
    {
     "name": "stdout",
     "output_type": "stream",
     "text": [
      "10.750739067290622 2.302162336614491\n",
      "0.45586574148781667\n"
     ]
    }
   ],
   "source": [
    "predicted_17, target_17_ = baseline_model(features_17.copy(),target_17.copy(),17)\n",
    "predicted_18, target_18_ = baseline_model(features_18.copy(),target_18.copy(),18)\n",
    "predicted_19, target_19_ = baseline_model(features_19.copy(),target_19.copy(),19)\n",
    "predicted_20, target_20_ = baseline_model(features_20.copy(),target_20.copy(),20)\n",
    "predicted_21, target_21_ = baseline_model(features_21.copy(),target_21.copy(),21)\n",
    "predicted_22, target_22_ = baseline_model(features_22.copy(),target_22.copy(),22)\n",
    "\n",
    "predicted_overall= np.concatenate((predicted_17,predicted_18,predicted_19,predicted_20,predicted_21,predicted_22),axis=0)\n",
    "target_overall = np.concatenate((target_17_,target_18_,target_19_,target_20_,target_21_,target_22_),axis=0)\n",
    "\n",
    "print(mean_squared_error(target_overall,predicted_overall),mean_absolute_error(target_overall,predicted_overall))\n",
    "\n",
    "predicted_overall = np.round(predicted_overall)\n",
    "old_overall = np.concatenate((features_17['overall_16'].to_numpy(dtype=float),features_18['overall_17'].to_numpy(dtype=float),\n",
    "                              features_19['overall_18'].to_numpy(dtype=float),features_20['overall_19'].to_numpy(dtype=float),\n",
    "                              features_21['overall_20'].to_numpy(dtype=float),features_22['overall_21'].to_numpy(dtype=float)),axis=0)\n",
    "\n",
    "train_diff = predicted_overall - old_overall\n",
    "test_diff = target_overall - old_overall\n",
    "\n",
    "\n",
    "train_diff_sign = np.sign(train_diff)\n",
    "test_diff_sign = np.sign(test_diff)\n",
    "\n",
    "test_sign = train_diff_sign == test_diff_sign \n",
    "print( np.count_nonzero(test_sign==True)/ test_sign.shape[0])"
   ]
  },
  {
   "cell_type": "code",
   "execution_count": 133,
   "metadata": {},
   "outputs": [
    {
     "name": "stdout",
     "output_type": "stream",
     "text": [
      "MSE: 10.750739067290622, MAE: 2.302162336614491, PTA: 0.45586574148781667\n"
     ]
    }
   ],
   "source": [
    "print('MSE: {}, MAE: {}, PTA: {}'.format(10.750739067290622,2.302162336614491,0.45586574148781667))"
   ]
  },
  {
   "cell_type": "code",
   "execution_count": 51,
   "metadata": {},
   "outputs": [],
   "source": [
    "##################### DATA FOR OTHER MODELS #####################\n",
    "features_17, target_17 = features_17.to_numpy(dtype=float), target_17.to_numpy(dtype=float) \n",
    "features_18, target_18 = features_18.to_numpy(dtype=float), target_18.to_numpy(dtype=float) \n",
    "features_19, target_19 = features_19.to_numpy(dtype=float), target_19.to_numpy(dtype=float)\n",
    "features_20, target_20 = features_20.to_numpy(dtype=float), target_20.to_numpy(dtype=float)\n",
    "features_21, target_21 = features_21.to_numpy(dtype=float), target_21.to_numpy(dtype=float)\n",
    "\n",
    "features_22, target_22 = features_22.to_numpy(dtype=float), target_22.to_numpy(dtype=float)\n",
    "\n",
    "train_data = np.concatenate((features_17,features_18,features_19,features_20,features_21),axis=0)\n",
    "train_target = np.concatenate((target_17,target_18,target_19,target_20,target_21),axis=0)\n",
    "\n",
    "test_data, test_target = features_22, target_22"
   ]
  },
  {
   "cell_type": "code",
   "execution_count": 52,
   "metadata": {},
   "outputs": [],
   "source": [
    "from sklearn.preprocessing import StandardScaler\n",
    "from sklearn.preprocessing import Normalizer\n",
    "\n",
    "#data = gk_features.to_numpy(dtype=float)\n",
    "#scaler = StandardScaler()\n",
    "#scaler.fit(data)\n",
    "#scaled_data = scaler.transform(data)\n",
    "\n",
    "#transformer = Normalizer().fit(data) \n",
    "#train_data = transformer.transform(data)\n",
    "#train_data = data "
   ]
  },
  {
   "attachments": {},
   "cell_type": "markdown",
   "metadata": {},
   "source": [
    "## Analyze Target Distribution"
   ]
  },
  {
   "cell_type": "code",
   "execution_count": 53,
   "metadata": {},
   "outputs": [
    {
     "data": {
      "text/plain": [
       "array([<AxesSubplot:title={'center':'feature_test'}>], dtype=object)"
      ]
     },
     "execution_count": 53,
     "metadata": {},
     "output_type": "execute_result"
    },
    {
     "data": {
      "image/png": "[encoded data removed]",
      "text/plain": [
       "<Figure size 720x360 with 2 Axes>"
      ]
     },
     "metadata": {
      "needs_background": "light"
     },
     "output_type": "display_data"
    }
   ],
   "source": [
    "fig, ax = plt.subplots(1, 2, sharex='col', sharey='row', figsize=(10, 5))\n",
    "\n",
    "df1 = pd.DataFrame({\n",
    "    'feature_train': train_target.tolist()})\n",
    "df2 = pd.DataFrame({\n",
    "    'feature_test': test_target.tolist()})\n",
    "\n",
    "\n",
    "df1.hist(bins=25, density=True, ax=ax[0], alpha=0.5)\n",
    "df2.hist(bins=25, density=True, ax=ax[1], alpha=0.5)\n"
   ]
  },
  {
   "cell_type": "code",
   "execution_count": 54,
   "metadata": {},
   "outputs": [],
   "source": [
    "train_diff = train_target-train_data[:,0]\n",
    "test_diff = test_target-test_data[:,0]"
   ]
  },
  {
   "cell_type": "code",
   "execution_count": 55,
   "metadata": {},
   "outputs": [
    {
     "data": {
      "text/plain": [
       "array([<AxesSubplot:title={'center':'feature_test'}>], dtype=object)"
      ]
     },
     "execution_count": 55,
     "metadata": {},
     "output_type": "execute_result"
    },
    {
     "data": {
      "image/png": "[encoded data removed]",
      "text/plain": [
       "<Figure size 720x360 with 2 Axes>"
      ]
     },
     "metadata": {
      "needs_background": "light"
     },
     "output_type": "display_data"
    }
   ],
   "source": [
    "fig, ax = plt.subplots(1, 2, sharex='col', sharey='row', figsize=(10, 5))\n",
    "\n",
    "df1 = pd.DataFrame({\n",
    "    'feature_train': train_diff.tolist()})\n",
    "df2 = pd.DataFrame({\n",
    "    'feature_test': test_diff.tolist()})\n",
    "\n",
    "\n",
    "df1.hist(bins=25, density=True, ax=ax[0], alpha=0.5)\n",
    "df2.hist(bins=25, density=True, ax=ax[1], alpha=0.5)\n"
   ]
  },
  {
   "attachments": {},
   "cell_type": "markdown",
   "metadata": {},
   "source": [
    "# Regression Models"
   ]
  },
  {
   "attachments": {},
   "cell_type": "markdown",
   "metadata": {},
   "source": [
    "## Approach Best Features from last 2 years"
   ]
  },
  {
   "attachments": {},
   "cell_type": "markdown",
   "metadata": {},
   "source": [
    "### Linear Regression"
   ]
  },
  {
   "cell_type": "code",
   "execution_count": 56,
   "metadata": {},
   "outputs": [
    {
     "name": "stdout",
     "output_type": "stream",
     "text": [
      "***********************\n",
      "Evaluate on Training SET\n",
      "5.11015625 1.627734375\n",
      "***********************\n",
      "Evaluate on Test SET\n",
      "MSE: 4.2219127205199625, MAE: 1.5478180129990715, PTA: 0.41875580315691735\n"
     ]
    }
   ],
   "source": [
    "#Initiating the Linear Regressor\n",
    "lr = LinearRegression()\n",
    "#Fitting the Linear Regressor with Training Data\n",
    "lr.fit(train_data,train_target)\n",
    "\n",
    "mse, mae = evaluate_regression_model(lr, train_data,train_target)\n",
    "print('***********************')\n",
    "print('Evaluate on Training SET')\n",
    "print(mse,mae)\n",
    "\n",
    "##############################\n",
    "mse, mae = evaluate_regression_model(lr, test_data,test_target)\n",
    "pta = progress_type_accuracy(lr, test_data, test_target, test_data[:,0])\n",
    "print('***********************')\n",
    "print('Evaluate on Test SET')\n",
    "print('MSE: {}, MAE: {}, PTA: {}'.format(mse,mae,pta))\n"
   ]
  },
  {
   "attachments": {},
   "cell_type": "markdown",
   "metadata": {},
   "source": [
    "### Ridge Regression"
   ]
  },
  {
   "cell_type": "code",
   "execution_count": 57,
   "metadata": {},
   "outputs": [
    {
     "name": "stdout",
     "output_type": "stream",
     "text": [
      "***********************\n",
      "Evaluate on Training SET\n",
      "5.1078125 1.627734375\n",
      "***********************\n",
      "Evaluate on Test SET\n",
      "MSE: 4.2219127205199625, MAE: 1.5478180129990715, PTA: 0.41875580315691735\n"
     ]
    }
   ],
   "source": [
    "#Initiating the Linear Regressor\n",
    "l2 = Ridge()\n",
    "\n",
    "#Fitting the Linear Regressor with Training Data\n",
    "l2.fit(train_data,train_target)\n",
    "\n",
    "mse, mae = evaluate_regression_model(l2, train_data,train_target)\n",
    "print('***********************')\n",
    "print('Evaluate on Training SET')\n",
    "print(mse,mae)\n",
    "\n",
    "##############################\n",
    "mse, mae = evaluate_regression_model(l2, test_data,test_target)\n",
    "pta = progress_type_accuracy(l2, test_data, test_target, test_data[:,0])\n",
    "print('***********************')\n",
    "print('Evaluate on Test SET')\n",
    "print('MSE: {}, MAE: {}, PTA: {}'.format(mse,mae,pta))"
   ]
  },
  {
   "attachments": {},
   "cell_type": "markdown",
   "metadata": {},
   "source": [
    "### Lasso Regression"
   ]
  },
  {
   "cell_type": "code",
   "execution_count": 58,
   "metadata": {},
   "outputs": [
    {
     "name": "stdout",
     "output_type": "stream",
     "text": [
      "***********************\n",
      "Evaluate on Training SET\n",
      "5.2166015625 1.6673828125\n",
      "***********************\n",
      "Evaluate on Test SET\n",
      "MSE: 4.329619312906221, MAE: 1.5998142989786444, PTA: 0.3983286908077994\n"
     ]
    }
   ],
   "source": [
    "l1 = Lasso()\n",
    "\n",
    "l1.fit(train_data,train_target)\n",
    "\n",
    "mse, mae = evaluate_regression_model(l1, train_data,train_target)\n",
    "print('***********************')\n",
    "print('Evaluate on Training SET')\n",
    "print(mse,mae)\n",
    "\n",
    "##############################\n",
    "mse, mae = evaluate_regression_model(l1, test_data,test_target)\n",
    "pta = progress_type_accuracy(l1, test_data, test_target, test_data[:,0])\n",
    "print('***********************')\n",
    "print('Evaluate on Test SET')\n",
    "print('MSE: {}, MAE: {}, PTA: {}'.format(mse,mae,pta))"
   ]
  },
  {
   "attachments": {},
   "cell_type": "markdown",
   "metadata": {},
   "source": [
    "### Gradient Booster"
   ]
  },
  {
   "cell_type": "code",
   "execution_count": 59,
   "metadata": {},
   "outputs": [
    {
     "name": "stdout",
     "output_type": "stream",
     "text": [
      "***********************\n",
      "Evaluate on Training SET\n",
      "4.513671875 1.5296875\n",
      "***********************\n",
      "Evaluate on Test SET\n",
      "MSE: 4.302692664809657, MAE: 1.5487465181058495, PTA: 0.4020427112349118\n"
     ]
    }
   ],
   "source": [
    "#Initiating GradientBoostingRegressor to calculate feature importance\n",
    "gbt = GradientBoostingRegressor()\n",
    "gbt.fit(train_data,train_target)\n",
    "\n",
    "mse, mae = evaluate_regression_model(gbt, train_data,train_target)\n",
    "print('***********************')\n",
    "print('Evaluate on Training SET')\n",
    "print(mse,mae)\n",
    "\n",
    "##############################\n",
    "mse, mae = evaluate_regression_model(gbt, test_data,test_target)\n",
    "pta = progress_type_accuracy(gbt, test_data, test_target, test_data[:,0])\n",
    "print('***********************')\n",
    "print('Evaluate on Test SET')\n",
    "print('MSE: {}, MAE: {}, PTA: {}'.format(mse,mae,pta))"
   ]
  },
  {
   "attachments": {},
   "cell_type": "markdown",
   "metadata": {},
   "source": [
    "### Support Vector Regressor"
   ]
  },
  {
   "cell_type": "code",
   "execution_count": 60,
   "metadata": {},
   "outputs": [
    {
     "name": "stdout",
     "output_type": "stream",
     "text": [
      "***********************\n",
      "Evaluate on Training SET\n",
      "5.332421875 1.56328125\n",
      "***********************\n",
      "Evaluate on Test SET\n",
      "MSE: 4.2887650882079855, MAE: 1.4661095636025998, PTA: 0.4011142061281337\n"
     ]
    }
   ],
   "source": [
    "svr = SVR(kernel='linear')\n",
    "svr.fit(train_data,train_target)\n",
    "\n",
    "mse, mae = evaluate_regression_model(svr, train_data,train_target)\n",
    "print('***********************')\n",
    "print('Evaluate on Training SET')\n",
    "print(mse,mae)\n",
    "\n",
    "##############################\n",
    "mse, mae = evaluate_regression_model(svr, test_data,test_target)\n",
    "pta = progress_type_accuracy(svr, test_data, test_target, test_data[:,0])\n",
    "print('***********************')\n",
    "print('Evaluate on Test SET')\n",
    "print('MSE: {}, MAE: {}, PTA: {}'.format(mse,mae,pta))"
   ]
  },
  {
   "attachments": {},
   "cell_type": "markdown",
   "metadata": {},
   "source": [
    "### Decision Tree Regressor"
   ]
  },
  {
   "cell_type": "code",
   "execution_count": 62,
   "metadata": {},
   "outputs": [
    {
     "name": "stdout",
     "output_type": "stream",
     "text": [
      "***********************\n",
      "Evaluate on Training SET\n",
      "0.0486328125 0.0228515625\n",
      "***********************\n",
      "Evaluate on Test SET\n",
      "MSE: 8.855153203342619, MAE: 2.1569173630454967, PTA: 0.3983286908077994\n"
     ]
    }
   ],
   "source": [
    "DtReg = DecisionTreeRegressor()\n",
    "DtReg.fit(train_data,train_target)\n",
    "\n",
    "DtReg.fit(train_data,train_target)\n",
    "\n",
    "mse, mae = evaluate_regression_model(DtReg, train_data,train_target)\n",
    "print('***********************')\n",
    "print('Evaluate on Training SET')\n",
    "print(mse,mae)\n",
    "\n",
    "##############################\n",
    "mse, mae = evaluate_regression_model(DtReg, test_data,test_target)\n",
    "pta = progress_type_accuracy(DtReg, test_data, test_target, test_data[:,0])\n",
    "print('***********************')\n",
    "print('Evaluate on Test SET')\n",
    "print('MSE: {}, MAE: {}, PTA: {}'.format(mse,mae,pta))"
   ]
  },
  {
   "attachments": {},
   "cell_type": "markdown",
   "metadata": {},
   "source": [
    "### Random Forest Regressor"
   ]
  },
  {
   "cell_type": "code",
   "execution_count": 63,
   "metadata": {},
   "outputs": [
    {
     "name": "stdout",
     "output_type": "stream",
     "text": [
      "***********************\n",
      "Evaluate on Training SET\n",
      "3.4134765625 1.2697265625\n",
      "***********************\n",
      "Evaluate on Test SET\n",
      "MSE: 4.2924791086350975, MAE: 1.497678737233055, PTA: 0.3946146703806871\n"
     ]
    }
   ],
   "source": [
    "regr = RandomForestRegressor(max_depth=10,criterion='absolute_error', random_state=0)\n",
    "\n",
    "regr.fit(train_data,train_target)\n",
    "\n",
    "mse, mae = evaluate_regression_model(regr, train_data,train_target)\n",
    "print('***********************')\n",
    "print('Evaluate on Training SET')\n",
    "print(mse,mae)\n",
    "\n",
    "##############################\n",
    "mse, mae = evaluate_regression_model(regr, test_data,test_target)\n",
    "pta = progress_type_accuracy(regr, test_data, test_target, test_data[:,0])\n",
    "print('***********************')\n",
    "print('Evaluate on Test SET')\n",
    "print('MSE: {}, MAE: {}, PTA: {}'.format(mse,mae,pta))"
   ]
  },
  {
   "attachments": {},
   "cell_type": "markdown",
   "metadata": {},
   "source": [
    "## LSTM"
   ]
  },
  {
   "cell_type": "code",
   "execution_count": 64,
   "metadata": {},
   "outputs": [],
   "source": [
    "\n",
    "import numpy as np\n",
    "import matplotlib.pyplot as plt\n",
    "import pandas as pd"
   ]
  },
  {
   "cell_type": "code",
   "execution_count": 65,
   "metadata": {},
   "outputs": [],
   "source": [
    "tf.random.set_seed(7)\n",
    "\n",
    "# normalize the dataset\n",
    "scaler = MinMaxScaler(feature_range=(0, 1))\n",
    "train_dataset_ = scaler.fit_transform(train_data)\n",
    "train_dataset = np.delete(train_dataset_, [10,11], axis=1)\n",
    "\n",
    "test_dataset_ = scaler.transform(test_data)\n",
    "test_dataset = np.delete(test_dataset_, [10,11], axis=1)\n",
    "\n",
    "# reshape input to be [samples, time steps, features]\n",
    "train_dataset = np.reshape(train_dataset, (train_dataset.shape[0], 2, 5))\n",
    "test_dataset = np.reshape(test_dataset, (test_dataset.shape[0], 2, 5))"
   ]
  },
  {
   "cell_type": "code",
   "execution_count": 66,
   "metadata": {},
   "outputs": [
    {
     "name": "stdout",
     "output_type": "stream",
     "text": [
      "Epoch 1/40\n",
      "5120/5120 - 12s - loss: 3105.1362 - 12s/epoch - 2ms/step\n",
      "Epoch 2/40\n",
      "5120/5120 - 9s - loss: 1116.2418 - 9s/epoch - 2ms/step\n",
      "Epoch 3/40\n",
      "5120/5120 - 10s - loss: 228.5935 - 10s/epoch - 2ms/step\n",
      "Epoch 4/40\n",
      "5120/5120 - 10s - loss: 41.5856 - 10s/epoch - 2ms/step\n",
      "Epoch 5/40\n",
      "5120/5120 - 12s - loss: 18.4767 - 12s/epoch - 2ms/step\n",
      "Epoch 6/40\n",
      "5120/5120 - 11s - loss: 12.7601 - 11s/epoch - 2ms/step\n",
      "Epoch 7/40\n",
      "5120/5120 - 11s - loss: 10.2824 - 11s/epoch - 2ms/step\n",
      "Epoch 8/40\n",
      "5120/5120 - 11s - loss: 8.6896 - 11s/epoch - 2ms/step\n",
      "Epoch 9/40\n",
      "5120/5120 - 10s - loss: 7.5147 - 10s/epoch - 2ms/step\n",
      "Epoch 10/40\n",
      "5120/5120 - 9s - loss: 6.8094 - 9s/epoch - 2ms/step\n",
      "Epoch 11/40\n",
      "5120/5120 - 9s - loss: 6.3092 - 9s/epoch - 2ms/step\n",
      "Epoch 12/40\n",
      "5120/5120 - 9s - loss: 6.0169 - 9s/epoch - 2ms/step\n",
      "Epoch 13/40\n",
      "5120/5120 - 11s - loss: 5.8147 - 11s/epoch - 2ms/step\n",
      "Epoch 14/40\n",
      "5120/5120 - 9s - loss: 5.6947 - 9s/epoch - 2ms/step\n",
      "Epoch 15/40\n",
      "5120/5120 - 9s - loss: 5.6347 - 9s/epoch - 2ms/step\n",
      "Epoch 16/40\n",
      "5120/5120 - 10s - loss: 5.5645 - 10s/epoch - 2ms/step\n",
      "Epoch 17/40\n",
      "5120/5120 - 9s - loss: 5.4948 - 9s/epoch - 2ms/step\n",
      "Epoch 18/40\n",
      "5120/5120 - 9s - loss: 5.4795 - 9s/epoch - 2ms/step\n",
      "Epoch 19/40\n",
      "5120/5120 - 9s - loss: 5.4215 - 9s/epoch - 2ms/step\n",
      "Epoch 20/40\n",
      "5120/5120 - 10s - loss: 5.4101 - 10s/epoch - 2ms/step\n",
      "Epoch 21/40\n",
      "5120/5120 - 10s - loss: 5.4093 - 10s/epoch - 2ms/step\n",
      "Epoch 22/40\n",
      "5120/5120 - 10s - loss: 5.3727 - 10s/epoch - 2ms/step\n",
      "Epoch 23/40\n",
      "5120/5120 - 10s - loss: 5.3611 - 10s/epoch - 2ms/step\n",
      "Epoch 24/40\n",
      "5120/5120 - 9s - loss: 5.3284 - 9s/epoch - 2ms/step\n",
      "Epoch 25/40\n",
      "5120/5120 - 9s - loss: 5.3434 - 9s/epoch - 2ms/step\n",
      "Epoch 26/40\n",
      "5120/5120 - 9s - loss: 5.3333 - 9s/epoch - 2ms/step\n",
      "Epoch 27/40\n",
      "5120/5120 - 9s - loss: 5.3006 - 9s/epoch - 2ms/step\n",
      "Epoch 28/40\n",
      "5120/5120 - 9s - loss: 5.3055 - 9s/epoch - 2ms/step\n",
      "Epoch 29/40\n",
      "5120/5120 - 9s - loss: 5.3026 - 9s/epoch - 2ms/step\n",
      "Epoch 30/40\n",
      "5120/5120 - 9s - loss: 5.2588 - 9s/epoch - 2ms/step\n",
      "Epoch 31/40\n",
      "5120/5120 - 10s - loss: 5.2525 - 10s/epoch - 2ms/step\n",
      "Epoch 32/40\n",
      "5120/5120 - 9s - loss: 5.2758 - 9s/epoch - 2ms/step\n",
      "Epoch 33/40\n",
      "5120/5120 - 9s - loss: 5.2234 - 9s/epoch - 2ms/step\n",
      "Epoch 34/40\n",
      "5120/5120 - 9s - loss: 5.2296 - 9s/epoch - 2ms/step\n",
      "Epoch 35/40\n",
      "5120/5120 - 9s - loss: 5.2167 - 9s/epoch - 2ms/step\n",
      "Epoch 36/40\n",
      "5120/5120 - 9s - loss: 5.2150 - 9s/epoch - 2ms/step\n",
      "Epoch 37/40\n",
      "5120/5120 - 9s - loss: 5.1791 - 9s/epoch - 2ms/step\n",
      "Epoch 38/40\n",
      "5120/5120 - 9s - loss: 5.1983 - 9s/epoch - 2ms/step\n",
      "Epoch 39/40\n",
      "5120/5120 - 10s - loss: 5.1792 - 10s/epoch - 2ms/step\n",
      "Epoch 40/40\n",
      "5120/5120 - 10s - loss: 5.1913 - 10s/epoch - 2ms/step\n"
     ]
    },
    {
     "data": {
      "text/plain": [
       "<keras.callbacks.History at 0x1b0085c82b0>"
      ]
     },
     "execution_count": 66,
     "metadata": {},
     "output_type": "execute_result"
    }
   ],
   "source": [
    "# create and fit the LSTM network\n",
    "model = Sequential()\n",
    "model.add(LSTM(4, input_shape=(2, 5)))\n",
    "model.add(Dense(1))\n",
    "model.compile(loss='mean_squared_error', optimizer='adam')\n",
    "model.fit(train_dataset, train_target, epochs=40, batch_size=1, verbose=2)"
   ]
  },
  {
   "cell_type": "code",
   "execution_count": 67,
   "metadata": {},
   "outputs": [
    {
     "name": "stdout",
     "output_type": "stream",
     "text": [
      "160/160 [==============================] - 1s 2ms/step\n",
      "34/34 [==============================] - 1s 1ms/step\n",
      "Train Score: 2.28 RMSE\n",
      "Test Score: 2.04 RMSE\n",
      "***********************\n",
      "Evaluate on Training SET\n",
      "5.213390782554742 1.6360871486365796\n",
      "***********************\n",
      "Evaluate on Test SET\n",
      "4.17624405110637 1.5244184403698424\n"
     ]
    }
   ],
   "source": [
    "# make predictions\n",
    "trainPredict = model.predict(train_dataset)\n",
    "testPredict = model.predict(test_dataset)\n",
    "# invert predictions\n",
    "#trainPredict = scaler.inverse_transform(trainPredict)\n",
    "#trainY = scaler.inverse_transform([trainY])\n",
    "#testPredict = scaler.inverse_transform(testPredict)\n",
    "#testY = scaler.inverse_transform([testY])\n",
    "# calculate root mean squared error\n",
    "trainScore = np.sqrt(mean_squared_error(train_target, trainPredict))\n",
    "print('Train Score: %.2f RMSE' % (trainScore))\n",
    "testScore = np.sqrt(mean_squared_error(test_target, testPredict))\n",
    "print('Test Score: %.2f RMSE' % (testScore))\n",
    "\n",
    "print('***********************')\n",
    "print('Evaluate on Training SET')\n",
    "print(mean_squared_error(train_target, trainPredict),mean_absolute_error(train_target, trainPredict))\n",
    "\n",
    "##############################\n",
    "print('***********************')\n",
    "print('Evaluate on Test SET')\n",
    "print(mean_squared_error(test_target, testPredict),mean_absolute_error(test_target, testPredict))"
   ]
  },
  {
   "cell_type": "code",
   "execution_count": 68,
   "metadata": {},
   "outputs": [],
   "source": [
    "models = [\"Linear Regression\", \"Lasso Regression\", \"Ridge Regression\",\"Gradient Booster\",\n",
    "          \"Support Vector Regressor\", \"Decision Tree Regressor\" ,\"Random Forest Regressor\"]\n",
    "mses = [4.22,4.33,4.22,4.3,4.28,8.95,4.29] \n",
    "maes = [1.55,1.6,1.54,1.54,1.46,2.17,1.49]\n",
    "ptas = [0.419, 0.39,0.419,0.4,0.4,0.41,0.39] "
   ]
  },
  {
   "cell_type": "code",
   "execution_count": 110,
   "metadata": {},
   "outputs": [
    {
     "data": {
      "image/png": "[encoded data removed]",
      "text/plain": [
       "<Figure size 720x720 with 3 Axes>"
      ]
     },
     "metadata": {
      "needs_background": "light"
     },
     "output_type": "display_data"
    }
   ],
   "source": [
    "# Read in the DataFrame\n",
    "fig, axs = plt.subplots(3,sharex=True,figsize=(10, 10))\n",
    "axs[0].bar(models,mses,align='center',color = \"b\", label = \"MSE\") # A bar chart\n",
    "axs[0].legend()\n",
    "axs[1].bar(models,maes,align='center',color = \"r\", label = \"MAE\") # A bar chart\n",
    "axs[1].legend()\n",
    "axs[2].bar(models,ptas,align='center',color = \"g\", label = \"PTA\") # A bar chart\n",
    "axs[2].legend()\n",
    "plt.xlabel('Models')\n",
    "plt.ylabel('Metric')\n",
    "plt.xticks(rotation=90)\n",
    "plt.show()"
   ]
  },
  {
   "attachments": {},
   "cell_type": "markdown",
   "metadata": {},
   "source": [
    "====> Linear Regression is the winning model"
   ]
  },
  {
   "attachments": {},
   "cell_type": "markdown",
   "metadata": {},
   "source": [
    "## Approach Best Features from last 4 years"
   ]
  },
  {
   "cell_type": "code",
   "execution_count": 70,
   "metadata": {},
   "outputs": [
    {
     "data": {
      "text/plain": [
       "636"
      ]
     },
     "execution_count": 70,
     "metadata": {},
     "output_type": "execute_result"
    }
   ],
   "source": [
    "from functools import reduce\n",
    "\n",
    "data_frames = [FIFA_17,FIFA_18,FIFA_19, FIFA_20, FIFA_21] # list of dataframes\n",
    "data_frames = [FIFA_16,FIFA_17,FIFA_18, FIFA_19, FIFA_20] # list of dataframes\n",
    "#data_frames = [FIFA_18,FIFA_19,FIFA_20, FIFA_21, FIFA_22] # list of dataframes\n",
    "\n",
    "\n",
    "gk_fifa_ds_train = reduce(lambda  left,right: pd.merge(left,right,on=['long_name','dob'],\n",
    "                                            how='inner'), data_frames)\n",
    "\n",
    "gk_fifa_ds_train['long_name'].count()"
   ]
  },
  {
   "cell_type": "code",
   "execution_count": 71,
   "metadata": {},
   "outputs": [
    {
     "name": "stdout",
     "output_type": "stream",
     "text": [
      "['long_name', 'player_positions_16', 'overall_16', 'potential_16', 'value_eur_16', 'wage_eur_16', 'club_name_16', 'age_16', 'dob', 'height_cm_16', 'weight_kg_16', 'league_name_16', 'skill_long_passing_16', 'skill_ball_control_16', 'power_strength_16', 'mentality_vision_16', 'mentality_composure_16', 'goalkeeping_diving_16', 'goalkeeping_handling_16', 'goalkeeping_kicking_16', 'goalkeeping_positioning_16', 'goalkeeping_reflexes_16', 'goalkeeping_speed_16', 'player_positions_17', 'overall_17', 'potential_17', 'value_eur_17', 'wage_eur_17', 'club_name_17', 'age_17', 'height_cm_17', 'weight_kg_17', 'league_name_17', 'skill_long_passing_17', 'skill_ball_control_17', 'power_strength_17', 'mentality_vision_17', 'mentality_composure_17', 'goalkeeping_diving_17', 'goalkeeping_handling_17', 'goalkeeping_kicking_17', 'goalkeeping_positioning_17', 'goalkeeping_reflexes_17', 'goalkeeping_speed_17', 'player_positions_18', 'overall_18', 'potential_18', 'value_eur_18', 'wage_eur_18', 'club_name_18', 'age_18', 'height_cm_18', 'weight_kg_18', 'league_name_18', 'skill_long_passing_18', 'skill_ball_control_18', 'power_strength_18', 'mentality_vision_18', 'mentality_composure_18', 'goalkeeping_diving_18', 'goalkeeping_handling_18', 'goalkeeping_kicking_18', 'goalkeeping_positioning_18', 'goalkeeping_reflexes_18', 'goalkeeping_speed_18', 'player_positions_19', 'overall_19', 'potential_19', 'value_eur_19', 'wage_eur_19', 'club_name_19', 'age_19', 'height_cm_19', 'weight_kg_19', 'league_name_19', 'skill_long_passing_19', 'skill_ball_control_19', 'power_strength_19', 'mentality_vision_19', 'mentality_composure_19', 'goalkeeping_diving_19', 'goalkeeping_handling_19', 'goalkeeping_kicking_19', 'goalkeeping_positioning_19', 'goalkeeping_reflexes_19', 'goalkeeping_speed_19', 'player_positions_20', 'overall_20', 'potential_20', 'value_eur_20', 'wage_eur_20', 'club_name_20', 'age_20', 'height_cm_20', 'weight_kg_20', 'league_name_20', 'skill_long_passing_20', 'skill_ball_control_20', 'power_strength_20', 'mentality_vision_20', 'mentality_composure_20', 'goalkeeping_diving_20', 'goalkeeping_handling_20', 'goalkeeping_kicking_20', 'goalkeeping_positioning_20', 'goalkeeping_reflexes_20', 'goalkeeping_speed_20']\n"
     ]
    }
   ],
   "source": [
    "print(gk_fifa_ds_train.columns.tolist())"
   ]
  },
  {
   "cell_type": "code",
   "execution_count": 72,
   "metadata": {},
   "outputs": [],
   "source": [
    "feature_columns = ['overall_16','height_cm_16', 'weight_kg_16','goalkeeping_diving_16', 'goalkeeping_handling_16', 'goalkeeping_kicking_16', 'goalkeeping_positioning_16', 'goalkeeping_reflexes_16', 'goalkeeping_speed_16',\n",
    "                   'overall_17', 'goalkeeping_diving_17', 'goalkeeping_handling_17', 'goalkeeping_kicking_17', 'goalkeeping_positioning_17', 'goalkeeping_reflexes_17', 'goalkeeping_speed_17',\n",
    "                    'overall_18','goalkeeping_diving_18', 'goalkeeping_handling_18', 'goalkeeping_kicking_18', 'goalkeeping_positioning_18', 'goalkeeping_reflexes_18', 'goalkeeping_speed_18',\n",
    "                    'overall_19','goalkeeping_diving_19', 'goalkeeping_handling_19', 'goalkeeping_kicking_19', 'goalkeeping_positioning_19', 'goalkeeping_reflexes_19', 'goalkeeping_speed_19']"
   ]
  },
  {
   "cell_type": "code",
   "execution_count": 73,
   "metadata": {},
   "outputs": [],
   "source": [
    "features, corrolations = [],[]\n",
    "for column in feature_columns:\n",
    "    if column != 'overall_20':\n",
    "        corrolations.append( gk_fifa_ds_train['overall_20'].corr(gk_fifa_ds_train[column]))\n",
    "        features.append(column)\n",
    "\n",
    "corr_df = pd.DataFrame(data={'features':features, 'corrolations': corrolations})\n",
    "corr_df.sort_values(by=\"corrolations\",ascending=False,inplace= True)\n",
    "corr_df = corr_df[corr_df['corrolations']>0.5]"
   ]
  },
  {
   "cell_type": "code",
   "execution_count": 74,
   "metadata": {},
   "outputs": [
    {
     "name": "stdout",
     "output_type": "stream",
     "text": [
      "['overall_19', 'goalkeeping_reflexes_19', 'goalkeeping_diving_19', 'goalkeeping_positioning_19', 'overall_18', 'goalkeeping_handling_19', 'goalkeeping_diving_18', 'goalkeeping_reflexes_18', 'goalkeeping_handling_18', 'goalkeeping_positioning_18', 'overall_17', 'goalkeeping_diving_17', 'goalkeeping_reflexes_17', 'goalkeeping_handling_17', 'goalkeeping_positioning_17', 'overall_16', 'goalkeeping_reflexes_16', 'goalkeeping_diving_16', 'goalkeeping_handling_16', 'goalkeeping_kicking_19', 'goalkeeping_positioning_16', 'goalkeeping_kicking_18', 'goalkeeping_kicking_17', 'goalkeeping_kicking_16']\n"
     ]
    }
   ],
   "source": [
    "print(corr_df['features'].tolist())"
   ]
  },
  {
   "cell_type": "code",
   "execution_count": 75,
   "metadata": {},
   "outputs": [
    {
     "data": {
      "image/png": "[encoded data removed]",
      "text/plain": [
       "<Figure size 1440x1440 with 1 Axes>"
      ]
     },
     "metadata": {
      "needs_background": "light"
     },
     "output_type": "display_data"
    }
   ],
   "source": [
    "fig = plt.figure(figsize=(20,20))\n",
    "x = corr_df['features'].tolist()\n",
    "y = corr_df['corrolations'].tolist()\n",
    "\n",
    "plt.bar(x,y,align='center') # A bar chart\n",
    "plt.xticks(rotation=90)\n",
    "plt.xlabel('Features')\n",
    "plt.ylabel('Corrolation')\n",
    "for i in range(len(y)):\n",
    "    plt.hlines(y[i],0,x[i]) # Here you are drawing the horizontal lines\n",
    "plt.show()"
   ]
  },
  {
   "cell_type": "code",
   "execution_count": 76,
   "metadata": {},
   "outputs": [],
   "source": [
    "features_19, target_19 = prepare_train_datasets([FIFA_15,FIFA_16,FIFA_17, FIFA_18, FIFA_19], 19,4)\n",
    "features_20, target_20 = prepare_train_datasets([FIFA_16,FIFA_17,FIFA_18, FIFA_19, FIFA_20], 20,4)\n",
    "features_21, target_21 = prepare_train_datasets([FIFA_17,FIFA_18,FIFA_19, FIFA_20, FIFA_21], 21,4)\n",
    "\n",
    "features_22, target_22 = prepare_train_datasets([FIFA_18,FIFA_19,FIFA_20, FIFA_21, FIFA_22], 22,4)"
   ]
  },
  {
   "cell_type": "code",
   "execution_count": 77,
   "metadata": {},
   "outputs": [],
   "source": [
    "train_data = np.concatenate((features_19.to_numpy(dtype=float),features_20.to_numpy(dtype=float),features_21.to_numpy(dtype=float)),axis=0)\n",
    "train_target = np.concatenate((target_19.to_numpy(dtype=float),target_20.to_numpy(dtype=float),target_21.to_numpy(dtype=float)),axis=0)\n",
    "\n",
    "test_data, test_target = features_22.to_numpy(dtype=float), target_22.to_numpy(dtype=float)"
   ]
  },
  {
   "cell_type": "code",
   "execution_count": 78,
   "metadata": {},
   "outputs": [
    {
     "data": {
      "text/plain": [
       "(1963, 28)"
      ]
     },
     "execution_count": 78,
     "metadata": {},
     "output_type": "execute_result"
    }
   ],
   "source": [
    "train_data.shape"
   ]
  },
  {
   "cell_type": "code",
   "execution_count": 79,
   "metadata": {},
   "outputs": [
    {
     "data": {
      "text/plain": [
       "(717, 28)"
      ]
     },
     "execution_count": 79,
     "metadata": {},
     "output_type": "execute_result"
    }
   ],
   "source": [
    "test_data.shape"
   ]
  },
  {
   "cell_type": "code",
   "execution_count": 80,
   "metadata": {},
   "outputs": [
    {
     "name": "stdout",
     "output_type": "stream",
     "text": [
      "***********************\n",
      "Evaluate on Training SET\n",
      "0.0 0.0\n",
      "***********************\n",
      "Evaluate on Test SET\n",
      "MSE: 7.654114365411437, MAE: 2.0613668061366806, PTA: 0.38493723849372385\n"
     ]
    }
   ],
   "source": [
    "DtReg = DecisionTreeRegressor()\n",
    "DtReg.fit(train_data,train_target)\n",
    "\n",
    "DtReg.fit(train_data,train_target)\n",
    "\n",
    "mse, mae = evaluate_regression_model(DtReg, train_data,train_target)\n",
    "print('***********************')\n",
    "print('Evaluate on Training SET')\n",
    "print(mse,mae)\n",
    "\n",
    "##############################\n",
    "mse, mae = evaluate_regression_model(DtReg, test_data,test_target)\n",
    "pta = progress_type_accuracy(DtReg, test_data, test_target, test_data[:,21])\n",
    "print('***********************')\n",
    "print('Evaluate on Test SET')\n",
    "print('MSE: {}, MAE: {}, PTA: {}'.format(mse,mae,pta))"
   ]
  },
  {
   "cell_type": "code",
   "execution_count": 81,
   "metadata": {},
   "outputs": [
    {
     "name": "stdout",
     "output_type": "stream",
     "text": [
      "***********************\n",
      "Evaluate on Training SET\n",
      "3.899133978604177 1.4294447274579725\n",
      "***********************\n",
      "Evaluate on Test SET\n",
      "MSE: 3.3458856345885635, MAE: 1.3458856345885635, PTA: 0.39748953974895396\n"
     ]
    }
   ],
   "source": [
    "#Initiating the Linear Regressor\n",
    "l2 = Ridge()\n",
    "\n",
    "#Fitting the Linear Regressor with Training Data\n",
    "l2.fit(train_data,train_target)\n",
    "\n",
    "mse, mae = evaluate_regression_model(l2, train_data,train_target)\n",
    "print('***********************')\n",
    "print('Evaluate on Training SET')\n",
    "print(mse,mae)\n",
    "\n",
    "##############################\n",
    "mse, mae = evaluate_regression_model(l2, test_data,test_target)\n",
    "pta = progress_type_accuracy(l2, test_data, test_target, test_data[:,21])\n",
    "print('***********************')\n",
    "print('Evaluate on Test SET')\n",
    "print('MSE: {}, MAE: {}, PTA: {}'.format(mse,mae,pta))"
   ]
  },
  {
   "cell_type": "code",
   "execution_count": 111,
   "metadata": {},
   "outputs": [
    {
     "data": {
      "image/png": "[encoded data removed]",
      "text/plain": [
       "<Figure size 720x720 with 3 Axes>"
      ]
     },
     "metadata": {
      "needs_background": "light"
     },
     "output_type": "display_data"
    }
   ],
   "source": [
    "models = [\"Ridge Regression\", \"Decision Tree Regressor\"]\n",
    "mses = [3.34,7.65] \n",
    "maes = [1.34,2.06]\n",
    "ptas = [0.397,0.385] \n",
    "\n",
    "# Read in the DataFrame\n",
    "fig, axs = plt.subplots(3,sharex=True,figsize=(10, 10))\n",
    "axs[0].bar(models,mses,align='center',color = \"b\", label = \"MSE\") # A bar chart\n",
    "axs[0].legend()\n",
    "axs[1].bar(models,maes,align='center',color = \"r\", label = \"MAE\") # A bar chart\n",
    "axs[1].legend()\n",
    "axs[2].bar(models,ptas,align='center',color = \"g\", label = \"PTA\") # A bar chart\n",
    "axs[2].legend()\n",
    "plt.xlabel('Models')\n",
    "plt.ylabel('Metric')\n",
    "plt.xticks(rotation=90)\n",
    "plt.show()"
   ]
  },
  {
   "attachments": {},
   "cell_type": "markdown",
   "metadata": {},
   "source": [
    "===> Ridge Regression is a clear winner"
   ]
  },
  {
   "attachments": {},
   "cell_type": "markdown",
   "metadata": {},
   "source": [
    "## Test Approach with Overalls only"
   ]
  },
  {
   "cell_type": "code",
   "execution_count": 82,
   "metadata": {},
   "outputs": [],
   "source": [
    "overall_15 = FIFA_15[['long_name','dob','overall_15']]\n",
    "overall_16 = FIFA_16[['long_name','dob','overall_16']]\n",
    "overall_17 = FIFA_17[['long_name','dob','overall_17']]\n",
    "overall_18 = FIFA_18[['long_name','dob','overall_18']]\n",
    "overall_19 = FIFA_19[['long_name','dob','overall_19']]\n",
    "overall_20 = FIFA_20[['long_name','dob','overall_20']]\n",
    "overall_21 = FIFA_21[['long_name','dob','overall_21']]\n",
    "overall_22 = FIFA_22[['long_name','dob','overall_22']]\n",
    "\n",
    "######################\n",
    "overalls = [overall_15,overall_16,overall_17,overall_18,overall_19]\n",
    "#[overall_16,overall_17,overall_18,overall_19,overall_20]\n",
    "#[overall_17,overall_18,overall_19,overall_20,overall_21]\n",
    "#[overall_18,overall_19,overall_20,overall_21,overall_22]"
   ]
  },
  {
   "cell_type": "code",
   "execution_count": 83,
   "metadata": {},
   "outputs": [],
   "source": [
    "features_19, target_19 = prepare_overall_dataset([overall_15,overall_16,overall_17,overall_18,overall_19], 19)\n",
    "features_20, target_20 = prepare_overall_dataset([overall_16,overall_17,overall_18,overall_19,overall_20], 20)\n",
    "features_21, target_21 = prepare_overall_dataset([overall_17,overall_18,overall_19,overall_20,overall_21], 21)\n",
    "\n",
    "features_22, target_22 = prepare_overall_dataset([overall_18,overall_19,overall_20,overall_21,overall_22], 22)"
   ]
  },
  {
   "cell_type": "code",
   "execution_count": 84,
   "metadata": {},
   "outputs": [],
   "source": [
    "train_data = np.concatenate((features_19,features_20,features_21),axis=0)\n",
    "train_target = np.concatenate((target_19,target_20,target_21),axis=0)\n",
    "\n",
    "test_data, test_target = features_22, target_22"
   ]
  },
  {
   "cell_type": "code",
   "execution_count": 85,
   "metadata": {},
   "outputs": [
    {
     "data": {
      "text/plain": [
       "(3239, 4)"
      ]
     },
     "execution_count": 85,
     "metadata": {},
     "output_type": "execute_result"
    }
   ],
   "source": [
    "train_data.shape"
   ]
  },
  {
   "cell_type": "code",
   "execution_count": 86,
   "metadata": {},
   "outputs": [
    {
     "data": {
      "text/plain": [
       "(1077, 4)"
      ]
     },
     "execution_count": 86,
     "metadata": {},
     "output_type": "execute_result"
    }
   ],
   "source": [
    "test_data.shape"
   ]
  },
  {
   "cell_type": "code",
   "execution_count": 87,
   "metadata": {},
   "outputs": [
    {
     "name": "stdout",
     "output_type": "stream",
     "text": [
      "***********************\n",
      "Evaluate on Training SET\n",
      "4.649274467428219 1.569311515899969\n",
      "***********************\n",
      "Evaluate on Test SET\n",
      "MSE: 4.2144846796657385, MAE: 1.5181058495821727, PTA: 0.4382544103992572\n"
     ]
    }
   ],
   "source": [
    "l2 = Ridge()\n",
    "\n",
    "#Fitting the Linear Regressor with Training Data\n",
    "l2.fit(train_data,train_target)\n",
    "\n",
    "mse, mae = evaluate_regression_model(l2, train_data,train_target)\n",
    "print('***********************')\n",
    "print('Evaluate on Training SET')\n",
    "print(mse,mae)\n",
    "\n",
    "##############################\n",
    "mse, mae = evaluate_regression_model(l2, test_data,test_target)\n",
    "pta = progress_type_accuracy(l2, test_data, test_target, test_data[:,3])\n",
    "print('***********************')\n",
    "print('Evaluate on Test SET')\n",
    "print('MSE: {}, MAE: {}, PTA: {}'.format(mse,mae,pta))"
   ]
  },
  {
   "attachments": {},
   "cell_type": "markdown",
   "metadata": {},
   "source": [
    "## Test Approach with Overalls + Last Season Performance"
   ]
  },
  {
   "cell_type": "code",
   "execution_count": 88,
   "metadata": {},
   "outputs": [],
   "source": [
    "overall_15 = FIFA_15[['long_name','dob','overall_15']]\n",
    "overall_16 = FIFA_16[['long_name','dob','overall_16']]\n",
    "overall_17 = FIFA_17[['long_name','dob','overall_17']]\n",
    "overall_18 = FIFA_18[['long_name','dob','overall_18','goalkeeping_reflexes_18', 'goalkeeping_diving_18','goalkeeping_positioning_18', 'goalkeeping_handling_18']]\n",
    "overall_19 = FIFA_19[['long_name','dob','overall_19','goalkeeping_reflexes_19', 'goalkeeping_diving_19','goalkeeping_positioning_19', 'goalkeeping_handling_19']]\n",
    "overall_20 = FIFA_20[['long_name','dob','overall_20','goalkeeping_reflexes_20', 'goalkeeping_diving_20','goalkeeping_positioning_20', 'goalkeeping_handling_20']]\n",
    "overall_21 = FIFA_21[['long_name','dob','overall_21','goalkeeping_reflexes_21', 'goalkeeping_diving_21','goalkeeping_positioning_21', 'goalkeeping_handling_21']]\n",
    "overall_22 = FIFA_22[['long_name','dob','overall_22']]"
   ]
  },
  {
   "cell_type": "code",
   "execution_count": 89,
   "metadata": {},
   "outputs": [],
   "source": [
    "features_19, target_19 = prepare_overall_dataset([overall_15,overall_16,overall_17,overall_18,overall_19], 19)\n",
    "features_20, target_20 = prepare_overall_dataset([overall_16,overall_17,overall_18,overall_19,overall_20], 20)\n",
    "features_21, target_21 = prepare_overall_dataset([overall_17,overall_18,overall_19,overall_20,overall_21], 21)\n",
    "\n",
    "features_22, target_22 = prepare_overall_dataset([overall_18,overall_19,overall_20,overall_21,overall_22], 22)"
   ]
  },
  {
   "cell_type": "code",
   "execution_count": 90,
   "metadata": {},
   "outputs": [],
   "source": [
    "train_data = np.concatenate((features_19,features_20,features_21),axis=0)\n",
    "train_target = np.concatenate((target_19,target_20,target_21),axis=0)\n",
    "\n",
    "test_data, test_target = features_22, target_22"
   ]
  },
  {
   "cell_type": "code",
   "execution_count": 91,
   "metadata": {},
   "outputs": [
    {
     "data": {
      "text/plain": [
       "(3001, 4)"
      ]
     },
     "execution_count": 91,
     "metadata": {},
     "output_type": "execute_result"
    }
   ],
   "source": [
    "train_data.shape"
   ]
  },
  {
   "cell_type": "code",
   "execution_count": 92,
   "metadata": {},
   "outputs": [
    {
     "name": "stdout",
     "output_type": "stream",
     "text": [
      "***********************\n",
      "Evaluate on Training SET\n",
      "4.700433188937021 1.574808397200933\n",
      "***********************\n",
      "Evaluate on Test SET\n",
      "MSE: 3.4923291492329147, MAE: 1.397489539748954, PTA: 0.4072524407252441\n"
     ]
    }
   ],
   "source": [
    "l2 = Ridge()\n",
    "\n",
    "#Fitting the Linear Regressor with Training Data\n",
    "l2.fit(train_data,train_target)\n",
    "\n",
    "mse, mae = evaluate_regression_model(l2, train_data,train_target)\n",
    "print('***********************')\n",
    "print('Evaluate on Training SET')\n",
    "print(mse,mae)\n",
    "\n",
    "##############################\n",
    "mse, mae = evaluate_regression_model(l2, test_data,test_target)\n",
    "pta = progress_type_accuracy(l2, test_data, test_target, test_data[:,3])\n",
    "print('***********************')\n",
    "print('Evaluate on Test SET')\n",
    "print('MSE: {}, MAE: {}, PTA: {}'.format(mse,mae,pta))"
   ]
  },
  {
   "attachments": {},
   "cell_type": "markdown",
   "metadata": {},
   "source": [
    "## Show the best Approach"
   ]
  },
  {
   "cell_type": "code",
   "execution_count": 134,
   "metadata": {},
   "outputs": [
    {
     "data": {
      "image/png": "[encoded data removed]",
      "text/plain": [
       "<Figure size 720x720 with 3 Axes>"
      ]
     },
     "metadata": {
      "needs_background": "light"
     },
     "output_type": "display_data"
    }
   ],
   "source": [
    "models = [\"Baseline Model\", \"Performance 2 Y\",\"Performance 4 Y\", \"History\", \"History + Performance\" ]\n",
    "mses = [10.75,4.22, 3.34, 4.21, 3.49] \n",
    "maes = [2.3,1.54, 1.34, 1.52, 1.39]\n",
    "ptas = [0.45,0.42, 0.397, 0.438, 0.41] \n",
    "\n",
    "# Read in the DataFrame\n",
    "fig, axs = plt.subplots(3,sharex=True,figsize=(10, 10))\n",
    "axs[0].bar(models,mses,align='center',color = \"b\", label = \"MSE\") # A bar chart\n",
    "axs[0].legend()\n",
    "axs[1].bar(models,maes,align='center',color = \"r\", label = \"MAE\") # A bar chart\n",
    "axs[1].legend()\n",
    "axs[2].bar(models,ptas,align='center',color = \"g\", label = \"PTA\") # A bar chart\n",
    "axs[2].legend()\n",
    "plt.xlabel('Models')\n",
    "plt.ylabel('Metric')\n",
    "plt.xticks(rotation=90)\n",
    "plt.show()"
   ]
  },
  {
   "attachments": {},
   "cell_type": "markdown",
   "metadata": {},
   "source": [
    "===> \"History\" is the best approach and \"Performance 2Y\" is a close second  "
   ]
  }
 ],
 "metadata": {
  "kernelspec": {
   "display_name": "Python 3",
   "language": "python",
   "name": "python3"
  },
  "language_info": {
   "codemirror_mode": {
    "name": "ipython",
    "version": 3
   },
   "file_extension": ".py",
   "mimetype": "text/x-python",
   "name": "python",
   "nbconvert_exporter": "python",
   "pygments_lexer": "ipython3",
   "version": "3.10.2"
  },
  "orig_nbformat": 4,
  "vscode": {
   "interpreter": {
    "hash": "806c664ca045582bcf0664ed80118c082bb8b4ad123f0515d31fee2030743905"
   }
  }
 },
 "nbformat": 4,
 "nbformat_minor": 2
}
