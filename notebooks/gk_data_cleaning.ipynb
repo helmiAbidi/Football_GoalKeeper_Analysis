{
 "cells": [
  {
   "cell_type": "code",
   "execution_count": 1,
   "metadata": {},
   "outputs": [],
   "source": [
    "from gk_helpers import * "
   ]
  },
  {
   "attachments": {},
   "cell_type": "markdown",
   "metadata": {},
   "source": [
    "## PREPARE FBREF DATA"
   ]
  },
  {
   "cell_type": "code",
   "execution_count": 2,
   "metadata": {},
   "outputs": [],
   "source": [
    "#################### HISTORICAL SEASONS ####################\n",
    "\n",
    "###### SEASON 17_18 ######\n",
    "gk_all_stats_17_18= prepare_one_season_FBREF_data(\"17_18\") \n",
    "###### SEASON 18_19 ###### \n",
    "gk_all_stats_18_19= prepare_one_season_FBREF_data(\"18_19\") \n",
    "###### SEASON 19_20 ######\n",
    "gk_all_stats_19_20= prepare_one_season_FBREF_data(\"19_20\")  \n",
    "###### SEASON 20_21 ###### \n",
    "gk_all_stats_20_21= prepare_one_season_FBREF_data(\"20_21\") \n",
    "\n",
    "#################### TARGET SEASONS ####################\n",
    "\n",
    "###### SEASON 21_22 ###### \n",
    "gk_all_stats_21_22= prepare_one_season_FBREF_data(\"21_22\") "
   ]
  },
  {
   "cell_type": "code",
   "execution_count": 3,
   "metadata": {},
   "outputs": [],
   "source": [
    "gk_all_stats_17_18.to_csv('./preprocessed_data/gk_all_stats_17_18.csv')\n",
    "gk_all_stats_18_19.to_csv('./preprocessed_data/gk_all_stats_18_19.csv')\n",
    "gk_all_stats_19_20.to_csv('./preprocessed_data/gk_all_stats_19_20.csv')\n",
    "gk_all_stats_20_21.to_csv('./preprocessed_data/gk_all_stats_20_21.csv')\n",
    "gk_all_stats_21_22.to_csv('./preprocessed_data/gk_all_stats_21_22.csv')"
   ]
  },
  {
   "attachments": {},
   "cell_type": "markdown",
   "metadata": {},
   "source": [
    "## READ FIFA DATA"
   ]
  },
  {
   "cell_type": "code",
   "execution_count": 4,
   "metadata": {},
   "outputs": [
    {
     "name": "stderr",
     "output_type": "stream",
     "text": [
      "c:\\Users\\abidi\\Desktop\\Karriere\\Dream_career\\Sport Analytics\\projects\\player_scouting\\football_scouting_model\\gk_helpers.py:164: DtypeWarning:\n",
      "\n",
      "Columns (81,82,83,84,85) have mixed types. Specify dtype option on import or set low_memory=False.\n",
      "\n"
     ]
    },
    {
     "name": "stdout",
     "output_type": "stream",
     "text": [
      "['de Bundesliga' 'eng Premier League' 'it Serie A' 'es La Liga'\n",
      " 'fr Ligue 1']\n",
      "['eng Premier League' 'de Bundesliga' 'es La Liga' 'fr Ligue 1'\n",
      " 'it Serie A']\n",
      "['es La Liga' 'eng Premier League' 'it Serie A' 'de Bundesliga'\n",
      " 'fr Ligue 1']\n",
      "['es La Liga' 'eng Premier League' 'de Bundesliga' 'it Serie A'\n",
      " 'fr Ligue 1']\n",
      "['es La Liga' 'de Bundesliga' 'eng Premier League' 'fr Ligue 1'\n",
      " 'it Serie A']\n"
     ]
    },
    {
     "name": "stderr",
     "output_type": "stream",
     "text": [
      "c:\\Users\\abidi\\Desktop\\Karriere\\Dream_career\\Sport Analytics\\projects\\player_scouting\\football_scouting_model\\gk_helpers.py:164: DtypeWarning:\n",
      "\n",
      "Columns (25,108) have mixed types. Specify dtype option on import or set low_memory=False.\n",
      "\n"
     ]
    }
   ],
   "source": [
    "#################### HISTORICAL SEASONS ####################\n",
    "\n",
    "###### SEASON 17_18 ######\n",
    "gk_fifa_17_18= prepare_one_season_FIFA_data(\"18\") \n",
    "###### SEASON 18_19 ###### \n",
    "gk_fifa_18_19= prepare_one_season_FIFA_data(\"19\") \n",
    "###### SEASON 19_20 ######\n",
    "gk_fifa_19_20= prepare_one_season_FIFA_data(\"20\")  \n",
    "###### SEASON 20_21 ###### \n",
    "gk_fifa_20_21= prepare_one_season_FIFA_data(\"21\") \n",
    "\n",
    "#################### TARGET SEASONS ####################\n",
    "\n",
    "###### SEASON 21_22 ###### \n",
    "gk_fifa_21_22= prepare_one_season_FIFA_data(\"22\") "
   ]
  },
  {
   "attachments": {},
   "cell_type": "markdown",
   "metadata": {},
   "source": [
    "## MERGE FBREF & FIFA DATA"
   ]
  },
  {
   "cell_type": "code",
   "execution_count": 5,
   "metadata": {},
   "outputs": [
    {
     "name": "stderr",
     "output_type": "stream",
     "text": [
      "c:\\Users\\abidi\\Desktop\\Karriere\\Dream_career\\Sport Analytics\\projects\\player_scouting\\football_scouting_model\\gk_helpers.py:188: SettingWithCopyWarning:\n",
      "\n",
      "\n",
      "A value is trying to be set on a copy of a slice from a DataFrame\n",
      "\n",
      "See the caveats in the documentation: https://pandas.pydata.org/pandas-docs/stable/user_guide/indexing.html#returning-a-view-versus-a-copy\n",
      "\n",
      "c:\\Users\\abidi\\Desktop\\Karriere\\Dream_career\\Sport Analytics\\projects\\player_scouting\\football_scouting_model\\gk_helpers.py:188: SettingWithCopyWarning:\n",
      "\n",
      "\n",
      "A value is trying to be set on a copy of a slice from a DataFrame\n",
      "\n",
      "See the caveats in the documentation: https://pandas.pydata.org/pandas-docs/stable/user_guide/indexing.html#returning-a-view-versus-a-copy\n",
      "\n",
      "c:\\Users\\abidi\\Desktop\\Karriere\\Dream_career\\Sport Analytics\\projects\\player_scouting\\football_scouting_model\\gk_helpers.py:188: SettingWithCopyWarning:\n",
      "\n",
      "\n",
      "A value is trying to be set on a copy of a slice from a DataFrame\n",
      "\n",
      "See the caveats in the documentation: https://pandas.pydata.org/pandas-docs/stable/user_guide/indexing.html#returning-a-view-versus-a-copy\n",
      "\n",
      "c:\\Users\\abidi\\Desktop\\Karriere\\Dream_career\\Sport Analytics\\projects\\player_scouting\\football_scouting_model\\gk_helpers.py:188: SettingWithCopyWarning:\n",
      "\n",
      "\n",
      "A value is trying to be set on a copy of a slice from a DataFrame\n",
      "\n",
      "See the caveats in the documentation: https://pandas.pydata.org/pandas-docs/stable/user_guide/indexing.html#returning-a-view-versus-a-copy\n",
      "\n",
      "c:\\Users\\abidi\\Desktop\\Karriere\\Dream_career\\Sport Analytics\\projects\\player_scouting\\football_scouting_model\\gk_helpers.py:188: SettingWithCopyWarning:\n",
      "\n",
      "\n",
      "A value is trying to be set on a copy of a slice from a DataFrame\n",
      "\n",
      "See the caveats in the documentation: https://pandas.pydata.org/pandas-docs/stable/user_guide/indexing.html#returning-a-view-versus-a-copy\n",
      "\n"
     ]
    }
   ],
   "source": [
    "gk_merged_stats_17_18 = merge_datasets(gk_all_stats_17_18,gk_fifa_17_18)\n",
    "gk_merged_stats_18_19 = merge_datasets(gk_all_stats_18_19,gk_fifa_18_19)\n",
    "gk_merged_stats_19_20 = merge_datasets(gk_all_stats_19_20,gk_fifa_19_20)\n",
    "gk_merged_stats_20_21 = merge_datasets(gk_all_stats_20_21,gk_fifa_20_21)\n",
    "gk_merged_stats_21_22 = merge_datasets(gk_all_stats_21_22,gk_fifa_21_22)"
   ]
  },
  {
   "cell_type": "code",
   "execution_count": 6,
   "metadata": {},
   "outputs": [
    {
     "data": {
      "text/plain": [
       "93"
      ]
     },
     "execution_count": 6,
     "metadata": {},
     "output_type": "execute_result"
    }
   ],
   "source": [
    "gk_merged_stats_21_22['Player'].count()"
   ]
  },
  {
   "cell_type": "code",
   "execution_count": 7,
   "metadata": {},
   "outputs": [
    {
     "name": "stderr",
     "output_type": "stream",
     "text": [
      "c:\\Users\\abidi\\Desktop\\Karriere\\Dream_career\\Sport Analytics\\projects\\player_scouting\\football_scouting_model\\gk_helpers.py:201: SettingWithCopyWarning:\n",
      "\n",
      "\n",
      "A value is trying to be set on a copy of a slice from a DataFrame.\n",
      "Try using .loc[row_indexer,col_indexer] = value instead\n",
      "\n",
      "See the caveats in the documentation: https://pandas.pydata.org/pandas-docs/stable/user_guide/indexing.html#returning-a-view-versus-a-copy\n",
      "\n",
      "c:\\Users\\abidi\\Desktop\\Karriere\\Dream_career\\Sport Analytics\\projects\\player_scouting\\football_scouting_model\\gk_helpers.py:201: SettingWithCopyWarning:\n",
      "\n",
      "\n",
      "A value is trying to be set on a copy of a slice from a DataFrame.\n",
      "Try using .loc[row_indexer,col_indexer] = value instead\n",
      "\n",
      "See the caveats in the documentation: https://pandas.pydata.org/pandas-docs/stable/user_guide/indexing.html#returning-a-view-versus-a-copy\n",
      "\n",
      "c:\\Users\\abidi\\Desktop\\Karriere\\Dream_career\\Sport Analytics\\projects\\player_scouting\\football_scouting_model\\gk_helpers.py:201: SettingWithCopyWarning:\n",
      "\n",
      "\n",
      "A value is trying to be set on a copy of a slice from a DataFrame.\n",
      "Try using .loc[row_indexer,col_indexer] = value instead\n",
      "\n",
      "See the caveats in the documentation: https://pandas.pydata.org/pandas-docs/stable/user_guide/indexing.html#returning-a-view-versus-a-copy\n",
      "\n",
      "c:\\Users\\abidi\\Desktop\\Karriere\\Dream_career\\Sport Analytics\\projects\\player_scouting\\football_scouting_model\\gk_helpers.py:201: SettingWithCopyWarning:\n",
      "\n",
      "\n",
      "A value is trying to be set on a copy of a slice from a DataFrame.\n",
      "Try using .loc[row_indexer,col_indexer] = value instead\n",
      "\n",
      "See the caveats in the documentation: https://pandas.pydata.org/pandas-docs/stable/user_guide/indexing.html#returning-a-view-versus-a-copy\n",
      "\n",
      "c:\\Users\\abidi\\Desktop\\Karriere\\Dream_career\\Sport Analytics\\projects\\player_scouting\\football_scouting_model\\gk_helpers.py:201: SettingWithCopyWarning:\n",
      "\n",
      "\n",
      "A value is trying to be set on a copy of a slice from a DataFrame.\n",
      "Try using .loc[row_indexer,col_indexer] = value instead\n",
      "\n",
      "See the caveats in the documentation: https://pandas.pydata.org/pandas-docs/stable/user_guide/indexing.html#returning-a-view-versus-a-copy\n",
      "\n"
     ]
    }
   ],
   "source": [
    "gk_features_17_18 = create_gk_features(gk_merged_stats_17_18,\"_17_18\")\n",
    "gk_features_18_19 = create_gk_features(gk_merged_stats_18_19,\"_18_19\")\n",
    "gk_features_19_20 = create_gk_features(gk_merged_stats_19_20,\"_19_20\")\n",
    "gk_features_20_21 = create_gk_features(gk_merged_stats_20_21,\"_20_21\")\n",
    "gk_features_21_22 = create_gk_features(gk_merged_stats_21_22,\"_21_22\")\n"
   ]
  },
  {
   "cell_type": "code",
   "execution_count": 8,
   "metadata": {},
   "outputs": [],
   "source": [
    "gk_merged_stats_17_18.to_csv('./preprocessed_data/gk_merged_stats_17_18.csv')\n",
    "gk_features_17_18.to_csv('./preprocessed_data/gk_features_17_18.csv')\n",
    "\n",
    "gk_merged_stats_18_19.to_csv('./preprocessed_data/gk_merged_stats_18_19.csv')\n",
    "gk_features_18_19.to_csv('./preprocessed_data/gk_features_18_19.csv')\n",
    "\n",
    "gk_merged_stats_19_20.to_csv('./preprocessed_data/gk_merged_stats_19_20.csv')\n",
    "gk_features_19_20.to_csv('./preprocessed_data/gk_features_19_20.csv')\n",
    "\n",
    "gk_merged_stats_20_21.to_csv('./preprocessed_data/gk_merged_stats_20_21.csv')\n",
    "gk_features_20_21.to_csv('./preprocessed_data/gk_features_20_21.csv')\n",
    "\n",
    "gk_merged_stats_21_22.to_csv('./preprocessed_data/gk_merged_stats_21_22.csv')\n",
    "gk_features_21_22.to_csv('./preprocessed_data/gk_features_21_22.csv')"
   ]
  }
 ],
 "metadata": {
  "kernelspec": {
   "display_name": "Python 3.10.2 64-bit",
   "language": "python",
   "name": "python3"
  },
  "language_info": {
   "codemirror_mode": {
    "name": "ipython",
    "version": 3
   },
   "file_extension": ".py",
   "mimetype": "text/x-python",
   "name": "python",
   "nbconvert_exporter": "python",
   "pygments_lexer": "ipython3",
   "version": "3.10.2"
  },
  "orig_nbformat": 4,
  "vscode": {
   "interpreter": {
    "hash": "806c664ca045582bcf0664ed80118c082bb8b4ad123f0515d31fee2030743905"
   }
  }
 },
 "nbformat": 4,
 "nbformat_minor": 2
}
