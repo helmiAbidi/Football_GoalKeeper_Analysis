{
 "cells": [
  {
   "cell_type": "code",
   "execution_count": 1,
   "metadata": {},
   "outputs": [],
   "source": [
    "## classify goalkeepers in 3 classes.\n",
    "## get similar goalkeepers. \n",
    "## Create the predictor. "
   ]
  },
  {
   "cell_type": "code",
   "execution_count": 2,
   "metadata": {},
   "outputs": [],
   "source": [
    "from gk_helpers import * "
   ]
  },
  {
   "attachments": {},
   "cell_type": "markdown",
   "metadata": {},
   "source": [
    "## Goalkeeper Stats"
   ]
  },
  {
   "attachments": {},
   "cell_type": "markdown",
   "metadata": {},
   "source": [
    "Qualities of a goalkeeper are:\n",
    "1. Saving ability \n",
    "2. Distribution length & Distribution accuracy\n",
    "3. Quality with the ball \n",
    "4. Positioning ability\n",
    "5. Miscalleneous Stats\n",
    "\n",
    "In the rating, level of the league will be also considered: Premier League > La Liga > Serie A > Bundesliga > Ligue 1"
   ]
  },
  {
   "cell_type": "code",
   "execution_count": 3,
   "metadata": {},
   "outputs": [],
   "source": [
    "gk_all_stats_21_22 = pd.read_csv('../preprocessed_data/gk_all_stats_21_22.csv')\n",
    "gk_merged_stats_21_22 = pd.read_csv('../preprocessed_data/gk_merged_stats_21_22.csv')\n",
    "gk_features_21_22 = pd.read_csv('../preprocessed_data/gk_features_21_22.csv')"
   ]
  },
  {
   "cell_type": "code",
   "execution_count": 11,
   "metadata": {},
   "outputs": [
    {
     "data": {
      "text/plain": [
       "Unnamed: 0                    121\n",
       "Player                        121\n",
       "Nation                        121\n",
       "Pos                           121\n",
       "Squad                         121\n",
       "Comp                          121\n",
       "Age                           121\n",
       "Playing Time_MP               121\n",
       "Playing Time_Min              121\n",
       "Performance_GA                121\n",
       "Performance_GA90              121\n",
       "Performance_Save%             121\n",
       "Performance_CS                121\n",
       "Performance_CS%               121\n",
       "Penalty Kicks_PKatt           121\n",
       "Penalty Kicks_PKA             121\n",
       "Penalty Kicks_PKsv            121\n",
       "Penalty Kicks_PKm             121\n",
       "Born                          121\n",
       "Performance_CrdY              121\n",
       "Performance_CrdR              121\n",
       "Goals_FK                      121\n",
       "Goals_CK                      121\n",
       "Expected_PSxG                 121\n",
       "Expected_PSxG/SoT             121\n",
       "Expected_PSxG+/-              121\n",
       "Expected_/90                  121\n",
       "Launched_Att                  121\n",
       "Launched_Cmp%                 121\n",
       "Goal Kicks_Att                121\n",
       "Goal Kicks_Launch%            121\n",
       "Goal Kicks_AvgLen             121\n",
       "Passes_Att                    121\n",
       "Passes_Launch%                121\n",
       "Passes_AvgLen                 121\n",
       "Sweeper_#OPA/90               121\n",
       "Sweeper_AvgDist               121\n",
       "Crosses_Opp                   121\n",
       "Crosses_Stp%                  121\n",
       "Comp_Score                    121\n",
       "psxg_score                    121\n",
       "saving_ability_score_21_22    121\n",
       "Distribution_Score_21_22      121\n",
       "Ball_Quality_Score_21_22      121\n",
       "Positioning_Score_21_22       121\n",
       "Sweeper_Score_21_22           121\n",
       "dtype: int64"
      ]
     },
     "execution_count": 11,
     "metadata": {},
     "output_type": "execute_result"
    }
   ],
   "source": [
    "gk_all_stats_21_22.count()"
   ]
  },
  {
   "cell_type": "code",
   "execution_count": 4,
   "metadata": {},
   "outputs": [
    {
     "name": "stdout",
     "output_type": "stream",
     "text": [
      "['Unnamed: 0', 'Player', 'Nation', 'Pos', 'Squad', 'Comp', 'Age', 'Playing Time_MP', 'Playing Time_Min', 'Performance_GA', 'Performance_GA90', 'Performance_Save%', 'Performance_CS', 'Performance_CS%', 'Penalty Kicks_PKatt', 'Penalty Kicks_PKA', 'Penalty Kicks_PKsv', 'Penalty Kicks_PKm', 'Born', 'Performance_CrdY', 'Performance_CrdR', 'Goals_FK', 'Goals_CK', 'Expected_PSxG', 'Expected_PSxG/SoT', 'Expected_PSxG+/-', 'Expected_/90', 'Launched_Att', 'Launched_Cmp%', 'Goal Kicks_Att', 'Goal Kicks_Launch%', 'Goal Kicks_AvgLen', 'Passes_Att', 'Passes_Launch%', 'Passes_AvgLen', 'Sweeper_#OPA/90', 'Sweeper_AvgDist', 'Crosses_Opp', 'Crosses_Stp%', 'Comp_Score', 'psxg_score', 'saving_ability_score_21_22', 'Distribution_Score_21_22', 'Ball_Quality_Score_21_22', 'Positioning_Score_21_22', 'Sweeper_Score_21_22', 'short_version', 'short_name', 'long_name', 'player_positions', 'overall', 'club_name', 'age', 'dob', 'height_cm', 'weight_kg', 'league_name', 'club_position', 'nationality_name', 'pace', 'shooting', 'passing', 'skill_long_passing', 'skill_ball_control', 'power_shot_power', 'power_jumping', 'power_stamina', 'power_strength', 'power_long_shots', 'mentality_aggression', 'mentality_positioning', 'mentality_vision', 'mentality_penalties', 'mentality_composure', 'goalkeeping_diving', 'goalkeeping_handling', 'goalkeeping_kicking', 'goalkeeping_positioning', 'goalkeeping_reflexes', 'goalkeeping_speed', 'birth_year']\n"
     ]
    }
   ],
   "source": [
    "print(gk_merged_stats_21_22.columns.tolist())"
   ]
  },
  {
   "attachments": {},
   "cell_type": "markdown",
   "metadata": {},
   "source": [
    "# Radar Plots"
   ]
  },
  {
   "cell_type": "code",
   "execution_count": 5,
   "metadata": {},
   "outputs": [],
   "source": [
    "radar_columns = ['saving_ability_score_21_22', 'Distribution_Score_21_22', 'Ball_Quality_Score_21_22', 'Positioning_Score_21_22', 'Sweeper_Score_21_22']\n",
    "theta_columns = ['saving_ability_score', 'Distribution_Score', 'Ball_Quality_Score', 'Positioning_Score', 'Sweeper_Score']"
   ]
  },
  {
   "attachments": {},
   "cell_type": "markdown",
   "metadata": {},
   "source": [
    "Line Keeper"
   ]
  },
  {
   "cell_type": "code",
   "execution_count": 6,
   "metadata": {},
   "outputs": [],
   "source": [
    "# David De Gea, Jan Oblak\n",
    "## Giorgi Mamardashvili Keylor Navas\n",
    "compare_two_players('David de Gea','Keylor Navas',radar_columns,theta_columns,gk_all_stats_21_22,'Line Keepers')"
   ]
  },
  {
   "attachments": {},
   "cell_type": "markdown",
   "metadata": {},
   "source": [
    "Sweeper Keeper"
   ]
  },
  {
   "cell_type": "code",
   "execution_count": 10,
   "metadata": {},
   "outputs": [],
   "source": [
    "# Nick Pope, Manuel Neuer\n",
    "compare_two_players('Nick Pope','Manuel Neuer',radar_columns,theta_columns,gk_all_stats_21_22,'Sweeper Line Keepers')"
   ]
  },
  {
   "attachments": {},
   "cell_type": "markdown",
   "metadata": {},
   "source": [
    "Ball Playing Keeper"
   ]
  },
  {
   "cell_type": "code",
   "execution_count": 8,
   "metadata": {},
   "outputs": [],
   "source": [
    "# Robert Sánchez, Alisson\n",
    "compare_two_players('Robert Sánchez','Alisson',radar_columns,theta_columns,gk_all_stats_21_22, 'Ball Playing Keepers')"
   ]
  },
  {
   "attachments": {},
   "cell_type": "markdown",
   "metadata": {},
   "source": [
    "## Predict GoalKeeper FIFA Rating & Market Value"
   ]
  },
  {
   "cell_type": "code",
   "execution_count": 9,
   "metadata": {},
   "outputs": [
    {
     "ename": "FileNotFoundError",
     "evalue": "[Errno 2] No such file or directory: './data/FIFA_DS/FIFA_23.csv'",
     "output_type": "error",
     "traceback": [
      "\u001b[1;31m---------------------------------------------------------------------------\u001b[0m",
      "\u001b[1;31mFileNotFoundError\u001b[0m                         Traceback (most recent call last)",
      "\u001b[1;32mc:\\Users\\abidi\\Desktop\\Karriere\\Dream_career\\Sport Analytics\\projects\\player_scouting\\football_scouting_model\\notebooks\\gk_types.ipynb Cell 16\u001b[0m in \u001b[0;36m<cell line: 1>\u001b[1;34m()\u001b[0m\n\u001b[1;32m----> <a href='vscode-notebook-cell:/c%3A/Users/abidi/Desktop/Karriere/Dream_career/Sport%20Analytics/projects/player_scouting/football_scouting_model/notebooks/gk_types.ipynb#X21sZmlsZQ%3D%3D?line=0'>1</a>\u001b[0m FIFA_23 \u001b[39m=\u001b[39m pd\u001b[39m.\u001b[39;49mread_csv(\u001b[39m'\u001b[39;49m\u001b[39m./data/FIFA_DS/FIFA_23.csv\u001b[39;49m\u001b[39m'\u001b[39;49m)\n",
      "File \u001b[1;32mc:\\Users\\abidi\\AppData\\Local\\Programs\\Python\\Python310\\lib\\site-packages\\pandas\\util\\_decorators.py:311\u001b[0m, in \u001b[0;36mdeprecate_nonkeyword_arguments.<locals>.decorate.<locals>.wrapper\u001b[1;34m(*args, **kwargs)\u001b[0m\n\u001b[0;32m    305\u001b[0m \u001b[39mif\u001b[39;00m \u001b[39mlen\u001b[39m(args) \u001b[39m>\u001b[39m num_allow_args:\n\u001b[0;32m    306\u001b[0m     warnings\u001b[39m.\u001b[39mwarn(\n\u001b[0;32m    307\u001b[0m         msg\u001b[39m.\u001b[39mformat(arguments\u001b[39m=\u001b[39marguments),\n\u001b[0;32m    308\u001b[0m         \u001b[39mFutureWarning\u001b[39;00m,\n\u001b[0;32m    309\u001b[0m         stacklevel\u001b[39m=\u001b[39mstacklevel,\n\u001b[0;32m    310\u001b[0m     )\n\u001b[1;32m--> 311\u001b[0m \u001b[39mreturn\u001b[39;00m func(\u001b[39m*\u001b[39margs, \u001b[39m*\u001b[39m\u001b[39m*\u001b[39mkwargs)\n",
      "File \u001b[1;32mc:\\Users\\abidi\\AppData\\Local\\Programs\\Python\\Python310\\lib\\site-packages\\pandas\\io\\parsers\\readers.py:680\u001b[0m, in \u001b[0;36mread_csv\u001b[1;34m(filepath_or_buffer, sep, delimiter, header, names, index_col, usecols, squeeze, prefix, mangle_dupe_cols, dtype, engine, converters, true_values, false_values, skipinitialspace, skiprows, skipfooter, nrows, na_values, keep_default_na, na_filter, verbose, skip_blank_lines, parse_dates, infer_datetime_format, keep_date_col, date_parser, dayfirst, cache_dates, iterator, chunksize, compression, thousands, decimal, lineterminator, quotechar, quoting, doublequote, escapechar, comment, encoding, encoding_errors, dialect, error_bad_lines, warn_bad_lines, on_bad_lines, delim_whitespace, low_memory, memory_map, float_precision, storage_options)\u001b[0m\n\u001b[0;32m    665\u001b[0m kwds_defaults \u001b[39m=\u001b[39m _refine_defaults_read(\n\u001b[0;32m    666\u001b[0m     dialect,\n\u001b[0;32m    667\u001b[0m     delimiter,\n\u001b[1;32m   (...)\u001b[0m\n\u001b[0;32m    676\u001b[0m     defaults\u001b[39m=\u001b[39m{\u001b[39m\"\u001b[39m\u001b[39mdelimiter\u001b[39m\u001b[39m\"\u001b[39m: \u001b[39m\"\u001b[39m\u001b[39m,\u001b[39m\u001b[39m\"\u001b[39m},\n\u001b[0;32m    677\u001b[0m )\n\u001b[0;32m    678\u001b[0m kwds\u001b[39m.\u001b[39mupdate(kwds_defaults)\n\u001b[1;32m--> 680\u001b[0m \u001b[39mreturn\u001b[39;00m _read(filepath_or_buffer, kwds)\n",
      "File \u001b[1;32mc:\\Users\\abidi\\AppData\\Local\\Programs\\Python\\Python310\\lib\\site-packages\\pandas\\io\\parsers\\readers.py:575\u001b[0m, in \u001b[0;36m_read\u001b[1;34m(filepath_or_buffer, kwds)\u001b[0m\n\u001b[0;32m    572\u001b[0m _validate_names(kwds\u001b[39m.\u001b[39mget(\u001b[39m\"\u001b[39m\u001b[39mnames\u001b[39m\u001b[39m\"\u001b[39m, \u001b[39mNone\u001b[39;00m))\n\u001b[0;32m    574\u001b[0m \u001b[39m# Create the parser.\u001b[39;00m\n\u001b[1;32m--> 575\u001b[0m parser \u001b[39m=\u001b[39m TextFileReader(filepath_or_buffer, \u001b[39m*\u001b[39m\u001b[39m*\u001b[39mkwds)\n\u001b[0;32m    577\u001b[0m \u001b[39mif\u001b[39;00m chunksize \u001b[39mor\u001b[39;00m iterator:\n\u001b[0;32m    578\u001b[0m     \u001b[39mreturn\u001b[39;00m parser\n",
      "File \u001b[1;32mc:\\Users\\abidi\\AppData\\Local\\Programs\\Python\\Python310\\lib\\site-packages\\pandas\\io\\parsers\\readers.py:933\u001b[0m, in \u001b[0;36mTextFileReader.__init__\u001b[1;34m(self, f, engine, **kwds)\u001b[0m\n\u001b[0;32m    930\u001b[0m     \u001b[39mself\u001b[39m\u001b[39m.\u001b[39moptions[\u001b[39m\"\u001b[39m\u001b[39mhas_index_names\u001b[39m\u001b[39m\"\u001b[39m] \u001b[39m=\u001b[39m kwds[\u001b[39m\"\u001b[39m\u001b[39mhas_index_names\u001b[39m\u001b[39m\"\u001b[39m]\n\u001b[0;32m    932\u001b[0m \u001b[39mself\u001b[39m\u001b[39m.\u001b[39mhandles: IOHandles \u001b[39m|\u001b[39m \u001b[39mNone\u001b[39;00m \u001b[39m=\u001b[39m \u001b[39mNone\u001b[39;00m\n\u001b[1;32m--> 933\u001b[0m \u001b[39mself\u001b[39m\u001b[39m.\u001b[39m_engine \u001b[39m=\u001b[39m \u001b[39mself\u001b[39;49m\u001b[39m.\u001b[39;49m_make_engine(f, \u001b[39mself\u001b[39;49m\u001b[39m.\u001b[39;49mengine)\n",
      "File \u001b[1;32mc:\\Users\\abidi\\AppData\\Local\\Programs\\Python\\Python310\\lib\\site-packages\\pandas\\io\\parsers\\readers.py:1217\u001b[0m, in \u001b[0;36mTextFileReader._make_engine\u001b[1;34m(self, f, engine)\u001b[0m\n\u001b[0;32m   1213\u001b[0m     mode \u001b[39m=\u001b[39m \u001b[39m\"\u001b[39m\u001b[39mrb\u001b[39m\u001b[39m\"\u001b[39m\n\u001b[0;32m   1214\u001b[0m \u001b[39m# error: No overload variant of \"get_handle\" matches argument types\u001b[39;00m\n\u001b[0;32m   1215\u001b[0m \u001b[39m# \"Union[str, PathLike[str], ReadCsvBuffer[bytes], ReadCsvBuffer[str]]\"\u001b[39;00m\n\u001b[0;32m   1216\u001b[0m \u001b[39m# , \"str\", \"bool\", \"Any\", \"Any\", \"Any\", \"Any\", \"Any\"\u001b[39;00m\n\u001b[1;32m-> 1217\u001b[0m \u001b[39mself\u001b[39m\u001b[39m.\u001b[39mhandles \u001b[39m=\u001b[39m get_handle(  \u001b[39m# type: ignore[call-overload]\u001b[39;49;00m\n\u001b[0;32m   1218\u001b[0m     f,\n\u001b[0;32m   1219\u001b[0m     mode,\n\u001b[0;32m   1220\u001b[0m     encoding\u001b[39m=\u001b[39;49m\u001b[39mself\u001b[39;49m\u001b[39m.\u001b[39;49moptions\u001b[39m.\u001b[39;49mget(\u001b[39m\"\u001b[39;49m\u001b[39mencoding\u001b[39;49m\u001b[39m\"\u001b[39;49m, \u001b[39mNone\u001b[39;49;00m),\n\u001b[0;32m   1221\u001b[0m     compression\u001b[39m=\u001b[39;49m\u001b[39mself\u001b[39;49m\u001b[39m.\u001b[39;49moptions\u001b[39m.\u001b[39;49mget(\u001b[39m\"\u001b[39;49m\u001b[39mcompression\u001b[39;49m\u001b[39m\"\u001b[39;49m, \u001b[39mNone\u001b[39;49;00m),\n\u001b[0;32m   1222\u001b[0m     memory_map\u001b[39m=\u001b[39;49m\u001b[39mself\u001b[39;49m\u001b[39m.\u001b[39;49moptions\u001b[39m.\u001b[39;49mget(\u001b[39m\"\u001b[39;49m\u001b[39mmemory_map\u001b[39;49m\u001b[39m\"\u001b[39;49m, \u001b[39mFalse\u001b[39;49;00m),\n\u001b[0;32m   1223\u001b[0m     is_text\u001b[39m=\u001b[39;49mis_text,\n\u001b[0;32m   1224\u001b[0m     errors\u001b[39m=\u001b[39;49m\u001b[39mself\u001b[39;49m\u001b[39m.\u001b[39;49moptions\u001b[39m.\u001b[39;49mget(\u001b[39m\"\u001b[39;49m\u001b[39mencoding_errors\u001b[39;49m\u001b[39m\"\u001b[39;49m, \u001b[39m\"\u001b[39;49m\u001b[39mstrict\u001b[39;49m\u001b[39m\"\u001b[39;49m),\n\u001b[0;32m   1225\u001b[0m     storage_options\u001b[39m=\u001b[39;49m\u001b[39mself\u001b[39;49m\u001b[39m.\u001b[39;49moptions\u001b[39m.\u001b[39;49mget(\u001b[39m\"\u001b[39;49m\u001b[39mstorage_options\u001b[39;49m\u001b[39m\"\u001b[39;49m, \u001b[39mNone\u001b[39;49;00m),\n\u001b[0;32m   1226\u001b[0m )\n\u001b[0;32m   1227\u001b[0m \u001b[39massert\u001b[39;00m \u001b[39mself\u001b[39m\u001b[39m.\u001b[39mhandles \u001b[39mis\u001b[39;00m \u001b[39mnot\u001b[39;00m \u001b[39mNone\u001b[39;00m\n\u001b[0;32m   1228\u001b[0m f \u001b[39m=\u001b[39m \u001b[39mself\u001b[39m\u001b[39m.\u001b[39mhandles\u001b[39m.\u001b[39mhandle\n",
      "File \u001b[1;32mc:\\Users\\abidi\\AppData\\Local\\Programs\\Python\\Python310\\lib\\site-packages\\pandas\\io\\common.py:789\u001b[0m, in \u001b[0;36mget_handle\u001b[1;34m(path_or_buf, mode, encoding, compression, memory_map, is_text, errors, storage_options)\u001b[0m\n\u001b[0;32m    784\u001b[0m \u001b[39melif\u001b[39;00m \u001b[39misinstance\u001b[39m(handle, \u001b[39mstr\u001b[39m):\n\u001b[0;32m    785\u001b[0m     \u001b[39m# Check whether the filename is to be opened in binary mode.\u001b[39;00m\n\u001b[0;32m    786\u001b[0m     \u001b[39m# Binary mode does not support 'encoding' and 'newline'.\u001b[39;00m\n\u001b[0;32m    787\u001b[0m     \u001b[39mif\u001b[39;00m ioargs\u001b[39m.\u001b[39mencoding \u001b[39mand\u001b[39;00m \u001b[39m\"\u001b[39m\u001b[39mb\u001b[39m\u001b[39m\"\u001b[39m \u001b[39mnot\u001b[39;00m \u001b[39min\u001b[39;00m ioargs\u001b[39m.\u001b[39mmode:\n\u001b[0;32m    788\u001b[0m         \u001b[39m# Encoding\u001b[39;00m\n\u001b[1;32m--> 789\u001b[0m         handle \u001b[39m=\u001b[39m \u001b[39mopen\u001b[39;49m(\n\u001b[0;32m    790\u001b[0m             handle,\n\u001b[0;32m    791\u001b[0m             ioargs\u001b[39m.\u001b[39;49mmode,\n\u001b[0;32m    792\u001b[0m             encoding\u001b[39m=\u001b[39;49mioargs\u001b[39m.\u001b[39;49mencoding,\n\u001b[0;32m    793\u001b[0m             errors\u001b[39m=\u001b[39;49merrors,\n\u001b[0;32m    794\u001b[0m             newline\u001b[39m=\u001b[39;49m\u001b[39m\"\u001b[39;49m\u001b[39m\"\u001b[39;49m,\n\u001b[0;32m    795\u001b[0m         )\n\u001b[0;32m    796\u001b[0m     \u001b[39melse\u001b[39;00m:\n\u001b[0;32m    797\u001b[0m         \u001b[39m# Binary mode\u001b[39;00m\n\u001b[0;32m    798\u001b[0m         handle \u001b[39m=\u001b[39m \u001b[39mopen\u001b[39m(handle, ioargs\u001b[39m.\u001b[39mmode)\n",
      "\u001b[1;31mFileNotFoundError\u001b[0m: [Errno 2] No such file or directory: './data/FIFA_DS/FIFA_23.csv'"
     ]
    }
   ],
   "source": [
    "FIFA_23 = pd.read_csv('./data/FIFA_DS/FIFA_23.csv')"
   ]
  },
  {
   "cell_type": "code",
   "execution_count": null,
   "metadata": {},
   "outputs": [
    {
     "name": "stderr",
     "output_type": "stream",
     "text": [
      "c:\\Users\\abidi\\Desktop\\Karriere\\Dream_career\\Sport Analytics\\projects\\player_scouting\\football_scouting_model\\gk_helpers.py:165: DtypeWarning:\n",
      "\n",
      "Columns (104) have mixed types. Specify dtype option on import or set low_memory=False.\n",
      "\n",
      "c:\\Users\\abidi\\Desktop\\Karriere\\Dream_career\\Sport Analytics\\projects\\player_scouting\\football_scouting_model\\gk_helpers.py:170: SettingWithCopyWarning:\n",
      "\n",
      "\n",
      "A value is trying to be set on a copy of a slice from a DataFrame\n",
      "\n",
      "See the caveats in the documentation: https://pandas.pydata.org/pandas-docs/stable/user_guide/indexing.html#returning-a-view-versus-a-copy\n",
      "\n",
      "c:\\Users\\abidi\\Desktop\\Karriere\\Dream_career\\Sport Analytics\\projects\\player_scouting\\football_scouting_model\\gk_helpers.py:171: SettingWithCopyWarning:\n",
      "\n",
      "\n",
      "A value is trying to be set on a copy of a slice from a DataFrame\n",
      "\n",
      "See the caveats in the documentation: https://pandas.pydata.org/pandas-docs/stable/user_guide/indexing.html#returning-a-view-versus-a-copy\n",
      "\n",
      "c:\\Users\\abidi\\Desktop\\Karriere\\Dream_career\\Sport Analytics\\projects\\player_scouting\\football_scouting_model\\gk_helpers.py:172: SettingWithCopyWarning:\n",
      "\n",
      "\n",
      "A value is trying to be set on a copy of a slice from a DataFrame\n",
      "\n",
      "See the caveats in the documentation: https://pandas.pydata.org/pandas-docs/stable/user_guide/indexing.html#returning-a-view-versus-a-copy\n",
      "\n",
      "c:\\Users\\abidi\\Desktop\\Karriere\\Dream_career\\Sport Analytics\\projects\\player_scouting\\football_scouting_model\\gk_helpers.py:173: SettingWithCopyWarning:\n",
      "\n",
      "\n",
      "A value is trying to be set on a copy of a slice from a DataFrame\n",
      "\n",
      "See the caveats in the documentation: https://pandas.pydata.org/pandas-docs/stable/user_guide/indexing.html#returning-a-view-versus-a-copy\n",
      "\n",
      "c:\\Users\\abidi\\Desktop\\Karriere\\Dream_career\\Sport Analytics\\projects\\player_scouting\\football_scouting_model\\gk_helpers.py:174: SettingWithCopyWarning:\n",
      "\n",
      "\n",
      "A value is trying to be set on a copy of a slice from a DataFrame\n",
      "\n",
      "See the caveats in the documentation: https://pandas.pydata.org/pandas-docs/stable/user_guide/indexing.html#returning-a-view-versus-a-copy\n",
      "\n",
      "c:\\Users\\abidi\\Desktop\\Karriere\\Dream_career\\Sport Analytics\\projects\\player_scouting\\football_scouting_model\\gk_helpers.py:192: SettingWithCopyWarning:\n",
      "\n",
      "\n",
      "A value is trying to be set on a copy of a slice from a DataFrame\n",
      "\n",
      "See the caveats in the documentation: https://pandas.pydata.org/pandas-docs/stable/user_guide/indexing.html#returning-a-view-versus-a-copy\n",
      "\n"
     ]
    },
    {
     "name": "stdout",
     "output_type": "stream",
     "text": [
      "['de Bundesliga' 'eng Premier League' 'es La Liga' 'fr Ligue 1'\n",
      " 'it Serie A' 'Russian Premier League' 'Portuguese Liga ZON SAGRES'\n",
      " 'Turkish Süper Lig' 'Holland Eredivisie' 'Greek Super League'\n",
      " 'English League Championship' 'South African Premier Division'\n",
      " 'USA Major League Soccer' 'German 2. Bundesliga'\n",
      " 'Argentina Primera División' 'Ukrainian Premier League'\n",
      " 'Chilian Campeonato Nacional' 'Mexican Liga MX'\n",
      " 'Spanish Segunda División' 'Colombian Liga Postobón'\n",
      " 'Belgian Jupiler Pro League' nan 'Korean K League 1' 'French Ligue 2'\n",
      " 'Polish T-Mobile Ekstraklasa' 'Norwegian Eliteserien' 'Danish Superliga'\n",
      " 'Italian Serie B' 'Swiss Super League' 'Scottish Premiership'\n",
      " 'Swedish Allsvenskan' 'Austrian Football Bundesliga'\n",
      " 'Saudi Abdul L. Jameel League' 'English League One'\n",
      " 'Australian Hyundai A-League' 'English League Two'\n",
      " 'Scottish Championship' 'Rep. Ireland Airtricity League']\n"
     ]
    },
    {
     "name": "stderr",
     "output_type": "stream",
     "text": [
      "c:\\Users\\abidi\\Desktop\\Karriere\\Dream_career\\Sport Analytics\\projects\\player_scouting\\football_scouting_model\\gk_helpers.py:165: DtypeWarning:\n",
      "\n",
      "Columns (104) have mixed types. Specify dtype option on import or set low_memory=False.\n",
      "\n",
      "c:\\Users\\abidi\\Desktop\\Karriere\\Dream_career\\Sport Analytics\\projects\\player_scouting\\football_scouting_model\\gk_helpers.py:170: SettingWithCopyWarning:\n",
      "\n",
      "\n",
      "A value is trying to be set on a copy of a slice from a DataFrame\n",
      "\n",
      "See the caveats in the documentation: https://pandas.pydata.org/pandas-docs/stable/user_guide/indexing.html#returning-a-view-versus-a-copy\n",
      "\n",
      "c:\\Users\\abidi\\Desktop\\Karriere\\Dream_career\\Sport Analytics\\projects\\player_scouting\\football_scouting_model\\gk_helpers.py:171: SettingWithCopyWarning:\n",
      "\n",
      "\n",
      "A value is trying to be set on a copy of a slice from a DataFrame\n",
      "\n",
      "See the caveats in the documentation: https://pandas.pydata.org/pandas-docs/stable/user_guide/indexing.html#returning-a-view-versus-a-copy\n",
      "\n",
      "c:\\Users\\abidi\\Desktop\\Karriere\\Dream_career\\Sport Analytics\\projects\\player_scouting\\football_scouting_model\\gk_helpers.py:172: SettingWithCopyWarning:\n",
      "\n",
      "\n",
      "A value is trying to be set on a copy of a slice from a DataFrame\n",
      "\n",
      "See the caveats in the documentation: https://pandas.pydata.org/pandas-docs/stable/user_guide/indexing.html#returning-a-view-versus-a-copy\n",
      "\n",
      "c:\\Users\\abidi\\Desktop\\Karriere\\Dream_career\\Sport Analytics\\projects\\player_scouting\\football_scouting_model\\gk_helpers.py:173: SettingWithCopyWarning:\n",
      "\n",
      "\n",
      "A value is trying to be set on a copy of a slice from a DataFrame\n",
      "\n",
      "See the caveats in the documentation: https://pandas.pydata.org/pandas-docs/stable/user_guide/indexing.html#returning-a-view-versus-a-copy\n",
      "\n",
      "c:\\Users\\abidi\\Desktop\\Karriere\\Dream_career\\Sport Analytics\\projects\\player_scouting\\football_scouting_model\\gk_helpers.py:174: SettingWithCopyWarning:\n",
      "\n",
      "\n",
      "A value is trying to be set on a copy of a slice from a DataFrame\n",
      "\n",
      "See the caveats in the documentation: https://pandas.pydata.org/pandas-docs/stable/user_guide/indexing.html#returning-a-view-versus-a-copy\n",
      "\n",
      "c:\\Users\\abidi\\Desktop\\Karriere\\Dream_career\\Sport Analytics\\projects\\player_scouting\\football_scouting_model\\gk_helpers.py:192: SettingWithCopyWarning:\n",
      "\n",
      "\n",
      "A value is trying to be set on a copy of a slice from a DataFrame\n",
      "\n",
      "See the caveats in the documentation: https://pandas.pydata.org/pandas-docs/stable/user_guide/indexing.html#returning-a-view-versus-a-copy\n",
      "\n"
     ]
    },
    {
     "name": "stdout",
     "output_type": "stream",
     "text": [
      "['de Bundesliga' 'eng Premier League' 'it Serie A'\n",
      " 'Portuguese Liga ZON SAGRES' 'fr Ligue 1' 'es La Liga'\n",
      " 'Turkish Süper Lig' 'Holland Eredivisie' 'Russian Premier League'\n",
      " 'Greek Super League' 'Ukrainian Premier League'\n",
      " 'South African Premier Division' 'Argentina Primera División'\n",
      " 'Mexican Liga MX' 'USA Major League Soccer' 'Scottish Premiership'\n",
      " 'English League Championship' 'Belgian Jupiler Pro League'\n",
      " 'Italian Serie B' 'Chilian Campeonato Nacional' nan 'Korean K League 1'\n",
      " 'Swiss Super League' 'German 2. Bundesliga' 'Danish Superliga'\n",
      " 'Spanish Segunda División' 'French Ligue 2' 'Colombian Liga Postobón'\n",
      " 'English League One' 'Polish T-Mobile Ekstraklasa'\n",
      " 'Saudi Abdul L. Jameel League' 'Campeonato Brasileiro Série A'\n",
      " 'Swedish Allsvenskan' 'Norwegian Eliteserien'\n",
      " 'Australian Hyundai A-League' 'Austrian Football Bundesliga'\n",
      " 'English League Two' 'Rep. Ireland Airtricity League']\n"
     ]
    },
    {
     "name": "stderr",
     "output_type": "stream",
     "text": [
      "c:\\Users\\abidi\\Desktop\\Karriere\\Dream_career\\Sport Analytics\\projects\\player_scouting\\football_scouting_model\\gk_helpers.py:170: SettingWithCopyWarning:\n",
      "\n",
      "\n",
      "A value is trying to be set on a copy of a slice from a DataFrame\n",
      "\n",
      "See the caveats in the documentation: https://pandas.pydata.org/pandas-docs/stable/user_guide/indexing.html#returning-a-view-versus-a-copy\n",
      "\n",
      "c:\\Users\\abidi\\Desktop\\Karriere\\Dream_career\\Sport Analytics\\projects\\player_scouting\\football_scouting_model\\gk_helpers.py:171: SettingWithCopyWarning:\n",
      "\n",
      "\n",
      "A value is trying to be set on a copy of a slice from a DataFrame\n",
      "\n",
      "See the caveats in the documentation: https://pandas.pydata.org/pandas-docs/stable/user_guide/indexing.html#returning-a-view-versus-a-copy\n",
      "\n",
      "c:\\Users\\abidi\\Desktop\\Karriere\\Dream_career\\Sport Analytics\\projects\\player_scouting\\football_scouting_model\\gk_helpers.py:172: SettingWithCopyWarning:\n",
      "\n",
      "\n",
      "A value is trying to be set on a copy of a slice from a DataFrame\n",
      "\n",
      "See the caveats in the documentation: https://pandas.pydata.org/pandas-docs/stable/user_guide/indexing.html#returning-a-view-versus-a-copy\n",
      "\n",
      "c:\\Users\\abidi\\Desktop\\Karriere\\Dream_career\\Sport Analytics\\projects\\player_scouting\\football_scouting_model\\gk_helpers.py:173: SettingWithCopyWarning:\n",
      "\n",
      "\n",
      "A value is trying to be set on a copy of a slice from a DataFrame\n",
      "\n",
      "See the caveats in the documentation: https://pandas.pydata.org/pandas-docs/stable/user_guide/indexing.html#returning-a-view-versus-a-copy\n",
      "\n",
      "c:\\Users\\abidi\\Desktop\\Karriere\\Dream_career\\Sport Analytics\\projects\\player_scouting\\football_scouting_model\\gk_helpers.py:174: SettingWithCopyWarning:\n",
      "\n",
      "\n",
      "A value is trying to be set on a copy of a slice from a DataFrame\n",
      "\n",
      "See the caveats in the documentation: https://pandas.pydata.org/pandas-docs/stable/user_guide/indexing.html#returning-a-view-versus-a-copy\n",
      "\n",
      "c:\\Users\\abidi\\Desktop\\Karriere\\Dream_career\\Sport Analytics\\projects\\player_scouting\\football_scouting_model\\gk_helpers.py:192: SettingWithCopyWarning:\n",
      "\n",
      "\n",
      "A value is trying to be set on a copy of a slice from a DataFrame\n",
      "\n",
      "See the caveats in the documentation: https://pandas.pydata.org/pandas-docs/stable/user_guide/indexing.html#returning-a-view-versus-a-copy\n",
      "\n"
     ]
    },
    {
     "name": "stdout",
     "output_type": "stream",
     "text": [
      "['de Bundesliga' 'eng Premier League' 'it Serie A' 'es La Liga'\n",
      " 'fr Ligue 1' 'Portuguese Liga ZON SAGRES' 'Turkish Süper Lig'\n",
      " 'USA Major League Soccer' 'Ukrainian Premier League'\n",
      " 'Russian Premier League' 'Holland Eredivisie'\n",
      " 'Belgian Jupiler Pro League' 'Mexican Liga MX'\n",
      " 'Argentina Primera División' 'English League Championship'\n",
      " 'Colombian Liga Postobón' 'Campeonato Brasileiro Série A'\n",
      " 'French Ligue 2' 'Chilian Campeonato Nacional'\n",
      " 'South African Premier Division' 'Italian Serie B' 'Swiss Super League'\n",
      " 'Spanish Segunda División' 'Greek Super League' 'German 2. Bundesliga'\n",
      " nan 'Korean K League 1' 'Scottish Premiership' 'Swedish Allsvenskan'\n",
      " 'Austrian Football Bundesliga' 'Japanese J. League Division 1'\n",
      " 'Saudi Abdul L. Jameel League' 'Australian Hyundai A-League'\n",
      " 'Danish Superliga' 'English League One' 'Norwegian Eliteserien'\n",
      " 'Polish T-Mobile Ekstraklasa' 'Campeonato Brasileiro Série B'\n",
      " 'English League Two' 'Rep. Ireland Airtricity League'\n",
      " 'Finnish Veikkausliiga']\n"
     ]
    },
    {
     "name": "stderr",
     "output_type": "stream",
     "text": [
      "c:\\Users\\abidi\\Desktop\\Karriere\\Dream_career\\Sport Analytics\\projects\\player_scouting\\football_scouting_model\\gk_helpers.py:165: DtypeWarning:\n",
      "\n",
      "Columns (81,82,83,84,85) have mixed types. Specify dtype option on import or set low_memory=False.\n",
      "\n",
      "c:\\Users\\abidi\\Desktop\\Karriere\\Dream_career\\Sport Analytics\\projects\\player_scouting\\football_scouting_model\\gk_helpers.py:170: SettingWithCopyWarning:\n",
      "\n",
      "\n",
      "A value is trying to be set on a copy of a slice from a DataFrame\n",
      "\n",
      "See the caveats in the documentation: https://pandas.pydata.org/pandas-docs/stable/user_guide/indexing.html#returning-a-view-versus-a-copy\n",
      "\n",
      "c:\\Users\\abidi\\Desktop\\Karriere\\Dream_career\\Sport Analytics\\projects\\player_scouting\\football_scouting_model\\gk_helpers.py:171: SettingWithCopyWarning:\n",
      "\n",
      "\n",
      "A value is trying to be set on a copy of a slice from a DataFrame\n",
      "\n",
      "See the caveats in the documentation: https://pandas.pydata.org/pandas-docs/stable/user_guide/indexing.html#returning-a-view-versus-a-copy\n",
      "\n",
      "c:\\Users\\abidi\\Desktop\\Karriere\\Dream_career\\Sport Analytics\\projects\\player_scouting\\football_scouting_model\\gk_helpers.py:172: SettingWithCopyWarning:\n",
      "\n",
      "\n",
      "A value is trying to be set on a copy of a slice from a DataFrame\n",
      "\n",
      "See the caveats in the documentation: https://pandas.pydata.org/pandas-docs/stable/user_guide/indexing.html#returning-a-view-versus-a-copy\n",
      "\n",
      "c:\\Users\\abidi\\Desktop\\Karriere\\Dream_career\\Sport Analytics\\projects\\player_scouting\\football_scouting_model\\gk_helpers.py:173: SettingWithCopyWarning:\n",
      "\n",
      "\n",
      "A value is trying to be set on a copy of a slice from a DataFrame\n",
      "\n",
      "See the caveats in the documentation: https://pandas.pydata.org/pandas-docs/stable/user_guide/indexing.html#returning-a-view-versus-a-copy\n",
      "\n",
      "c:\\Users\\abidi\\Desktop\\Karriere\\Dream_career\\Sport Analytics\\projects\\player_scouting\\football_scouting_model\\gk_helpers.py:174: SettingWithCopyWarning:\n",
      "\n",
      "\n",
      "A value is trying to be set on a copy of a slice from a DataFrame\n",
      "\n",
      "See the caveats in the documentation: https://pandas.pydata.org/pandas-docs/stable/user_guide/indexing.html#returning-a-view-versus-a-copy\n",
      "\n",
      "c:\\Users\\abidi\\Desktop\\Karriere\\Dream_career\\Sport Analytics\\projects\\player_scouting\\football_scouting_model\\gk_helpers.py:192: SettingWithCopyWarning:\n",
      "\n",
      "\n",
      "A value is trying to be set on a copy of a slice from a DataFrame\n",
      "\n",
      "See the caveats in the documentation: https://pandas.pydata.org/pandas-docs/stable/user_guide/indexing.html#returning-a-view-versus-a-copy\n",
      "\n"
     ]
    },
    {
     "name": "stdout",
     "output_type": "stream",
     "text": [
      "['de Bundesliga' 'eng Premier League' 'it Serie A' 'es La Liga'\n",
      " 'fr Ligue 1' 'Portuguese Liga ZON SAGRES' 'Turkish Süper Lig'\n",
      " 'Belgian Jupiler Pro League' 'Ukrainian Premier League'\n",
      " 'Russian Premier League' 'Holland Eredivisie'\n",
      " 'Argentina Primera División' 'USA Major League Soccer' 'Mexican Liga MX'\n",
      " 'French Ligue 2' 'Chilian Campeonato Nacional'\n",
      " 'South African Premier Division' 'Spanish Segunda División'\n",
      " 'Swiss Super League' 'Greek Super League' 'Colombian Liga Postobón'\n",
      " 'Campeonato Brasileiro Série A' 'Italian Serie B'\n",
      " 'English League Championship' nan 'Scottish Premiership'\n",
      " 'German 2. Bundesliga' 'Danish Superliga' 'Korean K League 1'\n",
      " 'Swedish Allsvenskan' 'Saudi Abdul L. Jameel League'\n",
      " 'Japanese J. League Division 1' 'Norwegian Eliteserien'\n",
      " 'Austrian Football Bundesliga' 'Polish T-Mobile Ekstraklasa'\n",
      " 'English League One' 'German 3. Bundesliga'\n",
      " 'Czech Republic Gambrinus Liga' 'Australian Hyundai A-League'\n",
      " 'English League Two' 'Rep. Ireland Airtricity League'\n",
      " 'Finnish Veikkausliiga']\n"
     ]
    },
    {
     "name": "stderr",
     "output_type": "stream",
     "text": [
      "c:\\Users\\abidi\\Desktop\\Karriere\\Dream_career\\Sport Analytics\\projects\\player_scouting\\football_scouting_model\\gk_helpers.py:170: SettingWithCopyWarning:\n",
      "\n",
      "\n",
      "A value is trying to be set on a copy of a slice from a DataFrame\n",
      "\n",
      "See the caveats in the documentation: https://pandas.pydata.org/pandas-docs/stable/user_guide/indexing.html#returning-a-view-versus-a-copy\n",
      "\n",
      "c:\\Users\\abidi\\Desktop\\Karriere\\Dream_career\\Sport Analytics\\projects\\player_scouting\\football_scouting_model\\gk_helpers.py:171: SettingWithCopyWarning:\n",
      "\n",
      "\n",
      "A value is trying to be set on a copy of a slice from a DataFrame\n",
      "\n",
      "See the caveats in the documentation: https://pandas.pydata.org/pandas-docs/stable/user_guide/indexing.html#returning-a-view-versus-a-copy\n",
      "\n",
      "c:\\Users\\abidi\\Desktop\\Karriere\\Dream_career\\Sport Analytics\\projects\\player_scouting\\football_scouting_model\\gk_helpers.py:172: SettingWithCopyWarning:\n",
      "\n",
      "\n",
      "A value is trying to be set on a copy of a slice from a DataFrame\n",
      "\n",
      "See the caveats in the documentation: https://pandas.pydata.org/pandas-docs/stable/user_guide/indexing.html#returning-a-view-versus-a-copy\n",
      "\n",
      "c:\\Users\\abidi\\Desktop\\Karriere\\Dream_career\\Sport Analytics\\projects\\player_scouting\\football_scouting_model\\gk_helpers.py:173: SettingWithCopyWarning:\n",
      "\n",
      "\n",
      "A value is trying to be set on a copy of a slice from a DataFrame\n",
      "\n",
      "See the caveats in the documentation: https://pandas.pydata.org/pandas-docs/stable/user_guide/indexing.html#returning-a-view-versus-a-copy\n",
      "\n",
      "c:\\Users\\abidi\\Desktop\\Karriere\\Dream_career\\Sport Analytics\\projects\\player_scouting\\football_scouting_model\\gk_helpers.py:174: SettingWithCopyWarning:\n",
      "\n",
      "\n",
      "A value is trying to be set on a copy of a slice from a DataFrame\n",
      "\n",
      "See the caveats in the documentation: https://pandas.pydata.org/pandas-docs/stable/user_guide/indexing.html#returning-a-view-versus-a-copy\n",
      "\n",
      "c:\\Users\\abidi\\Desktop\\Karriere\\Dream_career\\Sport Analytics\\projects\\player_scouting\\football_scouting_model\\gk_helpers.py:192: SettingWithCopyWarning:\n",
      "\n",
      "\n",
      "A value is trying to be set on a copy of a slice from a DataFrame\n",
      "\n",
      "See the caveats in the documentation: https://pandas.pydata.org/pandas-docs/stable/user_guide/indexing.html#returning-a-view-versus-a-copy\n",
      "\n"
     ]
    },
    {
     "name": "stdout",
     "output_type": "stream",
     "text": [
      "['eng Premier League' 'de Bundesliga' 'es La Liga' 'fr Ligue 1'\n",
      " 'it Serie A' 'Portuguese Liga ZON SAGRES' 'German 2. Bundesliga'\n",
      " 'Campeonato Brasileiro Série A' 'Turkish Süper Lig'\n",
      " 'English League Championship' 'Russian Premier League'\n",
      " 'Holland Eredivisie' 'Argentina Primera División' nan 'Mexican Liga MX'\n",
      " 'Ukrainian Premier League' 'South African Premier Division'\n",
      " 'Belgian Jupiler Pro League' 'Italian Serie B' 'Spanish Segunda División'\n",
      " 'French Ligue 2' 'Saudi Abdul L. Jameel League'\n",
      " 'Czech Republic Gambrinus Liga' 'Chilian Campeonato Nacional'\n",
      " 'Colombian Liga Postobón' 'USA Major League Soccer'\n",
      " 'Scottish Premiership' 'Danish Superliga' 'Swiss Super League'\n",
      " 'Korean K League 1' 'Greek Super League' 'Japanese J. League Division 1'\n",
      " 'Norwegian Eliteserien' 'Austrian Football Bundesliga'\n",
      " 'Swedish Allsvenskan' 'Polish T-Mobile Ekstraklasa'\n",
      " 'Chinese Super League' 'Croatian Prva HNL' 'English League One'\n",
      " 'German 3. Bundesliga' 'Australian Hyundai A-League'\n",
      " 'Rep. Ireland Airtricity League' 'English League Two'\n",
      " 'Finnish Veikkausliiga']\n"
     ]
    },
    {
     "name": "stderr",
     "output_type": "stream",
     "text": [
      "c:\\Users\\abidi\\Desktop\\Karriere\\Dream_career\\Sport Analytics\\projects\\player_scouting\\football_scouting_model\\gk_helpers.py:170: SettingWithCopyWarning:\n",
      "\n",
      "\n",
      "A value is trying to be set on a copy of a slice from a DataFrame\n",
      "\n",
      "See the caveats in the documentation: https://pandas.pydata.org/pandas-docs/stable/user_guide/indexing.html#returning-a-view-versus-a-copy\n",
      "\n",
      "c:\\Users\\abidi\\Desktop\\Karriere\\Dream_career\\Sport Analytics\\projects\\player_scouting\\football_scouting_model\\gk_helpers.py:171: SettingWithCopyWarning:\n",
      "\n",
      "\n",
      "A value is trying to be set on a copy of a slice from a DataFrame\n",
      "\n",
      "See the caveats in the documentation: https://pandas.pydata.org/pandas-docs/stable/user_guide/indexing.html#returning-a-view-versus-a-copy\n",
      "\n",
      "c:\\Users\\abidi\\Desktop\\Karriere\\Dream_career\\Sport Analytics\\projects\\player_scouting\\football_scouting_model\\gk_helpers.py:172: SettingWithCopyWarning:\n",
      "\n",
      "\n",
      "A value is trying to be set on a copy of a slice from a DataFrame\n",
      "\n",
      "See the caveats in the documentation: https://pandas.pydata.org/pandas-docs/stable/user_guide/indexing.html#returning-a-view-versus-a-copy\n",
      "\n",
      "c:\\Users\\abidi\\Desktop\\Karriere\\Dream_career\\Sport Analytics\\projects\\player_scouting\\football_scouting_model\\gk_helpers.py:173: SettingWithCopyWarning:\n",
      "\n",
      "\n",
      "A value is trying to be set on a copy of a slice from a DataFrame\n",
      "\n",
      "See the caveats in the documentation: https://pandas.pydata.org/pandas-docs/stable/user_guide/indexing.html#returning-a-view-versus-a-copy\n",
      "\n",
      "c:\\Users\\abidi\\Desktop\\Karriere\\Dream_career\\Sport Analytics\\projects\\player_scouting\\football_scouting_model\\gk_helpers.py:174: SettingWithCopyWarning:\n",
      "\n",
      "\n",
      "A value is trying to be set on a copy of a slice from a DataFrame\n",
      "\n",
      "See the caveats in the documentation: https://pandas.pydata.org/pandas-docs/stable/user_guide/indexing.html#returning-a-view-versus-a-copy\n",
      "\n",
      "c:\\Users\\abidi\\Desktop\\Karriere\\Dream_career\\Sport Analytics\\projects\\player_scouting\\football_scouting_model\\gk_helpers.py:192: SettingWithCopyWarning:\n",
      "\n",
      "\n",
      "A value is trying to be set on a copy of a slice from a DataFrame\n",
      "\n",
      "See the caveats in the documentation: https://pandas.pydata.org/pandas-docs/stable/user_guide/indexing.html#returning-a-view-versus-a-copy\n",
      "\n"
     ]
    },
    {
     "name": "stdout",
     "output_type": "stream",
     "text": [
      "['es La Liga' 'eng Premier League' 'it Serie A' 'de Bundesliga'\n",
      " 'fr Ligue 1' 'Portuguese Liga ZON SAGRES' 'Holland Eredivisie'\n",
      " 'Campeonato Brasileiro Série A' 'Turkish Süper Lig' 'Rest of World'\n",
      " 'Argentina Primera División' nan 'Mexican Liga MX'\n",
      " 'Belgian Jupiler Pro League' 'German 2. Bundesliga'\n",
      " 'English League Championship' 'Spanish Segunda División'\n",
      " 'Saudi Abdul L. Jameel League' 'Norwegian Eliteserien'\n",
      " 'USA Major League Soccer' 'Scottish Premiership' 'Danish Superliga'\n",
      " 'Chinese Super League' 'Czech Republic Gambrinus Liga'\n",
      " 'Korean K League 1' 'Austrian Football Bundesliga' 'French Ligue 2'\n",
      " 'Colombian Liga Postobón' 'Italian Serie B' 'Romanian Liga I'\n",
      " 'Chilian Campeonato Nacional' 'Swiss Super League'\n",
      " 'Japanese J. League Division 1' 'Swedish Allsvenskan'\n",
      " 'Polish T-Mobile Ekstraklasa' 'English League One'\n",
      " 'Australian Hyundai A-League' 'German 3. Bundesliga' 'English League Two'\n",
      " 'Rep. Ireland Airtricity League']\n"
     ]
    },
    {
     "name": "stderr",
     "output_type": "stream",
     "text": [
      "c:\\Users\\abidi\\Desktop\\Karriere\\Dream_career\\Sport Analytics\\projects\\player_scouting\\football_scouting_model\\gk_helpers.py:170: SettingWithCopyWarning:\n",
      "\n",
      "\n",
      "A value is trying to be set on a copy of a slice from a DataFrame\n",
      "\n",
      "See the caveats in the documentation: https://pandas.pydata.org/pandas-docs/stable/user_guide/indexing.html#returning-a-view-versus-a-copy\n",
      "\n",
      "c:\\Users\\abidi\\Desktop\\Karriere\\Dream_career\\Sport Analytics\\projects\\player_scouting\\football_scouting_model\\gk_helpers.py:171: SettingWithCopyWarning:\n",
      "\n",
      "\n",
      "A value is trying to be set on a copy of a slice from a DataFrame\n",
      "\n",
      "See the caveats in the documentation: https://pandas.pydata.org/pandas-docs/stable/user_guide/indexing.html#returning-a-view-versus-a-copy\n",
      "\n",
      "c:\\Users\\abidi\\Desktop\\Karriere\\Dream_career\\Sport Analytics\\projects\\player_scouting\\football_scouting_model\\gk_helpers.py:172: SettingWithCopyWarning:\n",
      "\n",
      "\n",
      "A value is trying to be set on a copy of a slice from a DataFrame\n",
      "\n",
      "See the caveats in the documentation: https://pandas.pydata.org/pandas-docs/stable/user_guide/indexing.html#returning-a-view-versus-a-copy\n",
      "\n",
      "c:\\Users\\abidi\\Desktop\\Karriere\\Dream_career\\Sport Analytics\\projects\\player_scouting\\football_scouting_model\\gk_helpers.py:173: SettingWithCopyWarning:\n",
      "\n",
      "\n",
      "A value is trying to be set on a copy of a slice from a DataFrame\n",
      "\n",
      "See the caveats in the documentation: https://pandas.pydata.org/pandas-docs/stable/user_guide/indexing.html#returning-a-view-versus-a-copy\n",
      "\n",
      "c:\\Users\\abidi\\Desktop\\Karriere\\Dream_career\\Sport Analytics\\projects\\player_scouting\\football_scouting_model\\gk_helpers.py:174: SettingWithCopyWarning:\n",
      "\n",
      "\n",
      "A value is trying to be set on a copy of a slice from a DataFrame\n",
      "\n",
      "See the caveats in the documentation: https://pandas.pydata.org/pandas-docs/stable/user_guide/indexing.html#returning-a-view-versus-a-copy\n",
      "\n",
      "c:\\Users\\abidi\\Desktop\\Karriere\\Dream_career\\Sport Analytics\\projects\\player_scouting\\football_scouting_model\\gk_helpers.py:192: SettingWithCopyWarning:\n",
      "\n",
      "\n",
      "A value is trying to be set on a copy of a slice from a DataFrame\n",
      "\n",
      "See the caveats in the documentation: https://pandas.pydata.org/pandas-docs/stable/user_guide/indexing.html#returning-a-view-versus-a-copy\n",
      "\n"
     ]
    },
    {
     "name": "stdout",
     "output_type": "stream",
     "text": [
      "['es La Liga' 'eng Premier League' 'de Bundesliga' 'it Serie A'\n",
      " 'fr Ligue 1' 'Holland Eredivisie' 'Turkish Süper Lig'\n",
      " 'Portuguese Liga ZON SAGRES' 'Campeonato Brasileiro Série A'\n",
      " 'Belgian Jupiler Pro League' 'Argentina Primera División'\n",
      " 'Russian Premier League' 'Croatian Prva HNL' nan 'Mexican Liga MX'\n",
      " 'English League Championship' 'Greek Super League'\n",
      " 'Czech Republic Gambrinus Liga' 'Spanish Segunda División'\n",
      " 'French Ligue 2' 'Ukrainian Premier League' 'Italian Serie B'\n",
      " 'Danish Superliga' 'Uruguayan Primera División' 'USA Major League Soccer'\n",
      " 'Chilian Campeonato Nacional' 'Swiss Super League' 'Korean K League 1'\n",
      " 'Austrian Football Bundesliga' 'Scottish Premiership'\n",
      " 'Saudi Abdul L. Jameel League' 'Norwegian Eliteserien'\n",
      " 'German 2. Bundesliga' 'Polish T-Mobile Ekstraklasa'\n",
      " 'Colombian Liga Postobón' 'South African Premier Division'\n",
      " 'Ecuadorian Serie A' 'Paraguayan Primera División'\n",
      " 'Japanese J. League Division 1' 'Chinese Super League'\n",
      " 'Swedish Allsvenskan' 'Romanian Liga I' 'Peruvian Primera División'\n",
      " 'English League One' 'Australian Hyundai A-League'\n",
      " 'UAE Arabian Gulf League' 'German 3. Bundesliga'\n",
      " 'Liga de Fútbol Profesional Boliviano' 'English League Two'\n",
      " 'Venezuelan Primera División' 'Rep. Ireland Airtricity League'\n",
      " 'Finnish Veikkausliiga']\n",
      "['es La Liga' 'de Bundesliga' 'eng Premier League' 'fr Ligue 1'\n",
      " 'it Serie A' 'Campeonato Brasileiro Série A' 'Croatian Prva HNL'\n",
      " 'Portuguese Liga ZON SAGRES' 'Greek Super League' 'Italian Serie B'\n",
      " 'Mexican Liga MX' 'Russian Premier League' 'Belgian Jupiler Pro League'\n",
      " 'Turkish Süper Lig' 'Argentina Primera División' 'German 2. Bundesliga'\n",
      " 'Czech Republic Gambrinus Liga' 'Scottish Premiership'\n",
      " 'English League Championship' 'Holland Eredivisie'\n",
      " 'Spanish Segunda División' nan 'Saudi Abdul L. Jameel League'\n",
      " 'Swiss Super League' 'USA Major League Soccer'\n",
      " 'Uruguayan Primera División' 'Ukrainian Premier League'\n",
      " 'Swedish Allsvenskan' 'Paraguayan Primera División' 'Korean K League 1'\n",
      " 'Danish Superliga' 'Colombian Liga Postobón' 'Norwegian Eliteserien'\n",
      " 'Ecuadorian Serie A' 'Austrian Football Bundesliga'\n",
      " 'South African Premier Division' 'Polish T-Mobile Ekstraklasa'\n",
      " 'French Ligue 2' 'Hungarian Nemzeti Bajnokság I' 'Chinese Super League'\n",
      " 'Chilian Campeonato Nacional' 'Cypriot First Division'\n",
      " 'English League One' 'Peruvian Primera División' 'Romanian Liga I'\n",
      " 'Japanese J. League Division 1' 'Australian Hyundai A-League'\n",
      " 'German 3. Bundesliga' 'UAE Arabian Gulf League'\n",
      " 'Liga de Fútbol Profesional Boliviano' 'Venezuelan Primera División'\n",
      " 'English League Two' 'Rep. Ireland Airtricity League'\n",
      " 'Indian Super League' 'English National League' 'Finnish Veikkausliiga']\n"
     ]
    },
    {
     "name": "stderr",
     "output_type": "stream",
     "text": [
      "c:\\Users\\abidi\\Desktop\\Karriere\\Dream_career\\Sport Analytics\\projects\\player_scouting\\football_scouting_model\\gk_helpers.py:165: DtypeWarning:\n",
      "\n",
      "Columns (25,108) have mixed types. Specify dtype option on import or set low_memory=False.\n",
      "\n",
      "c:\\Users\\abidi\\Desktop\\Karriere\\Dream_career\\Sport Analytics\\projects\\player_scouting\\football_scouting_model\\gk_helpers.py:170: SettingWithCopyWarning:\n",
      "\n",
      "\n",
      "A value is trying to be set on a copy of a slice from a DataFrame\n",
      "\n",
      "See the caveats in the documentation: https://pandas.pydata.org/pandas-docs/stable/user_guide/indexing.html#returning-a-view-versus-a-copy\n",
      "\n",
      "c:\\Users\\abidi\\Desktop\\Karriere\\Dream_career\\Sport Analytics\\projects\\player_scouting\\football_scouting_model\\gk_helpers.py:171: SettingWithCopyWarning:\n",
      "\n",
      "\n",
      "A value is trying to be set on a copy of a slice from a DataFrame\n",
      "\n",
      "See the caveats in the documentation: https://pandas.pydata.org/pandas-docs/stable/user_guide/indexing.html#returning-a-view-versus-a-copy\n",
      "\n",
      "c:\\Users\\abidi\\Desktop\\Karriere\\Dream_career\\Sport Analytics\\projects\\player_scouting\\football_scouting_model\\gk_helpers.py:172: SettingWithCopyWarning:\n",
      "\n",
      "\n",
      "A value is trying to be set on a copy of a slice from a DataFrame\n",
      "\n",
      "See the caveats in the documentation: https://pandas.pydata.org/pandas-docs/stable/user_guide/indexing.html#returning-a-view-versus-a-copy\n",
      "\n",
      "c:\\Users\\abidi\\Desktop\\Karriere\\Dream_career\\Sport Analytics\\projects\\player_scouting\\football_scouting_model\\gk_helpers.py:173: SettingWithCopyWarning:\n",
      "\n",
      "\n",
      "A value is trying to be set on a copy of a slice from a DataFrame\n",
      "\n",
      "See the caveats in the documentation: https://pandas.pydata.org/pandas-docs/stable/user_guide/indexing.html#returning-a-view-versus-a-copy\n",
      "\n",
      "c:\\Users\\abidi\\Desktop\\Karriere\\Dream_career\\Sport Analytics\\projects\\player_scouting\\football_scouting_model\\gk_helpers.py:174: SettingWithCopyWarning:\n",
      "\n",
      "\n",
      "A value is trying to be set on a copy of a slice from a DataFrame\n",
      "\n",
      "See the caveats in the documentation: https://pandas.pydata.org/pandas-docs/stable/user_guide/indexing.html#returning-a-view-versus-a-copy\n",
      "\n",
      "c:\\Users\\abidi\\Desktop\\Karriere\\Dream_career\\Sport Analytics\\projects\\player_scouting\\football_scouting_model\\gk_helpers.py:192: SettingWithCopyWarning:\n",
      "\n",
      "\n",
      "A value is trying to be set on a copy of a slice from a DataFrame\n",
      "\n",
      "See the caveats in the documentation: https://pandas.pydata.org/pandas-docs/stable/user_guide/indexing.html#returning-a-view-versus-a-copy\n",
      "\n"
     ]
    }
   ],
   "source": []
  },
  {
   "cell_type": "code",
   "execution_count": null,
   "metadata": {},
   "outputs": [
    {
     "name": "stdout",
     "output_type": "stream",
     "text": [
      "['long_name', 'player_positions_18', 'overall_18', 'potential_18', 'value_eur_18', 'wage_eur_18', 'club_name_18', 'age_18', 'dob', 'height_cm_18', 'weight_kg_18', 'league_name_18', 'skill_long_passing_18', 'skill_ball_control_18', 'power_strength_18', 'mentality_vision_18', 'mentality_composure_18', 'goalkeeping_diving_18', 'goalkeeping_handling_18', 'goalkeeping_kicking_18', 'goalkeeping_positioning_18', 'goalkeeping_reflexes_18', 'goalkeeping_speed_18']\n"
     ]
    }
   ],
   "source": [
    "print(FIFA_18.columns.tolist())"
   ]
  },
  {
   "cell_type": "code",
   "execution_count": null,
   "metadata": {},
   "outputs": [],
   "source": [
    "from functools import reduce\n",
    "\n",
    "data_frames = [FIFA_19, FIFA_20, FIFA_21] # list of dataframes\n",
    "\n",
    "gk_fifa_ds_train = reduce(lambda  left,right: pd.merge(left,right,on=['long_name','dob'],\n",
    "                                            how='inner'), data_frames)"
   ]
  },
  {
   "cell_type": "code",
   "execution_count": null,
   "metadata": {},
   "outputs": [
    {
     "data": {
      "text/plain": [
       "1099"
      ]
     },
     "execution_count": 219,
     "metadata": {},
     "output_type": "execute_result"
    }
   ],
   "source": [
    "gk_fifa_ds_train[\"long_name\"].count()"
   ]
  },
  {
   "cell_type": "code",
   "execution_count": null,
   "metadata": {},
   "outputs": [
    {
     "name": "stdout",
     "output_type": "stream",
     "text": [
      "['long_name', 'player_positions_19', 'overall_19', 'potential_19', 'value_eur_19', 'wage_eur_19', 'club_name_19', 'age_19', 'dob', 'height_cm_19', 'weight_kg_19', 'league_name_19', 'skill_long_passing_19', 'skill_ball_control_19', 'power_strength_19', 'mentality_vision_19', 'mentality_composure_19', 'goalkeeping_diving_19', 'goalkeeping_handling_19', 'goalkeeping_kicking_19', 'goalkeeping_positioning_19', 'goalkeeping_reflexes_19', 'goalkeeping_speed_19', 'player_positions_20', 'overall_20', 'potential_20', 'value_eur_20', 'wage_eur_20', 'club_name_20', 'age_20', 'height_cm_20', 'weight_kg_20', 'league_name_20', 'skill_long_passing_20', 'skill_ball_control_20', 'power_strength_20', 'mentality_vision_20', 'mentality_composure_20', 'goalkeeping_diving_20', 'goalkeeping_handling_20', 'goalkeeping_kicking_20', 'goalkeeping_positioning_20', 'goalkeeping_reflexes_20', 'goalkeeping_speed_20', 'player_positions_21', 'overall_21', 'potential_21', 'value_eur_21', 'wage_eur_21', 'club_name_21', 'age_21', 'height_cm_21', 'weight_kg_21', 'league_name_21', 'skill_long_passing_21', 'skill_ball_control_21', 'power_strength_21', 'mentality_vision_21', 'mentality_composure_21', 'goalkeeping_diving_21', 'goalkeeping_handling_21', 'goalkeeping_kicking_21', 'goalkeeping_positioning_21', 'goalkeeping_reflexes_21', 'goalkeeping_speed_21']\n"
     ]
    }
   ],
   "source": [
    "print(gk_fifa_ds_train.columns.tolist())"
   ]
  },
  {
   "attachments": {},
   "cell_type": "markdown",
   "metadata": {},
   "source": [
    "Check corrolation between features and target variable"
   ]
  },
  {
   "cell_type": "code",
   "execution_count": null,
   "metadata": {},
   "outputs": [],
   "source": [
    "''' \n",
    " 'player_positions_18','potential_18', 'value_eur_18', 'wage_eur_18','height_cm_18', \n",
    "                      'weight_kg_18','club_name_18', 'league_name_18',\n",
    "                      \n",
    "'''"
   ]
  },
  {
   "cell_type": "code",
   "execution_count": null,
   "metadata": {},
   "outputs": [],
   "source": [
    "eliminated_columns = ['long_name','dob','player_positions_19','potential_19', 'value_eur_19', 'wage_eur_19','club_name_19', 'age_19', \n",
    "                      'height_cm_19', 'weight_kg_19', 'league_name_19',\n",
    "                      'player_positions_20','potential_20', 'value_eur_20', 'wage_eur_20','club_name_20', 'age_20', \n",
    "                      'height_cm_20', 'weight_kg_20', 'league_name_20',\n",
    "                      'player_positions_21', 'overall_21', 'potential_21', 'value_eur_21', 'wage_eur_21', 'club_name_21',\n",
    "                      'age_21', 'height_cm_21', 'weight_kg_21', 'league_name_21', 'skill_long_passing_21', \n",
    "                      'skill_ball_control_21', 'power_strength_21', 'mentality_vision_21', 'mentality_composure_21', \n",
    "                      'goalkeeping_diving_21', 'goalkeeping_handling_21', 'goalkeeping_kicking_21', \n",
    "                      'goalkeeping_positioning_21', 'goalkeeping_reflexes_21', 'goalkeeping_speed_21']\n",
    "feature_column = list(set(gk_fifa_ds_train.columns.tolist())- set(eliminated_columns))"
   ]
  },
  {
   "cell_type": "code",
   "execution_count": null,
   "metadata": {},
   "outputs": [
    {
     "data": {
      "text/plain": [
       "24"
      ]
     },
     "execution_count": 225,
     "metadata": {},
     "output_type": "execute_result"
    }
   ],
   "source": [
    "len(feature_column)"
   ]
  },
  {
   "cell_type": "code",
   "execution_count": null,
   "metadata": {},
   "outputs": [],
   "source": [
    "features, corrolations = [],[]\n",
    "for column in feature_column:\n",
    "    if column != 'overall_21':\n",
    "        corrolations.append( gk_fifa_ds_train['overall_21'].corr(gk_fifa_ds_train[column]))\n",
    "        features.append(column)\n",
    "\n",
    "corr_df = pd.DataFrame(data={'features':features, 'corrolations': corrolations})\n",
    "corr_df.sort_values(by=\"corrolations\",ascending=False,inplace= True)\n",
    "corr_df = corr_df[corr_df['corrolations']>0.5]"
   ]
  },
  {
   "cell_type": "code",
   "execution_count": null,
   "metadata": {},
   "outputs": [
    {
     "name": "stdout",
     "output_type": "stream",
     "text": [
      "['overall_20', 'goalkeeping_reflexes_20', 'goalkeeping_diving_20', 'goalkeeping_positioning_20', 'goalkeeping_handling_20', 'overall_19', 'goalkeeping_reflexes_19', 'goalkeeping_diving_19', 'goalkeeping_positioning_19', 'goalkeeping_handling_19', 'goalkeeping_kicking_20', 'goalkeeping_kicking_19']\n"
     ]
    }
   ],
   "source": [
    "print(corr_df['features'].tolist())"
   ]
  },
  {
   "cell_type": "code",
   "execution_count": null,
   "metadata": {},
   "outputs": [
    {
     "data": {
      "text/plain": [
       "12"
      ]
     },
     "execution_count": 228,
     "metadata": {},
     "output_type": "execute_result"
    }
   ],
   "source": [
    "len(corr_df['features'].tolist())"
   ]
  },
  {
   "cell_type": "code",
   "execution_count": null,
   "metadata": {},
   "outputs": [
    {
     "data": {
      "image/png": "[encoded data removed]",
      "text/plain": [
       "<Figure size 1440x1440 with 1 Axes>"
      ]
     },
     "metadata": {
      "needs_background": "light"
     },
     "output_type": "display_data"
    }
   ],
   "source": [
    "import matplotlib.pyplot as plt\n",
    "\n",
    "fig = plt.figure(figsize=(20,20))\n",
    "x = corr_df['features'].tolist()\n",
    "y = corr_df['corrolations'].tolist()\n",
    "\n",
    "plt.bar(x,y,align='center') # A bar chart\n",
    "plt.xticks(rotation=90)\n",
    "plt.xlabel('Features')\n",
    "plt.ylabel('Corrolation')\n",
    "for i in range(len(y)):\n",
    "    plt.hlines(y[i],0,x[i]) # Here you are drawing the horizontal lines\n",
    "plt.show()"
   ]
  },
  {
   "attachments": {},
   "cell_type": "markdown",
   "metadata": {},
   "source": [
    "Normalize & standardize relevant features"
   ]
  },
  {
   "cell_type": "code",
   "execution_count": null,
   "metadata": {},
   "outputs": [
    {
     "data": {
      "text/plain": [
       "12"
      ]
     },
     "execution_count": 230,
     "metadata": {},
     "output_type": "execute_result"
    }
   ],
   "source": [
    "len(corr_df['features'].tolist())"
   ]
  },
  {
   "cell_type": "code",
   "execution_count": null,
   "metadata": {},
   "outputs": [
    {
     "data": {
      "text/plain": [
       "<AxesSubplot:ylabel='Frequency'>"
      ]
     },
     "execution_count": 231,
     "metadata": {},
     "output_type": "execute_result"
    },
    {
     "data": {
      "image/png": "[encoded data removed]",
      "text/plain": [
       "<Figure size 720x720 with 1 Axes>"
      ]
     },
     "metadata": {
      "needs_background": "light"
     },
     "output_type": "display_data"
    }
   ],
   "source": [
    "gk_features = gk_fifa_ds_train[corr_df['features'].tolist()]\n",
    "fig = plt.figure(figsize = (10,10))\n",
    "ax_ = fig.gca()\n",
    "\n",
    "normalized_df=(gk_features-gk_features.mean())/gk_features.std()\n",
    "\n",
    "normalized_df.plot.hist(ax= ax_, bins=12, alpha=0.5)"
   ]
  },
  {
   "attachments": {},
   "cell_type": "markdown",
   "metadata": {},
   "source": [
    "Prepare Train & Test Datasets"
   ]
  },
  {
   "cell_type": "code",
   "execution_count": null,
   "metadata": {},
   "outputs": [],
   "source": [
    "features_17, target_17 = prepare_train_datasets(FIFA_15, FIFA_16, FIFA_17, 17)\n",
    "features_18, target_18 = prepare_train_datasets(FIFA_16, FIFA_17, FIFA_18, 18)\n",
    "features_19, target_19 = prepare_train_datasets(FIFA_17, FIFA_18, FIFA_19, 19)\n",
    "features_20, target_20 = prepare_train_datasets(FIFA_18, FIFA_19, FIFA_20, 20)\n",
    "features_21, target_21 = prepare_train_datasets(FIFA_19, FIFA_20, FIFA_21, 21)\n",
    "\n",
    "features_22, target_22 = prepare_train_datasets(FIFA_20, FIFA_21, FIFA_22, 22)"
   ]
  },
  {
   "cell_type": "code",
   "execution_count": null,
   "metadata": {},
   "outputs": [],
   "source": [
    "train_data = np.concatenate((features_17,features_18,features_19,features_20,features_21),axis=0)\n",
    "train_target = np.concatenate((target_17,target_18,target_19,target_20,target_21),axis=0)"
   ]
  },
  {
   "cell_type": "code",
   "execution_count": null,
   "metadata": {},
   "outputs": [],
   "source": [
    "test_data, test_target = features_22, target_22"
   ]
  },
  {
   "cell_type": "code",
   "execution_count": null,
   "metadata": {},
   "outputs": [],
   "source": [
    "from sklearn.preprocessing import StandardScaler\n",
    "from sklearn.preprocessing import Normalizer\n",
    "\n",
    "data = gk_features.to_numpy(dtype=float)\n",
    "#scaler = StandardScaler()\n",
    "#scaler.fit(data)\n",
    "#scaled_data = scaler.transform(data)\n",
    "\n",
    "#transformer = Normalizer().fit(data) \n",
    "#train_data = transformer.transform(data)\n",
    "train_data = data "
   ]
  },
  {
   "cell_type": "code",
   "execution_count": null,
   "metadata": {},
   "outputs": [],
   "source": [
    "train_target = gk_fifa_ds_train['overall_21'].to_numpy()"
   ]
  },
  {
   "cell_type": "code",
   "execution_count": null,
   "metadata": {},
   "outputs": [
    {
     "data": {
      "text/plain": [
       "(1099, 12)"
      ]
     },
     "execution_count": 234,
     "metadata": {},
     "output_type": "execute_result"
    }
   ],
   "source": [
    "train_data.shape"
   ]
  },
  {
   "cell_type": "code",
   "execution_count": null,
   "metadata": {},
   "outputs": [
    {
     "data": {
      "text/plain": [
       "(1099,)"
      ]
     },
     "execution_count": 235,
     "metadata": {},
     "output_type": "execute_result"
    }
   ],
   "source": [
    "train_target.shape"
   ]
  },
  {
   "attachments": {},
   "cell_type": "markdown",
   "metadata": {},
   "source": [
    "# Testing Lasso Regression "
   ]
  },
  {
   "cell_type": "code",
   "execution_count": null,
   "metadata": {},
   "outputs": [
    {
     "data": {
      "text/html": [
       "<style>#sk-container-id-2 {color: black;background-color: white;}#sk-container-id-2 pre{padding: 0;}#sk-container-id-2 div.sk-toggleable {background-color: white;}#sk-container-id-2 label.sk-toggleable__label {cursor: pointer;display: block;width: 100%;margin-bottom: 0;padding: 0.3em;box-sizing: border-box;text-align: center;}#sk-container-id-2 label.sk-toggleable__label-arrow:before {content: \"▸\";float: left;margin-right: 0.25em;color: #696969;}#sk-container-id-2 label.sk-toggleable__label-arrow:hover:before {color: black;}#sk-container-id-2 div.sk-estimator:hover label.sk-toggleable__label-arrow:before {color: black;}#sk-container-id-2 div.sk-toggleable__content {max-height: 0;max-width: 0;overflow: hidden;text-align: left;background-color: #f0f8ff;}#sk-container-id-2 div.sk-toggleable__content pre {margin: 0.2em;color: black;border-radius: 0.25em;background-color: #f0f8ff;}#sk-container-id-2 input.sk-toggleable__control:checked~div.sk-toggleable__content {max-height: 200px;max-width: 100%;overflow: auto;}#sk-container-id-2 input.sk-toggleable__control:checked~label.sk-toggleable__label-arrow:before {content: \"▾\";}#sk-container-id-2 div.sk-estimator input.sk-toggleable__control:checked~label.sk-toggleable__label {background-color: #d4ebff;}#sk-container-id-2 div.sk-label input.sk-toggleable__control:checked~label.sk-toggleable__label {background-color: #d4ebff;}#sk-container-id-2 input.sk-hidden--visually {border: 0;clip: rect(1px 1px 1px 1px);clip: rect(1px, 1px, 1px, 1px);height: 1px;margin: -1px;overflow: hidden;padding: 0;position: absolute;width: 1px;}#sk-container-id-2 div.sk-estimator {font-family: monospace;background-color: #f0f8ff;border: 1px dotted black;border-radius: 0.25em;box-sizing: border-box;margin-bottom: 0.5em;}#sk-container-id-2 div.sk-estimator:hover {background-color: #d4ebff;}#sk-container-id-2 div.sk-parallel-item::after {content: \"\";width: 100%;border-bottom: 1px solid gray;flex-grow: 1;}#sk-container-id-2 div.sk-label:hover label.sk-toggleable__label {background-color: #d4ebff;}#sk-container-id-2 div.sk-serial::before {content: \"\";position: absolute;border-left: 1px solid gray;box-sizing: border-box;top: 0;bottom: 0;left: 50%;z-index: 0;}#sk-container-id-2 div.sk-serial {display: flex;flex-direction: column;align-items: center;background-color: white;padding-right: 0.2em;padding-left: 0.2em;position: relative;}#sk-container-id-2 div.sk-item {position: relative;z-index: 1;}#sk-container-id-2 div.sk-parallel {display: flex;align-items: stretch;justify-content: center;background-color: white;position: relative;}#sk-container-id-2 div.sk-item::before, #sk-container-id-2 div.sk-parallel-item::before {content: \"\";position: absolute;border-left: 1px solid gray;box-sizing: border-box;top: 0;bottom: 0;left: 50%;z-index: -1;}#sk-container-id-2 div.sk-parallel-item {display: flex;flex-direction: column;z-index: 1;position: relative;background-color: white;}#sk-container-id-2 div.sk-parallel-item:first-child::after {align-self: flex-end;width: 50%;}#sk-container-id-2 div.sk-parallel-item:last-child::after {align-self: flex-start;width: 50%;}#sk-container-id-2 div.sk-parallel-item:only-child::after {width: 0;}#sk-container-id-2 div.sk-dashed-wrapped {border: 1px dashed gray;margin: 0 0.4em 0.5em 0.4em;box-sizing: border-box;padding-bottom: 0.4em;background-color: white;}#sk-container-id-2 div.sk-label label {font-family: monospace;font-weight: bold;display: inline-block;line-height: 1.2em;}#sk-container-id-2 div.sk-label-container {text-align: center;}#sk-container-id-2 div.sk-container {/* jupyter's `normalize.less` sets `[hidden] { display: none; }` but bootstrap.min.css set `[hidden] { display: none !important; }` so we also need the `!important` here to be able to override the default hidden behavior on the sphinx rendered scikit-learn.org. See: https://github.com/scikit-learn/scikit-learn/issues/21755 */display: inline-block !important;position: relative;}#sk-container-id-2 div.sk-text-repr-fallback {display: none;}</style><div id=\"sk-container-id-2\" class=\"sk-top-container\"><div class=\"sk-text-repr-fallback\"><pre>Lasso(alpha=0.1)</pre><b>In a Jupyter environment, please rerun this cell to show the HTML representation or trust the notebook. <br />On GitHub, the HTML representation is unable to render, please try loading this page with nbviewer.org.</b></div><div class=\"sk-container\" hidden><div class=\"sk-item\"><div class=\"sk-estimator sk-toggleable\"><input class=\"sk-toggleable__control sk-hidden--visually\" id=\"sk-estimator-id-2\" type=\"checkbox\" checked><label for=\"sk-estimator-id-2\" class=\"sk-toggleable__label sk-toggleable__label-arrow\">Lasso</label><div class=\"sk-toggleable__content\"><pre>Lasso(alpha=0.1)</pre></div></div></div></div></div>"
      ],
      "text/plain": [
       "Lasso(alpha=0.1)"
      ]
     },
     "execution_count": 21,
     "metadata": {},
     "output_type": "execute_result"
    }
   ],
   "source": [
    "from sklearn.linear_model import LinearRegression, Lasso, Ridge\n",
    "#Initiating the Lasso Regressor\n",
    "\n",
    "l1 = Lasso(alpha = 0.1)\n",
    "\n",
    "l1.fit(train_data,train_target)"
   ]
  },
  {
   "cell_type": "code",
   "execution_count": null,
   "metadata": {},
   "outputs": [],
   "source": [
    "data_frames = [FIFA_20,FIFA_21,FIFA_22] # list of dataframes\n",
    "\n",
    "gk_fifa_ds_test = reduce(lambda  left,right: pd.merge(left,right,on=['long_name','dob'],\n",
    "                                            how='inner'), data_frames)\n",
    "\n",
    "relevant_columns = ['overall_21','goalkeeping_reflexes_21','goalkeeping_diving_21','goalkeeping_positioning_21',\n",
    "                    'goalkeeping_handling_21','overall_20','goalkeeping_reflexes_20','goalkeeping_diving_20',\n",
    "                    'goalkeeping_handling_20','goalkeeping_positioning_20','goalkeeping_kicking_21', 'goalkeeping_kicking_20']\n",
    "\n",
    "gk_features_test = gk_fifa_ds_test[relevant_columns]\n",
    "\n",
    "test_numpy_data = gk_features_test.to_numpy(dtype=float)\n",
    "\n",
    "#scaled_test_data = scaler.transform(test_numpy_data)\n",
    "#test_data = transformer.transform(test_numpy_data)\n",
    "test_data = test_numpy_data\n",
    "target_test = gk_fifa_ds_test['overall_22'].to_numpy()"
   ]
  },
  {
   "cell_type": "code",
   "execution_count": null,
   "metadata": {},
   "outputs": [
    {
     "data": {
      "text/plain": [
       "(1077, 12)"
      ]
     },
     "execution_count": 19,
     "metadata": {},
     "output_type": "execute_result"
    }
   ],
   "source": [
    "test_data.shape"
   ]
  },
  {
   "cell_type": "code",
   "execution_count": null,
   "metadata": {},
   "outputs": [],
   "source": [
    "predicted_overall = l1.predict(test_data)\n",
    "predicted_overall = np.round(predicted_overall)"
   ]
  },
  {
   "cell_type": "code",
   "execution_count": null,
   "metadata": {},
   "outputs": [
    {
     "data": {
      "text/plain": [
       "4.210770659238626"
      ]
     },
     "execution_count": 23,
     "metadata": {},
     "output_type": "execute_result"
    }
   ],
   "source": [
    "from sklearn.metrics import mean_squared_error\n",
    "mean_squared_error(test_target, predicted_overall)"
   ]
  },
  {
   "cell_type": "code",
   "execution_count": null,
   "metadata": {},
   "outputs": [
    {
     "data": {
      "text/plain": [
       "1.551532033426184"
      ]
     },
     "execution_count": 24,
     "metadata": {},
     "output_type": "execute_result"
    }
   ],
   "source": [
    "from sklearn.metrics import mean_absolute_error\n",
    "mean_absolute_error(test_target, predicted_overall)"
   ]
  },
  {
   "cell_type": "code",
   "execution_count": null,
   "metadata": {},
   "outputs": [
    {
     "data": {
      "text/plain": [
       "(738,)"
      ]
     },
     "execution_count": 30,
     "metadata": {},
     "output_type": "execute_result"
    }
   ],
   "source": [
    "non_zero_ = true_diff[np.nonzero(true_diff)]\n",
    "non_zero_.shape"
   ]
  },
  {
   "cell_type": "code",
   "execution_count": null,
   "metadata": {},
   "outputs": [],
   "source": [
    "true_diff = test_target-test_data[:,0]\n",
    "\n",
    "pred_diff = predicted_overall-test_data[:,0]\n",
    "\n",
    "sign_true_diff = np.sign(true_diff)\n",
    "sign_pred_diff = np.sign(pred_diff)\n",
    "test_sign = sign_pred_diff == sign_true_diff\n",
    "\n",
    "\n",
    "sign_true_diff_non_zero = np.sign(true_diff[np.nonzero(true_diff)])\n",
    "sign_pred_diff_non_zero = np.sign(pred_diff[np.nonzero(true_diff)])\n",
    "test_sign_non_zero = sign_pred_diff_non_zero == sign_true_diff_non_zero\n",
    "\n",
    "test = 0 "
   ]
  },
  {
   "attachments": {},
   "cell_type": "markdown",
   "metadata": {},
   "source": [
    "# Testing Linear Regression"
   ]
  },
  {
   "cell_type": "code",
   "execution_count": null,
   "metadata": {},
   "outputs": [
    {
     "data": {
      "text/html": [
       "<style>#sk-container-id-9 {color: black;background-color: white;}#sk-container-id-9 pre{padding: 0;}#sk-container-id-9 div.sk-toggleable {background-color: white;}#sk-container-id-9 label.sk-toggleable__label {cursor: pointer;display: block;width: 100%;margin-bottom: 0;padding: 0.3em;box-sizing: border-box;text-align: center;}#sk-container-id-9 label.sk-toggleable__label-arrow:before {content: \"▸\";float: left;margin-right: 0.25em;color: #696969;}#sk-container-id-9 label.sk-toggleable__label-arrow:hover:before {color: black;}#sk-container-id-9 div.sk-estimator:hover label.sk-toggleable__label-arrow:before {color: black;}#sk-container-id-9 div.sk-toggleable__content {max-height: 0;max-width: 0;overflow: hidden;text-align: left;background-color: #f0f8ff;}#sk-container-id-9 div.sk-toggleable__content pre {margin: 0.2em;color: black;border-radius: 0.25em;background-color: #f0f8ff;}#sk-container-id-9 input.sk-toggleable__control:checked~div.sk-toggleable__content {max-height: 200px;max-width: 100%;overflow: auto;}#sk-container-id-9 input.sk-toggleable__control:checked~label.sk-toggleable__label-arrow:before {content: \"▾\";}#sk-container-id-9 div.sk-estimator input.sk-toggleable__control:checked~label.sk-toggleable__label {background-color: #d4ebff;}#sk-container-id-9 div.sk-label input.sk-toggleable__control:checked~label.sk-toggleable__label {background-color: #d4ebff;}#sk-container-id-9 input.sk-hidden--visually {border: 0;clip: rect(1px 1px 1px 1px);clip: rect(1px, 1px, 1px, 1px);height: 1px;margin: -1px;overflow: hidden;padding: 0;position: absolute;width: 1px;}#sk-container-id-9 div.sk-estimator {font-family: monospace;background-color: #f0f8ff;border: 1px dotted black;border-radius: 0.25em;box-sizing: border-box;margin-bottom: 0.5em;}#sk-container-id-9 div.sk-estimator:hover {background-color: #d4ebff;}#sk-container-id-9 div.sk-parallel-item::after {content: \"\";width: 100%;border-bottom: 1px solid gray;flex-grow: 1;}#sk-container-id-9 div.sk-label:hover label.sk-toggleable__label {background-color: #d4ebff;}#sk-container-id-9 div.sk-serial::before {content: \"\";position: absolute;border-left: 1px solid gray;box-sizing: border-box;top: 0;bottom: 0;left: 50%;z-index: 0;}#sk-container-id-9 div.sk-serial {display: flex;flex-direction: column;align-items: center;background-color: white;padding-right: 0.2em;padding-left: 0.2em;position: relative;}#sk-container-id-9 div.sk-item {position: relative;z-index: 1;}#sk-container-id-9 div.sk-parallel {display: flex;align-items: stretch;justify-content: center;background-color: white;position: relative;}#sk-container-id-9 div.sk-item::before, #sk-container-id-9 div.sk-parallel-item::before {content: \"\";position: absolute;border-left: 1px solid gray;box-sizing: border-box;top: 0;bottom: 0;left: 50%;z-index: -1;}#sk-container-id-9 div.sk-parallel-item {display: flex;flex-direction: column;z-index: 1;position: relative;background-color: white;}#sk-container-id-9 div.sk-parallel-item:first-child::after {align-self: flex-end;width: 50%;}#sk-container-id-9 div.sk-parallel-item:last-child::after {align-self: flex-start;width: 50%;}#sk-container-id-9 div.sk-parallel-item:only-child::after {width: 0;}#sk-container-id-9 div.sk-dashed-wrapped {border: 1px dashed gray;margin: 0 0.4em 0.5em 0.4em;box-sizing: border-box;padding-bottom: 0.4em;background-color: white;}#sk-container-id-9 div.sk-label label {font-family: monospace;font-weight: bold;display: inline-block;line-height: 1.2em;}#sk-container-id-9 div.sk-label-container {text-align: center;}#sk-container-id-9 div.sk-container {/* jupyter's `normalize.less` sets `[hidden] { display: none; }` but bootstrap.min.css set `[hidden] { display: none !important; }` so we also need the `!important` here to be able to override the default hidden behavior on the sphinx rendered scikit-learn.org. See: https://github.com/scikit-learn/scikit-learn/issues/21755 */display: inline-block !important;position: relative;}#sk-container-id-9 div.sk-text-repr-fallback {display: none;}</style><div id=\"sk-container-id-9\" class=\"sk-top-container\"><div class=\"sk-text-repr-fallback\"><pre>LinearRegression()</pre><b>In a Jupyter environment, please rerun this cell to show the HTML representation or trust the notebook. <br />On GitHub, the HTML representation is unable to render, please try loading this page with nbviewer.org.</b></div><div class=\"sk-container\" hidden><div class=\"sk-item\"><div class=\"sk-estimator sk-toggleable\"><input class=\"sk-toggleable__control sk-hidden--visually\" id=\"sk-estimator-id-9\" type=\"checkbox\" checked><label for=\"sk-estimator-id-9\" class=\"sk-toggleable__label sk-toggleable__label-arrow\">LinearRegression</label><div class=\"sk-toggleable__content\"><pre>LinearRegression()</pre></div></div></div></div></div>"
      ],
      "text/plain": [
       "LinearRegression()"
      ]
     },
     "execution_count": 156,
     "metadata": {},
     "output_type": "execute_result"
    }
   ],
   "source": [
    "#Initiating the Linear Regressor\n",
    "lr = LinearRegression()\n",
    "#Fitting the Linear Regressor with Training Data\n",
    "lr.fit(train_data,train_target)"
   ]
  },
  {
   "cell_type": "code",
   "execution_count": null,
   "metadata": {},
   "outputs": [
    {
     "name": "stdout",
     "output_type": "stream",
     "text": [
      "45.0 92.0\n"
     ]
    }
   ],
   "source": [
    "print(min(train_target), max(train_target))"
   ]
  },
  {
   "cell_type": "code",
   "execution_count": null,
   "metadata": {},
   "outputs": [],
   "source": [
    "predicted_overall = lr.predict(test_data)\n",
    "predicted_overall = np.round(predicted_overall)"
   ]
  },
  {
   "cell_type": "code",
   "execution_count": null,
   "metadata": {},
   "outputs": [
    {
     "name": "stdout",
     "output_type": "stream",
     "text": [
      "3.9314606741573033 1.4370786516853933\n"
     ]
    }
   ],
   "source": [
    "print(mean_squared_error(target_test, predicted_overall),mean_absolute_error(target_test, predicted_overall) )"
   ]
  },
  {
   "attachments": {},
   "cell_type": "markdown",
   "metadata": {},
   "source": [
    "# Testing Ridge Regression"
   ]
  },
  {
   "cell_type": "code",
   "execution_count": null,
   "metadata": {},
   "outputs": [
    {
     "name": "stdout",
     "output_type": "stream",
     "text": [
      "4.2219127205199625 1.5478180129990715\n"
     ]
    }
   ],
   "source": [
    "#Initiating the Linear Regressor\n",
    "l2 = Ridge()\n",
    "\n",
    "#Fitting the Linear Regressor with Training Data\n",
    "l2.fit(train_data,train_target)\n",
    "\n",
    "predicted_overall = lr.predict(test_data)\n",
    "predicted_overall = np.round(predicted_overall)\n",
    "\n",
    "print(mean_squared_error(test_target, predicted_overall),mean_absolute_error(test_target, predicted_overall) )"
   ]
  },
  {
   "attachments": {},
   "cell_type": "markdown",
   "metadata": {},
   "source": [
    "# Testing Gradient Booster"
   ]
  },
  {
   "cell_type": "code",
   "execution_count": null,
   "metadata": {},
   "outputs": [
    {
     "name": "stdout",
     "output_type": "stream",
     "text": [
      "4.311049210770659 1.5496750232126277\n"
     ]
    }
   ],
   "source": [
    "from sklearn.ensemble import GradientBoostingRegressor\n",
    "\n",
    "#Initiating GradientBoostingRegressor to calculate feature importance\n",
    "gbt = GradientBoostingRegressor()\n",
    "gbt.fit(train_data,train_target)\n",
    "\n",
    "predicted_overall = gbt.predict(test_data)\n",
    "predicted_overall = np.round(predicted_overall)\n",
    "\n",
    "print(mean_squared_error(test_target, predicted_overall),mean_absolute_error(test_target, predicted_overall) )"
   ]
  },
  {
   "attachments": {},
   "cell_type": "markdown",
   "metadata": {},
   "source": [
    "# Testing Support Vector Regressor"
   ]
  },
  {
   "cell_type": "code",
   "execution_count": null,
   "metadata": {},
   "outputs": [
    {
     "name": "stdout",
     "output_type": "stream",
     "text": [
      "Fitting 5 folds for each of 480 candidates, totalling 2400 fits\n"
     ]
    }
   ],
   "source": [
    "from sklearn.model_selection import GridSearchCV\n",
    "from sklearn.svm import SVR\n",
    "\n",
    "svr = SVR(kernel='linear')\n",
    "\n",
    "\n",
    "# # Create the parameter grid based on the results of random search \n",
    "# parameters = { 'C':[0.1,1,100,1000],\n",
    "#               'kernel':['rbf','poly','sigmoid','linear'],\n",
    "#               'degree':[1,2,3,4,5,6],\n",
    "#               'gamma': [1, 0.1, 0.01, 0.001, 0.0001]}\n",
    "\n",
    "# grid_search = GridSearchCV(estimator = svr, param_grid = parameters, \n",
    "#                           cv = 5, n_jobs = -1, verbose = 2)\n",
    "\n",
    "# grid_search.fit(train_data,train_target)\n",
    "\n",
    "# grid_search.best_params_"
   ]
  },
  {
   "cell_type": "code",
   "execution_count": null,
   "metadata": {},
   "outputs": [
    {
     "name": "stdout",
     "output_type": "stream",
     "text": [
      "8.758588672237698 2.127205199628598\n"
     ]
    }
   ],
   "source": [
    "from sklearn.tree import DecisionTreeRegressor\n",
    "DtReg = DecisionTreeRegressor()\n",
    "DtReg.fit(train_data,train_target)\n",
    "\n",
    "predicted_overall = DtReg.predict(test_data)\n",
    "predicted_overall = np.round(predicted_overall)\n",
    "\n",
    "print(mean_squared_error(test_target, predicted_overall),mean_absolute_error(test_target, predicted_overall) )"
   ]
  },
  {
   "cell_type": "code",
   "execution_count": null,
   "metadata": {},
   "outputs": [
    {
     "data": {
      "text/plain": [
       "array([0.88958047, 0.00932905, 0.00933053, 0.00819703, 0.01011686,\n",
       "       0.00929248, 0.00977057, 0.00934261, 0.01266204, 0.00990935,\n",
       "       0.01038458, 0.01208442])"
      ]
     },
     "execution_count": 35,
     "metadata": {},
     "output_type": "execute_result"
    }
   ],
   "source": [
    "DtReg.feature_importances_"
   ]
  },
  {
   "attachments": {},
   "cell_type": "markdown",
   "metadata": {},
   "source": [
    "# Testing Random Forest Regressor"
   ]
  },
  {
   "cell_type": "code",
   "execution_count": null,
   "metadata": {},
   "outputs": [],
   "source": [
    "train_diff = train_target-train_data[:,0]\n",
    "test_diff = test_target-test_data[:,0]"
   ]
  },
  {
   "cell_type": "code",
   "execution_count": null,
   "metadata": {},
   "outputs": [
    {
     "data": {
      "text/plain": [
       "array([<AxesSubplot:title={'center':'feature_test'}>], dtype=object)"
      ]
     },
     "execution_count": 58,
     "metadata": {},
     "output_type": "execute_result"
    },
    {
     "data": {
      "image/png": "[encoded data removed]",
      "text/plain": [
       "<Figure size 720x360 with 2 Axes>"
      ]
     },
     "metadata": {
      "needs_background": "light"
     },
     "output_type": "display_data"
    }
   ],
   "source": [
    "fig, ax = plt.subplots(1, 2, sharex='col', sharey='row', figsize=(10, 5))\n",
    "\n",
    "df1 = pd.DataFrame({\n",
    "    'feature_train': train_diff.tolist()})\n",
    "df2 = pd.DataFrame({\n",
    "    'feature_test': test_diff.tolist()})\n",
    "\n",
    "\n",
    "df1.hist(bins=25, density=True, ax=ax[0], alpha=0.5)\n",
    "df2.hist(bins=25, density=True, ax=ax[1], alpha=0.5)\n"
   ]
  },
  {
   "cell_type": "code",
   "execution_count": null,
   "metadata": {},
   "outputs": [
    {
     "data": {
      "text/plain": [
       "array([<AxesSubplot:title={'center':'feature_test'}>], dtype=object)"
      ]
     },
     "execution_count": 59,
     "metadata": {},
     "output_type": "execute_result"
    },
    {
     "data": {
      "image/png": "[encoded data removed]",
      "text/plain": [
       "<Figure size 720x360 with 2 Axes>"
      ]
     },
     "metadata": {
      "needs_background": "light"
     },
     "output_type": "display_data"
    }
   ],
   "source": [
    "fig, ax = plt.subplots(1, 2, sharex='col', sharey='row', figsize=(10, 5))\n",
    "\n",
    "df1 = pd.DataFrame({\n",
    "    'feature_train': train_target.tolist()})\n",
    "df2 = pd.DataFrame({\n",
    "    'feature_test': test_target.tolist()})\n",
    "\n",
    "\n",
    "df1.hist(bins=25, density=True, ax=ax[0], alpha=0.5)\n",
    "df2.hist(bins=25, density=True, ax=ax[1], alpha=0.5)\n"
   ]
  },
  {
   "cell_type": "code",
   "execution_count": null,
   "metadata": {},
   "outputs": [
    {
     "ename": "KeyboardInterrupt",
     "evalue": "",
     "output_type": "error",
     "traceback": [
      "\u001b[1;31m---------------------------------------------------------------------------\u001b[0m",
      "\u001b[1;31mKeyboardInterrupt\u001b[0m                         Traceback (most recent call last)",
      "\u001b[1;32mc:\\Users\\abidi\\Desktop\\Karriere\\Dream_career\\Sport Analytics\\projects\\player_scouting\\football_scouting_model\\analyze_data.ipynb Cell 67\u001b[0m in \u001b[0;36m<cell line: 4>\u001b[1;34m()\u001b[0m\n\u001b[0;32m      <a href='vscode-notebook-cell:/c%3A/Users/abidi/Desktop/Karriere/Dream_career/Sport%20Analytics/projects/player_scouting/football_scouting_model/analyze_data.ipynb#Y226sZmlsZQ%3D%3D?line=0'>1</a>\u001b[0m \u001b[39mfrom\u001b[39;00m \u001b[39msklearn\u001b[39;00m\u001b[39m.\u001b[39;00m\u001b[39mensemble\u001b[39;00m \u001b[39mimport\u001b[39;00m RandomForestRegressor\n\u001b[0;32m      <a href='vscode-notebook-cell:/c%3A/Users/abidi/Desktop/Karriere/Dream_career/Sport%20Analytics/projects/player_scouting/football_scouting_model/analyze_data.ipynb#Y226sZmlsZQ%3D%3D?line=1'>2</a>\u001b[0m regr \u001b[39m=\u001b[39m RandomForestRegressor(max_depth\u001b[39m=\u001b[39m\u001b[39m10\u001b[39m,criterion\u001b[39m=\u001b[39m\u001b[39m'\u001b[39m\u001b[39mabsolute_error\u001b[39m\u001b[39m'\u001b[39m, random_state\u001b[39m=\u001b[39m\u001b[39m0\u001b[39m)\n\u001b[1;32m----> <a href='vscode-notebook-cell:/c%3A/Users/abidi/Desktop/Karriere/Dream_career/Sport%20Analytics/projects/player_scouting/football_scouting_model/analyze_data.ipynb#Y226sZmlsZQ%3D%3D?line=3'>4</a>\u001b[0m regr\u001b[39m.\u001b[39;49mfit(train_data,train_diff)\n\u001b[0;32m      <a href='vscode-notebook-cell:/c%3A/Users/abidi/Desktop/Karriere/Dream_career/Sport%20Analytics/projects/player_scouting/football_scouting_model/analyze_data.ipynb#Y226sZmlsZQ%3D%3D?line=5'>6</a>\u001b[0m predicted_diff \u001b[39m=\u001b[39m regr\u001b[39m.\u001b[39mpredict(test_data)\n\u001b[0;32m      <a href='vscode-notebook-cell:/c%3A/Users/abidi/Desktop/Karriere/Dream_career/Sport%20Analytics/projects/player_scouting/football_scouting_model/analyze_data.ipynb#Y226sZmlsZQ%3D%3D?line=6'>7</a>\u001b[0m predicted_overall \u001b[39m=\u001b[39m test_data[:,\u001b[39m0\u001b[39m] \u001b[39m+\u001b[39m predicted_diff\n",
      "File \u001b[1;32mc:\\Users\\abidi\\AppData\\Local\\Programs\\Python\\Python310\\lib\\site-packages\\sklearn\\ensemble\\_forest.py:474\u001b[0m, in \u001b[0;36mBaseForest.fit\u001b[1;34m(self, X, y, sample_weight)\u001b[0m\n\u001b[0;32m    463\u001b[0m trees \u001b[39m=\u001b[39m [\n\u001b[0;32m    464\u001b[0m     \u001b[39mself\u001b[39m\u001b[39m.\u001b[39m_make_estimator(append\u001b[39m=\u001b[39m\u001b[39mFalse\u001b[39;00m, random_state\u001b[39m=\u001b[39mrandom_state)\n\u001b[0;32m    465\u001b[0m     \u001b[39mfor\u001b[39;00m i \u001b[39min\u001b[39;00m \u001b[39mrange\u001b[39m(n_more_estimators)\n\u001b[0;32m    466\u001b[0m ]\n\u001b[0;32m    468\u001b[0m \u001b[39m# Parallel loop: we prefer the threading backend as the Cython code\u001b[39;00m\n\u001b[0;32m    469\u001b[0m \u001b[39m# for fitting the trees is internally releasing the Python GIL\u001b[39;00m\n\u001b[0;32m    470\u001b[0m \u001b[39m# making threading more efficient than multiprocessing in\u001b[39;00m\n\u001b[0;32m    471\u001b[0m \u001b[39m# that case. However, for joblib 0.12+ we respect any\u001b[39;00m\n\u001b[0;32m    472\u001b[0m \u001b[39m# parallel_backend contexts set at a higher level,\u001b[39;00m\n\u001b[0;32m    473\u001b[0m \u001b[39m# since correctness does not rely on using threads.\u001b[39;00m\n\u001b[1;32m--> 474\u001b[0m trees \u001b[39m=\u001b[39m Parallel(\n\u001b[0;32m    475\u001b[0m     n_jobs\u001b[39m=\u001b[39;49m\u001b[39mself\u001b[39;49m\u001b[39m.\u001b[39;49mn_jobs,\n\u001b[0;32m    476\u001b[0m     verbose\u001b[39m=\u001b[39;49m\u001b[39mself\u001b[39;49m\u001b[39m.\u001b[39;49mverbose,\n\u001b[0;32m    477\u001b[0m     prefer\u001b[39m=\u001b[39;49m\u001b[39m\"\u001b[39;49m\u001b[39mthreads\u001b[39;49m\u001b[39m\"\u001b[39;49m,\n\u001b[0;32m    478\u001b[0m )(\n\u001b[0;32m    479\u001b[0m     delayed(_parallel_build_trees)(\n\u001b[0;32m    480\u001b[0m         t,\n\u001b[0;32m    481\u001b[0m         \u001b[39mself\u001b[39;49m\u001b[39m.\u001b[39;49mbootstrap,\n\u001b[0;32m    482\u001b[0m         X,\n\u001b[0;32m    483\u001b[0m         y,\n\u001b[0;32m    484\u001b[0m         sample_weight,\n\u001b[0;32m    485\u001b[0m         i,\n\u001b[0;32m    486\u001b[0m         \u001b[39mlen\u001b[39;49m(trees),\n\u001b[0;32m    487\u001b[0m         verbose\u001b[39m=\u001b[39;49m\u001b[39mself\u001b[39;49m\u001b[39m.\u001b[39;49mverbose,\n\u001b[0;32m    488\u001b[0m         class_weight\u001b[39m=\u001b[39;49m\u001b[39mself\u001b[39;49m\u001b[39m.\u001b[39;49mclass_weight,\n\u001b[0;32m    489\u001b[0m         n_samples_bootstrap\u001b[39m=\u001b[39;49mn_samples_bootstrap,\n\u001b[0;32m    490\u001b[0m     )\n\u001b[0;32m    491\u001b[0m     \u001b[39mfor\u001b[39;49;00m i, t \u001b[39min\u001b[39;49;00m \u001b[39menumerate\u001b[39;49m(trees)\n\u001b[0;32m    492\u001b[0m )\n\u001b[0;32m    494\u001b[0m \u001b[39m# Collect newly grown trees\u001b[39;00m\n\u001b[0;32m    495\u001b[0m \u001b[39mself\u001b[39m\u001b[39m.\u001b[39mestimators_\u001b[39m.\u001b[39mextend(trees)\n",
      "File \u001b[1;32mc:\\Users\\abidi\\AppData\\Local\\Programs\\Python\\Python310\\lib\\site-packages\\joblib\\parallel.py:1088\u001b[0m, in \u001b[0;36mParallel.__call__\u001b[1;34m(self, iterable)\u001b[0m\n\u001b[0;32m   1085\u001b[0m \u001b[39mif\u001b[39;00m \u001b[39mself\u001b[39m\u001b[39m.\u001b[39mdispatch_one_batch(iterator):\n\u001b[0;32m   1086\u001b[0m     \u001b[39mself\u001b[39m\u001b[39m.\u001b[39m_iterating \u001b[39m=\u001b[39m \u001b[39mself\u001b[39m\u001b[39m.\u001b[39m_original_iterator \u001b[39mis\u001b[39;00m \u001b[39mnot\u001b[39;00m \u001b[39mNone\u001b[39;00m\n\u001b[1;32m-> 1088\u001b[0m \u001b[39mwhile\u001b[39;00m \u001b[39mself\u001b[39;49m\u001b[39m.\u001b[39;49mdispatch_one_batch(iterator):\n\u001b[0;32m   1089\u001b[0m     \u001b[39mpass\u001b[39;00m\n\u001b[0;32m   1091\u001b[0m \u001b[39mif\u001b[39;00m pre_dispatch \u001b[39m==\u001b[39m \u001b[39m\"\u001b[39m\u001b[39mall\u001b[39m\u001b[39m\"\u001b[39m \u001b[39mor\u001b[39;00m n_jobs \u001b[39m==\u001b[39m \u001b[39m1\u001b[39m:\n\u001b[0;32m   1092\u001b[0m     \u001b[39m# The iterable was consumed all at once by the above for loop.\u001b[39;00m\n\u001b[0;32m   1093\u001b[0m     \u001b[39m# No need to wait for async callbacks to trigger to\u001b[39;00m\n\u001b[0;32m   1094\u001b[0m     \u001b[39m# consumption.\u001b[39;00m\n",
      "File \u001b[1;32mc:\\Users\\abidi\\AppData\\Local\\Programs\\Python\\Python310\\lib\\site-packages\\joblib\\parallel.py:901\u001b[0m, in \u001b[0;36mParallel.dispatch_one_batch\u001b[1;34m(self, iterator)\u001b[0m\n\u001b[0;32m    899\u001b[0m     \u001b[39mreturn\u001b[39;00m \u001b[39mFalse\u001b[39;00m\n\u001b[0;32m    900\u001b[0m \u001b[39melse\u001b[39;00m:\n\u001b[1;32m--> 901\u001b[0m     \u001b[39mself\u001b[39;49m\u001b[39m.\u001b[39;49m_dispatch(tasks)\n\u001b[0;32m    902\u001b[0m     \u001b[39mreturn\u001b[39;00m \u001b[39mTrue\u001b[39;00m\n",
      "File \u001b[1;32mc:\\Users\\abidi\\AppData\\Local\\Programs\\Python\\Python310\\lib\\site-packages\\joblib\\parallel.py:819\u001b[0m, in \u001b[0;36mParallel._dispatch\u001b[1;34m(self, batch)\u001b[0m\n\u001b[0;32m    817\u001b[0m \u001b[39mwith\u001b[39;00m \u001b[39mself\u001b[39m\u001b[39m.\u001b[39m_lock:\n\u001b[0;32m    818\u001b[0m     job_idx \u001b[39m=\u001b[39m \u001b[39mlen\u001b[39m(\u001b[39mself\u001b[39m\u001b[39m.\u001b[39m_jobs)\n\u001b[1;32m--> 819\u001b[0m     job \u001b[39m=\u001b[39m \u001b[39mself\u001b[39;49m\u001b[39m.\u001b[39;49m_backend\u001b[39m.\u001b[39;49mapply_async(batch, callback\u001b[39m=\u001b[39;49mcb)\n\u001b[0;32m    820\u001b[0m     \u001b[39m# A job can complete so quickly than its callback is\u001b[39;00m\n\u001b[0;32m    821\u001b[0m     \u001b[39m# called before we get here, causing self._jobs to\u001b[39;00m\n\u001b[0;32m    822\u001b[0m     \u001b[39m# grow. To ensure correct results ordering, .insert is\u001b[39;00m\n\u001b[0;32m    823\u001b[0m     \u001b[39m# used (rather than .append) in the following line\u001b[39;00m\n\u001b[0;32m    824\u001b[0m     \u001b[39mself\u001b[39m\u001b[39m.\u001b[39m_jobs\u001b[39m.\u001b[39minsert(job_idx, job)\n",
      "File \u001b[1;32mc:\\Users\\abidi\\AppData\\Local\\Programs\\Python\\Python310\\lib\\site-packages\\joblib\\_parallel_backends.py:208\u001b[0m, in \u001b[0;36mSequentialBackend.apply_async\u001b[1;34m(self, func, callback)\u001b[0m\n\u001b[0;32m    206\u001b[0m \u001b[39mdef\u001b[39;00m \u001b[39mapply_async\u001b[39m(\u001b[39mself\u001b[39m, func, callback\u001b[39m=\u001b[39m\u001b[39mNone\u001b[39;00m):\n\u001b[0;32m    207\u001b[0m     \u001b[39m\"\"\"Schedule a func to be run\"\"\"\u001b[39;00m\n\u001b[1;32m--> 208\u001b[0m     result \u001b[39m=\u001b[39m ImmediateResult(func)\n\u001b[0;32m    209\u001b[0m     \u001b[39mif\u001b[39;00m callback:\n\u001b[0;32m    210\u001b[0m         callback(result)\n",
      "File \u001b[1;32mc:\\Users\\abidi\\AppData\\Local\\Programs\\Python\\Python310\\lib\\site-packages\\joblib\\_parallel_backends.py:597\u001b[0m, in \u001b[0;36mImmediateResult.__init__\u001b[1;34m(self, batch)\u001b[0m\n\u001b[0;32m    594\u001b[0m \u001b[39mdef\u001b[39;00m \u001b[39m__init__\u001b[39m(\u001b[39mself\u001b[39m, batch):\n\u001b[0;32m    595\u001b[0m     \u001b[39m# Don't delay the application, to avoid keeping the input\u001b[39;00m\n\u001b[0;32m    596\u001b[0m     \u001b[39m# arguments in memory\u001b[39;00m\n\u001b[1;32m--> 597\u001b[0m     \u001b[39mself\u001b[39m\u001b[39m.\u001b[39mresults \u001b[39m=\u001b[39m batch()\n",
      "File \u001b[1;32mc:\\Users\\abidi\\AppData\\Local\\Programs\\Python\\Python310\\lib\\site-packages\\joblib\\parallel.py:288\u001b[0m, in \u001b[0;36mBatchedCalls.__call__\u001b[1;34m(self)\u001b[0m\n\u001b[0;32m    284\u001b[0m \u001b[39mdef\u001b[39;00m \u001b[39m__call__\u001b[39m(\u001b[39mself\u001b[39m):\n\u001b[0;32m    285\u001b[0m     \u001b[39m# Set the default nested backend to self._backend but do not set the\u001b[39;00m\n\u001b[0;32m    286\u001b[0m     \u001b[39m# change the default number of processes to -1\u001b[39;00m\n\u001b[0;32m    287\u001b[0m     \u001b[39mwith\u001b[39;00m parallel_backend(\u001b[39mself\u001b[39m\u001b[39m.\u001b[39m_backend, n_jobs\u001b[39m=\u001b[39m\u001b[39mself\u001b[39m\u001b[39m.\u001b[39m_n_jobs):\n\u001b[1;32m--> 288\u001b[0m         \u001b[39mreturn\u001b[39;00m [func(\u001b[39m*\u001b[39margs, \u001b[39m*\u001b[39m\u001b[39m*\u001b[39mkwargs)\n\u001b[0;32m    289\u001b[0m                 \u001b[39mfor\u001b[39;00m func, args, kwargs \u001b[39min\u001b[39;00m \u001b[39mself\u001b[39m\u001b[39m.\u001b[39mitems]\n",
      "File \u001b[1;32mc:\\Users\\abidi\\AppData\\Local\\Programs\\Python\\Python310\\lib\\site-packages\\joblib\\parallel.py:288\u001b[0m, in \u001b[0;36m<listcomp>\u001b[1;34m(.0)\u001b[0m\n\u001b[0;32m    284\u001b[0m \u001b[39mdef\u001b[39;00m \u001b[39m__call__\u001b[39m(\u001b[39mself\u001b[39m):\n\u001b[0;32m    285\u001b[0m     \u001b[39m# Set the default nested backend to self._backend but do not set the\u001b[39;00m\n\u001b[0;32m    286\u001b[0m     \u001b[39m# change the default number of processes to -1\u001b[39;00m\n\u001b[0;32m    287\u001b[0m     \u001b[39mwith\u001b[39;00m parallel_backend(\u001b[39mself\u001b[39m\u001b[39m.\u001b[39m_backend, n_jobs\u001b[39m=\u001b[39m\u001b[39mself\u001b[39m\u001b[39m.\u001b[39m_n_jobs):\n\u001b[1;32m--> 288\u001b[0m         \u001b[39mreturn\u001b[39;00m [func(\u001b[39m*\u001b[39margs, \u001b[39m*\u001b[39m\u001b[39m*\u001b[39mkwargs)\n\u001b[0;32m    289\u001b[0m                 \u001b[39mfor\u001b[39;00m func, args, kwargs \u001b[39min\u001b[39;00m \u001b[39mself\u001b[39m\u001b[39m.\u001b[39mitems]\n",
      "File \u001b[1;32mc:\\Users\\abidi\\AppData\\Local\\Programs\\Python\\Python310\\lib\\site-packages\\sklearn\\utils\\fixes.py:117\u001b[0m, in \u001b[0;36m_FuncWrapper.__call__\u001b[1;34m(self, *args, **kwargs)\u001b[0m\n\u001b[0;32m    115\u001b[0m \u001b[39mdef\u001b[39;00m \u001b[39m__call__\u001b[39m(\u001b[39mself\u001b[39m, \u001b[39m*\u001b[39margs, \u001b[39m*\u001b[39m\u001b[39m*\u001b[39mkwargs):\n\u001b[0;32m    116\u001b[0m     \u001b[39mwith\u001b[39;00m config_context(\u001b[39m*\u001b[39m\u001b[39m*\u001b[39m\u001b[39mself\u001b[39m\u001b[39m.\u001b[39mconfig):\n\u001b[1;32m--> 117\u001b[0m         \u001b[39mreturn\u001b[39;00m \u001b[39mself\u001b[39m\u001b[39m.\u001b[39mfunction(\u001b[39m*\u001b[39margs, \u001b[39m*\u001b[39m\u001b[39m*\u001b[39mkwargs)\n",
      "File \u001b[1;32mc:\\Users\\abidi\\AppData\\Local\\Programs\\Python\\Python310\\lib\\site-packages\\sklearn\\ensemble\\_forest.py:185\u001b[0m, in \u001b[0;36m_parallel_build_trees\u001b[1;34m(tree, bootstrap, X, y, sample_weight, tree_idx, n_trees, verbose, class_weight, n_samples_bootstrap)\u001b[0m\n\u001b[0;32m    182\u001b[0m     \u001b[39melif\u001b[39;00m class_weight \u001b[39m==\u001b[39m \u001b[39m\"\u001b[39m\u001b[39mbalanced_subsample\u001b[39m\u001b[39m\"\u001b[39m:\n\u001b[0;32m    183\u001b[0m         curr_sample_weight \u001b[39m*\u001b[39m\u001b[39m=\u001b[39m compute_sample_weight(\u001b[39m\"\u001b[39m\u001b[39mbalanced\u001b[39m\u001b[39m\"\u001b[39m, y, indices\u001b[39m=\u001b[39mindices)\n\u001b[1;32m--> 185\u001b[0m     tree\u001b[39m.\u001b[39;49mfit(X, y, sample_weight\u001b[39m=\u001b[39;49mcurr_sample_weight, check_input\u001b[39m=\u001b[39;49m\u001b[39mFalse\u001b[39;49;00m)\n\u001b[0;32m    186\u001b[0m \u001b[39melse\u001b[39;00m:\n\u001b[0;32m    187\u001b[0m     tree\u001b[39m.\u001b[39mfit(X, y, sample_weight\u001b[39m=\u001b[39msample_weight, check_input\u001b[39m=\u001b[39m\u001b[39mFalse\u001b[39;00m)\n",
      "File \u001b[1;32mc:\\Users\\abidi\\AppData\\Local\\Programs\\Python\\Python310\\lib\\site-packages\\sklearn\\tree\\_classes.py:1247\u001b[0m, in \u001b[0;36mDecisionTreeRegressor.fit\u001b[1;34m(self, X, y, sample_weight, check_input)\u001b[0m\n\u001b[0;32m   1218\u001b[0m \u001b[39mdef\u001b[39;00m \u001b[39mfit\u001b[39m(\u001b[39mself\u001b[39m, X, y, sample_weight\u001b[39m=\u001b[39m\u001b[39mNone\u001b[39;00m, check_input\u001b[39m=\u001b[39m\u001b[39mTrue\u001b[39;00m):\n\u001b[0;32m   1219\u001b[0m     \u001b[39m\"\"\"Build a decision tree regressor from the training set (X, y).\u001b[39;00m\n\u001b[0;32m   1220\u001b[0m \n\u001b[0;32m   1221\u001b[0m \u001b[39m    Parameters\u001b[39;00m\n\u001b[1;32m   (...)\u001b[0m\n\u001b[0;32m   1244\u001b[0m \u001b[39m        Fitted estimator.\u001b[39;00m\n\u001b[0;32m   1245\u001b[0m \u001b[39m    \"\"\"\u001b[39;00m\n\u001b[1;32m-> 1247\u001b[0m     \u001b[39msuper\u001b[39;49m()\u001b[39m.\u001b[39;49mfit(\n\u001b[0;32m   1248\u001b[0m         X,\n\u001b[0;32m   1249\u001b[0m         y,\n\u001b[0;32m   1250\u001b[0m         sample_weight\u001b[39m=\u001b[39;49msample_weight,\n\u001b[0;32m   1251\u001b[0m         check_input\u001b[39m=\u001b[39;49mcheck_input,\n\u001b[0;32m   1252\u001b[0m     )\n\u001b[0;32m   1253\u001b[0m     \u001b[39mreturn\u001b[39;00m \u001b[39mself\u001b[39m\n",
      "File \u001b[1;32mc:\\Users\\abidi\\AppData\\Local\\Programs\\Python\\Python310\\lib\\site-packages\\sklearn\\tree\\_classes.py:379\u001b[0m, in \u001b[0;36mBaseDecisionTree.fit\u001b[1;34m(self, X, y, sample_weight, check_input)\u001b[0m\n\u001b[0;32m    368\u001b[0m \u001b[39melse\u001b[39;00m:\n\u001b[0;32m    369\u001b[0m     builder \u001b[39m=\u001b[39m BestFirstTreeBuilder(\n\u001b[0;32m    370\u001b[0m         splitter,\n\u001b[0;32m    371\u001b[0m         min_samples_split,\n\u001b[1;32m   (...)\u001b[0m\n\u001b[0;32m    376\u001b[0m         \u001b[39mself\u001b[39m\u001b[39m.\u001b[39mmin_impurity_decrease,\n\u001b[0;32m    377\u001b[0m     )\n\u001b[1;32m--> 379\u001b[0m builder\u001b[39m.\u001b[39;49mbuild(\u001b[39mself\u001b[39;49m\u001b[39m.\u001b[39;49mtree_, X, y, sample_weight)\n\u001b[0;32m    381\u001b[0m \u001b[39mif\u001b[39;00m \u001b[39mself\u001b[39m\u001b[39m.\u001b[39mn_outputs_ \u001b[39m==\u001b[39m \u001b[39m1\u001b[39m \u001b[39mand\u001b[39;00m is_classifier(\u001b[39mself\u001b[39m):\n\u001b[0;32m    382\u001b[0m     \u001b[39mself\u001b[39m\u001b[39m.\u001b[39mn_classes_ \u001b[39m=\u001b[39m \u001b[39mself\u001b[39m\u001b[39m.\u001b[39mn_classes_[\u001b[39m0\u001b[39m]\n",
      "\u001b[1;31mKeyboardInterrupt\u001b[0m: "
     ]
    }
   ],
   "source": [
    "from sklearn.ensemble import RandomForestRegressor\n",
    "regr = RandomForestRegressor(max_depth=10,criterion='absolute_error', random_state=0)\n",
    "\n",
    "regr.fit(train_data,train_diff)\n",
    "\n",
    "predicted_diff = regr.predict(test_data)\n",
    "predicted_overall = test_data[:,0] + predicted_diff\n",
    "\n",
    "#predicted_overall = regr.predict(test_data)\n",
    "predicted_overall = np.round(predicted_overall)\n",
    "\n",
    "print(mean_squared_error(test_target, predicted_overall),mean_absolute_error(test_target, predicted_overall) )"
   ]
  },
  {
   "attachments": {},
   "cell_type": "markdown",
   "metadata": {},
   "source": [
    "Plot the distribution of important features "
   ]
  },
  {
   "attachments": {},
   "cell_type": "markdown",
   "metadata": {},
   "source": [
    "Normalize features' distribution"
   ]
  },
  {
   "cell_type": "code",
   "execution_count": null,
   "metadata": {},
   "outputs": [
    {
     "data": {
      "image/png": "[encoded data removed]",
      "text/plain": [
       "<Figure size 432x288 with 1 Axes>"
      ]
     },
     "metadata": {
      "needs_background": "light"
     },
     "output_type": "display_data"
    }
   ],
   "source": [
    "#feature_name = 'Expected_PSxG+/-'\n",
    "df = gk_all_stats[feature_columns]\n",
    "ax = df.plot.hist(bins=12, alpha=0.5)"
   ]
  },
  {
   "attachments": {},
   "cell_type": "markdown",
   "metadata": {},
   "source": [
    "Features do not follow a normal distribution. "
   ]
  },
  {
   "cell_type": "code",
   "execution_count": null,
   "metadata": {},
   "outputs": [
    {
     "name": "stderr",
     "output_type": "stream",
     "text": [
      "c:\\Users\\abidi\\AppData\\Local\\Programs\\Python\\Python310\\lib\\site-packages\\sklearn\\base.py:402: UserWarning:\n",
      "\n",
      "X has feature names, but PowerTransformer was fitted without feature names\n",
      "\n"
     ]
    }
   ],
   "source": [
    "from sklearn.preprocessing import PowerTransformer\n",
    "\n",
    "#new_df = pd.DataFrame(data={feature_name:gk_all_stats[feature_name]})\n",
    "df_array = df.to_numpy() \n",
    "pt = PowerTransformer()\n",
    "pt.fit(df_array)\n",
    "transformed_df = pt.transform(df)"
   ]
  },
  {
   "cell_type": "code",
   "execution_count": null,
   "metadata": {},
   "outputs": [
    {
     "data": {
      "image/png": "[encoded data removed]",
      "text/plain": [
       "<Figure size 432x288 with 1 Axes>"
      ]
     },
     "metadata": {
      "needs_background": "light"
     },
     "output_type": "display_data"
    }
   ],
   "source": [
    "new_t_df = pd.DataFrame(transformed_df, columns = feature_columns)\n",
    "ax = new_t_df.plot.hist(bins=12, alpha=0.5)"
   ]
  },
  {
   "cell_type": "code",
   "execution_count": null,
   "metadata": {},
   "outputs": [
    {
     "data": {
      "image/png": "[encoded data removed]",
      "text/plain": [
       "<Figure size 2160x720 with 1 Axes>"
      ]
     },
     "metadata": {
      "needs_background": "light"
     },
     "output_type": "display_data"
    }
   ],
   "source": [
    "fig = plt.figure(figsize=(30,10))\n",
    "\n",
    "clustering_transformed = AgglomerativeClustering(n_clusters=5).fit(transformed_df)\n",
    "## pick 10 random players. \n",
    "colors = ['b','r','g','k','c']\n",
    "for l in range(5):\n",
    "    names, gk_scores = [],[]\n",
    "    label_indices = np.where(clustering_transformed.labels_==l)[0].tolist()\n",
    "    label_indices = label_indices[:5]\n",
    "    ## I need names and GK_Score\n",
    "    for label_index in label_indices:\n",
    "        try:\n",
    "            name = gk_all_stats.loc[label_index,'Player']\n",
    "            names.append(name[name.index(' ')+1:])\n",
    "            gk_scores.append(gk_all_stats.loc[label_index,'GK_Score'])\n",
    "        except:\n",
    "            continue\n",
    "    plt.scatter(names, gk_scores, c=colors[l])\n",
    "\n",
    "plt.show() "
   ]
  },
  {
   "cell_type": "code",
   "execution_count": null,
   "metadata": {},
   "outputs": [
    {
     "data": {
      "text/plain": [
       "100.0"
      ]
     },
     "execution_count": 46,
     "metadata": {},
     "output_type": "execute_result"
    }
   ],
   "source": [
    "np.count_nonzero(np.in1d(clustering_raw.labels_, clustering_transformed.labels_) == True)/ len(clustering_raw.labels_)*100"
   ]
  },
  {
   "attachments": {},
   "cell_type": "markdown",
   "metadata": {},
   "source": [
    "Check the Correlation between features and the rating"
   ]
  },
  {
   "cell_type": "code",
   "execution_count": null,
   "metadata": {},
   "outputs": [
    {
     "name": "stderr",
     "output_type": "stream",
     "text": [
      "C:\\Users\\abidi\\AppData\\Local\\Temp\\ipykernel_30436\\155654581.py:2: DtypeWarning:\n",
      "\n",
      "Columns (25,108) have mixed types. Specify dtype option on import or set low_memory=False.\n",
      "\n"
     ]
    }
   ],
   "source": [
    "## I need to join FIFA DS and my DS. \n",
    "fifa_22 = pd.read_csv('./data/FIFA_DS/players_22.csv')\n",
    "fifa_22.head()\n",
    "gk_fifa_22 = fifa_22[fifa_22['player_positions']==\"GK\"]\n",
    "relevant_leagues = ['Spain Primera Division', 'German 1. Bundesliga','English Premier League', 'French Ligue 1', 'Italian Serie A']\n",
    "gk_fifa_22 = gk_fifa_22[gk_fifa_22['league_name'].isin(relevant_leagues)]"
   ]
  },
  {
   "cell_type": "code",
   "execution_count": null,
   "metadata": {},
   "outputs": [
    {
     "name": "stdout",
     "output_type": "stream",
     "text": [
      "['Spain Primera Division' 'German 1. Bundesliga' 'English Premier League'\n",
      " 'French Ligue 1' 'Italian Serie A']\n",
      "['es La Liga' 'de Bundesliga' 'eng Premier League' 'fr Ligue 1'\n",
      " 'it Serie A']\n"
     ]
    }
   ],
   "source": [
    "import datetime\n",
    "print(gk_fifa_22['league_name'].unique())\n",
    "\n",
    "gk_fifa_22['league_name'].replace('Spain Primera Division','es La Liga',inplace=True)\n",
    "gk_fifa_22['league_name'].replace('German 1. Bundesliga','de Bundesliga',inplace=True)\n",
    "gk_fifa_22['league_name'].replace('English Premier League','eng Premier League',inplace=True)\n",
    "gk_fifa_22['league_name'].replace('French Ligue 1','fr Ligue 1',inplace=True)\n",
    "gk_fifa_22['league_name'].replace('Italian Serie A','it Serie A',inplace=True)\n",
    "\n",
    "print(gk_fifa_22['league_name'].unique())\n",
    "fifa_gk_columns = ['short_name','long_name','player_positions','overall','club_name','age','dob','height_cm','weight_kg','league_name','club_position',\\\n",
    "                'nationality_name','pace','shooting','passing','skill_long_passing','skill_ball_control','power_shot_power','power_jumping','power_stamina',\\\n",
    "                'power_strength','power_long_shots','mentality_aggression','mentality_positioning','mentality_vision','mentality_penalties',\\\n",
    "                'mentality_composure','goalkeeping_diving','goalkeeping_handling','goalkeeping_kicking','goalkeeping_positioning','goalkeeping_reflexes',\\\n",
    "                'goalkeeping_speed']\n",
    "gk_fifa_22= gk_fifa_22[fifa_gk_columns]\n",
    "gk_fifa_22['birth_year'] = gk_fifa_22['dob'].apply(lambda x: x[:x.index('-')])\n",
    "gk_fifa_22['birth_year'] = gk_fifa_22['birth_year'].astype(int)"
   ]
  },
  {
   "cell_type": "code",
   "execution_count": null,
   "metadata": {},
   "outputs": [
    {
     "name": "stderr",
     "output_type": "stream",
     "text": [
      "C:\\Users\\abidi\\AppData\\Local\\Temp\\ipykernel_30436\\1859160485.py:3: SettingWithCopyWarning:\n",
      "\n",
      "\n",
      "A value is trying to be set on a copy of a slice from a DataFrame\n",
      "\n",
      "See the caveats in the documentation: https://pandas.pydata.org/pandas-docs/stable/user_guide/indexing.html#returning-a-view-versus-a-copy\n",
      "\n"
     ]
    }
   ],
   "source": [
    "# merge FBREF & FIFA DATA\n",
    "gk_all_stats['short_version'] = gk_all_stats['Player'] \n",
    "gk_all_stats['short_version'][gk_all_stats['short_version'].str.contains(\" \")] = gk_all_stats[gk_all_stats['short_version'].str.contains(\" \")]['short_version'].apply(lambda x: x[0] + \". \" + x[x.index(' ')+1:])\n",
    "\n",
    "gk_merged_stats = pd.merge(gk_all_stats,gk_fifa_22, left_on=['short_version', 'Born', 'Comp'], right_on=['short_name','birth_year','league_name'],how='inner')"
   ]
  },
  {
   "cell_type": "code",
   "execution_count": null,
   "metadata": {},
   "outputs": [
    {
     "data": {
      "text/plain": [
       "121"
      ]
     },
     "execution_count": 50,
     "metadata": {},
     "output_type": "execute_result"
    }
   ],
   "source": [
    "len(gk_all_stats['Player'].unique().tolist())"
   ]
  },
  {
   "cell_type": "code",
   "execution_count": null,
   "metadata": {},
   "outputs": [
    {
     "data": {
      "text/plain": [
       "92"
      ]
     },
     "execution_count": 51,
     "metadata": {},
     "output_type": "execute_result"
    }
   ],
   "source": [
    "len(gk_merged_stats['Player'].unique().tolist())"
   ]
  },
  {
   "cell_type": "code",
   "execution_count": null,
   "metadata": {},
   "outputs": [
    {
     "data": {
      "text/plain": [
       "93"
      ]
     },
     "execution_count": 56,
     "metadata": {},
     "output_type": "execute_result"
    }
   ],
   "source": [
    "gk_merged_stats['Player'].count()"
   ]
  },
  {
   "cell_type": "code",
   "execution_count": null,
   "metadata": {},
   "outputs": [
    {
     "name": "stdout",
     "output_type": "stream",
     "text": [
      "['index', 'Player', 'Nation', 'Pos', 'Squad', 'Comp', 'Age', 'Playing Time_MP', 'Playing Time_Min', 'Performance_GA', 'Performance_GA90', 'Performance_Save%', 'Performance_CS', 'Performance_CS%', 'Penalty Kicks_PKatt', 'Penalty Kicks_PKA', 'Penalty Kicks_PKsv', 'Penalty Kicks_PKm', 'Born', 'Performance_CrdY', 'Performance_CrdR', 'Goals_FK', 'Goals_CK', 'Expected_PSxG', 'Expected_PSxG/SoT', 'Expected_PSxG+/-', 'Expected_/90', 'Launched_Att', 'Launched_Cmp%', 'Goal Kicks_Att', 'Goal Kicks_Launch%', 'Goal Kicks_AvgLen', 'Passes_Att', 'Passes_Launch%', 'Passes_AvgLen', 'Sweeper_#OPA/90', 'Sweeper_AvgDist', 'Crosses_Opp', 'Crosses_Stp%', 'psxg_score', 'saving_ability_score', 'Distribution_Score', 'Ball_Quality_Score', 'Positioning_Score', 'Comp_Score', 'GK_Score', 'short_version', 'short_name', 'long_name', 'player_positions', 'overall', 'club_name', 'age', 'dob', 'height_cm', 'weight_kg', 'league_name', 'club_position', 'nationality_name', 'pace', 'shooting', 'passing', 'skill_long_passing', 'skill_ball_control', 'power_shot_power', 'power_jumping', 'power_stamina', 'power_strength', 'power_long_shots', 'mentality_aggression', 'mentality_positioning', 'mentality_vision', 'mentality_penalties', 'mentality_composure', 'goalkeeping_diving', 'goalkeeping_handling', 'goalkeeping_kicking', 'goalkeeping_positioning', 'goalkeeping_reflexes', 'goalkeeping_speed', 'birth_year']\n"
     ]
    }
   ],
   "source": [
    "print(gk_merged_stats.columns.tolist())"
   ]
  },
  {
   "cell_type": "code",
   "execution_count": null,
   "metadata": {},
   "outputs": [
    {
     "data": {
      "text/plain": [
       "['Édgar Badía',\n",
       " 'Kiko Casilla',\n",
       " 'Leonardo César Jardim',\n",
       " 'Unai Simón',\n",
       " 'Aitor Fernández',\n",
       " 'Cárdenas',\n",
       " 'Manolo Reina',\n",
       " 'Rui Silva',\n",
       " 'Robert Sánchez',\n",
       " 'Pau López',\n",
       " 'Sergio Rico',\n",
       " 'Samir Handanović',\n",
       " 'Edouard Mendy',\n",
       " 'Álex Remiro',\n",
       " 'Álvaro Fernández',\n",
       " 'Andreas Linde',\n",
       " 'David Soria',\n",
       " 'Luigi Sepe',\n",
       " 'Fernando Pacheco',\n",
       " 'Diego López',\n",
       " 'Pepe Reina',\n",
       " 'Vicente Guaita',\n",
       " 'Rui Patrício',\n",
       " 'Sergio Romero',\n",
       " 'David de Gea',\n",
       " 'David Raya',\n",
       " 'José Sá',\n",
       " 'Sergio Herrera',\n",
       " 'Luís Maximiano']"
      ]
     },
     "execution_count": 53,
     "metadata": {},
     "output_type": "execute_result"
    }
   ],
   "source": [
    "merged_players = gk_merged_stats['Player'].unique().tolist()\n",
    "original_players = gk_all_stats['Player'].unique().tolist()\n",
    "missing_players = list(set(original_players)- set(merged_players))\n",
    "missing_players"
   ]
  },
  {
   "cell_type": "code",
   "execution_count": null,
   "metadata": {},
   "outputs": [
    {
     "name": "stderr",
     "output_type": "stream",
     "text": [
      "C:\\Users\\abidi\\AppData\\Local\\Temp\\ipykernel_30436\\246940247.py:7: SettingWithCopyWarning:\n",
      "\n",
      "\n",
      "A value is trying to be set on a copy of a slice from a DataFrame.\n",
      "Try using .loc[row_indexer,col_indexer] = value instead\n",
      "\n",
      "See the caveats in the documentation: https://pandas.pydata.org/pandas-docs/stable/user_guide/indexing.html#returning-a-view-versus-a-copy\n",
      "\n",
      "C:\\Users\\abidi\\AppData\\Local\\Temp\\ipykernel_30436\\246940247.py:8: SettingWithCopyWarning:\n",
      "\n",
      "\n",
      "A value is trying to be set on a copy of a slice from a DataFrame.\n",
      "Try using .loc[row_indexer,col_indexer] = value instead\n",
      "\n",
      "See the caveats in the documentation: https://pandas.pydata.org/pandas-docs/stable/user_guide/indexing.html#returning-a-view-versus-a-copy\n",
      "\n",
      "C:\\Users\\abidi\\AppData\\Local\\Temp\\ipykernel_30436\\246940247.py:9: SettingWithCopyWarning:\n",
      "\n",
      "\n",
      "A value is trying to be set on a copy of a slice from a DataFrame.\n",
      "Try using .loc[row_indexer,col_indexer] = value instead\n",
      "\n",
      "See the caveats in the documentation: https://pandas.pydata.org/pandas-docs/stable/user_guide/indexing.html#returning-a-view-versus-a-copy\n",
      "\n",
      "C:\\Users\\abidi\\AppData\\Local\\Temp\\ipykernel_30436\\246940247.py:10: SettingWithCopyWarning:\n",
      "\n",
      "\n",
      "A value is trying to be set on a copy of a slice from a DataFrame.\n",
      "Try using .loc[row_indexer,col_indexer] = value instead\n",
      "\n",
      "See the caveats in the documentation: https://pandas.pydata.org/pandas-docs/stable/user_guide/indexing.html#returning-a-view-versus-a-copy\n",
      "\n",
      "C:\\Users\\abidi\\AppData\\Local\\Temp\\ipykernel_30436\\246940247.py:11: SettingWithCopyWarning:\n",
      "\n",
      "\n",
      "A value is trying to be set on a copy of a slice from a DataFrame.\n",
      "Try using .loc[row_indexer,col_indexer] = value instead\n",
      "\n",
      "See the caveats in the documentation: https://pandas.pydata.org/pandas-docs/stable/user_guide/indexing.html#returning-a-view-versus-a-copy\n",
      "\n"
     ]
    }
   ],
   "source": [
    "## chosse intuitively relevant features and check their corrolation with the overall value\n",
    "relevant_columns = ['Age','height_cm', 'weight_kg',\n",
    "                    'goalkeeping_diving', 'goalkeeping_handling', 'goalkeeping_kicking','goalkeeping_positioning',\n",
    "                    'goalkeeping_reflexes', 'goalkeeping_speed','overall']\n",
    "gk_features = gk_merged_stats[relevant_columns]\n",
    "\n",
    "gk_features['mental_score'] = gk_merged_stats[['mentality_aggression', 'mentality_positioning', 'mentality_vision', 'mentality_penalties', 'mentality_composure']].mean(axis=1)\n",
    "gk_features['saving_ability_score'] = gk_merged_stats['saving_ability_score'] * gk_merged_stats['Comp_Score']/100 \n",
    "gk_features['Distribution_Score'] = gk_merged_stats['Distribution_Score'] * gk_merged_stats['Comp_Score']/100 \n",
    "gk_features['Ball_Quality_Score'] = gk_merged_stats['Ball_Quality_Score'] * gk_merged_stats['Comp_Score']/100 \n",
    "gk_features['Positioning_Score'] = gk_merged_stats['Positioning_Score'] * gk_merged_stats['Comp_Score']/100 \n",
    "\n",
    "gk_ratings = gk_merged_stats['overall']\n"
   ]
  },
  {
   "cell_type": "code",
   "execution_count": null,
   "metadata": {},
   "outputs": [
    {
     "data": {
      "text/plain": [
       "0.6116076899520164"
      ]
     },
     "execution_count": 84,
     "metadata": {},
     "output_type": "execute_result"
    }
   ],
   "source": [
    "gk_ratings.corr(gk_features['mental_score'])"
   ]
  },
  {
   "cell_type": "code",
   "execution_count": null,
   "metadata": {},
   "outputs": [],
   "source": [
    "# feature_name = 'Sweeper_#OPA/90'\n",
    "# new_t_df = pd.DataFrame(data={feature_name:transformed_df.tolist()})\n",
    "# new_t_df = new_t_df.astype(float)\n",
    "# ax = new_t_df.plot.hist(bins=12, alpha=0.5)"
   ]
  },
  {
   "attachments": {},
   "cell_type": "markdown",
   "metadata": {},
   "source": [
    "## FIFA PLAYER RATING SYSTEM \n",
    "\n",
    "We will build a predictor for FIFA rating. \n",
    "a short introduction for the FIFA player rating system.  \n",
    "There are six main criteria which appear alongside the overall score: speed, shooting, passing, defending, dribbling and physicality. A score for each of these criteria is assigned to every player, and these are used to help calculate an overall rating out of 100. \n",
    "In truth, there are a whole lot more than six criteria by which players ratings are determined. In fact, there are are around a dozen stats which are used to make up their overall score, from a pool of around a 35 options. Each dozen or so selected for a particular player is tailored according to their position."
   ]
  },
  {
   "cell_type": "code",
   "execution_count": null,
   "metadata": {},
   "outputs": [],
   "source": []
  },
  {
   "attachments": {},
   "cell_type": "markdown",
   "metadata": {},
   "source": [
    "Build A Rating Predictor"
   ]
  },
  {
   "cell_type": "code",
   "execution_count": null,
   "metadata": {},
   "outputs": [],
   "source": [
    "## Build a historical dataset: 4 or 5 seasons. \n",
    "## I need to add other features like height"
   ]
  }
 ],
 "metadata": {
  "kernelspec": {
   "display_name": "Python 3.10.2 64-bit",
   "language": "python",
   "name": "python3"
  },
  "language_info": {
   "codemirror_mode": {
    "name": "ipython",
    "version": 3
   },
   "file_extension": ".py",
   "mimetype": "text/x-python",
   "name": "python",
   "nbconvert_exporter": "python",
   "pygments_lexer": "ipython3",
   "version": "3.10.2"
  },
  "orig_nbformat": 4,
  "vscode": {
   "interpreter": {
    "hash": "806c664ca045582bcf0664ed80118c082bb8b4ad123f0515d31fee2030743905"
   }
  }
 },
 "nbformat": 4,
 "nbformat_minor": 2
}
